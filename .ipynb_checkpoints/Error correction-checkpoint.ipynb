{
 "cells": [
  {
   "cell_type": "code",
   "execution_count": 1,
   "metadata": {},
   "outputs": [],
   "source": [
    "import pandas as pd\n",
    "import numpy as np\n",
    "import pandas_market_calendars as mcal\n",
    "from datetime import date, timedelta, datetime\n",
    "import matplotlib.pyplot as plt\n",
    "from IPython.display import clear_output\n",
    "import seaborn as sns"
   ]
  },
  {
   "cell_type": "markdown",
   "metadata": {},
   "source": [
    "# Error 1: Recalculate stderr transition matrix"
   ]
  },
  {
   "cell_type": "code",
   "execution_count": 2,
   "metadata": {},
   "outputs": [],
   "source": [
    "def stderr_tril_qcut(df, q, cusips):\n",
    "    \n",
    "    # get particular cusips\n",
    "    data = df.loc[cusips][cusips].values\n",
    "    lower_tri = data[np.tril_indices(len(data), k=-1)]\n",
    "    \n",
    "    # get stderr of data\n",
    "    stderrs = (lower_tri - np.mean(lower_tri)) / np.std(lower_tri)\n",
    "    \n",
    "    # build bins\n",
    "    # NOTE: we'll ALWAYS need the <-2 and >2 bins, since otherwise the things aren't comparable\n",
    "    intervals = [pd.Interval(elt, elt + 0.5) for elt in np.arange(-2, 2, 0.5)]\n",
    "    intervals = [pd.Interval(-np.inf, -2)] + intervals + [pd.Interval(2, np.inf)]    \n",
    "    intervals = pd.IntervalIndex(intervals)\n",
    "    \n",
    "    discretized = pd.cut(stderrs, intervals, include_lowest=True)\n",
    "    labels = range(1, len(discretized.categories) + 1)\n",
    "    return pd.Series(discretized.rename_categories(labels)).astype(int)\n",
    "\n",
    "def tril_qcut(df, q, cusips):\n",
    "    \n",
    "    # get particular cusips\n",
    "    data = df.loc[cusips][cusips].values\n",
    "    lower_tri = data[np.tril_indices(len(data), k=-1)]\n",
    "    \n",
    "    # NOTE: we're using straight qcut here, so high correlations will be in high quantiles\n",
    "    return pd.qcut(lower_tri, q, labels=range(1, q + 1))"
   ]
  },
  {
   "cell_type": "code",
   "execution_count": 3,
   "metadata": {},
   "outputs": [],
   "source": [
    "def get_transition_matrix(periods, n_quantiles, stderr=False):\n",
    "    transition_matrix = np.zeros((n_quantiles + 1, n_quantiles + 1))\n",
    "    periods = periods[:-2]\n",
    "    n_decades = len(periods) // 20\n",
    "\n",
    "    for per_idx in range(len(periods) - 1):\n",
    "        \n",
    "        # read in correlation matrices\n",
    "        print(f'Adding period {periods[per_idx][0]}...')\n",
    "        clear_output(wait=True)\n",
    "        iter_start = datetime.now()\n",
    "        current_corr = pd.read_csv(f'wrds_results/corr_dump/{periods[per_idx][0]}_corr.csv', index_col=0)\n",
    "        next_corr = pd.read_csv(f'wrds_results/corr_dump/{periods[per_idx + 1][0]}_corr.csv', index_col=0)\n",
    "        \n",
    "        # fix weird string/float error\n",
    "        current_corr.index = current_corr.index.astype('string')\n",
    "        next_corr.index = next_corr.index.astype('string')\n",
    "        \n",
    "        # determine overlap & get data\n",
    "        cusips = current_corr.index[current_corr.index.isin(next_corr.index)]\n",
    "\n",
    "#         try:\n",
    "        \n",
    "        if stderr:\n",
    "            current_q = stderr_tril_qcut(current_corr, n_quantiles, cusips)\n",
    "            next_q = stderr_tril_qcut(next_corr, n_quantiles, cusips)\n",
    "        else:\n",
    "            current_q = tril_qcut(current_corr, n_quantiles, cusips)\n",
    "            next_q = tril_qcut(next_corr, n_quantiles, cusips)\n",
    "        \n",
    "        # build transition matrix\n",
    "        for j in range(len(current_q)):\n",
    "            transition_matrix[current_q[j]][next_q[j]] += 1\n",
    "            \n",
    "        print(f'Period {periods[per_idx][0]} complete in {str(datetime.now() - iter_start)}')\n",
    "\n",
    "        \n",
    "    # normalize transition matrix\n",
    "    overall_matrix = transition_matrix\n",
    "    \n",
    "    for i in range(n_quantiles + 1):\n",
    "        mat_sum = np.sum(overall_matrix[i])\n",
    "        if mat_sum > 0:\n",
    "            overall_matrix[i] /= mat_sum\n",
    "            \n",
    "    return overall_matrix"
   ]
  },
  {
   "cell_type": "code",
   "execution_count": 4,
   "metadata": {},
   "outputs": [],
   "source": [
    "# setup for wrds data\n",
    "def get_days(start_dt, end_dt):\n",
    "    nyse = mcal.get_calendar('NYSE')\n",
    "    return [day.date() for day in nyse.valid_days(start_date=str(start_dt), \n",
    "                                                end_date=str(end_dt))]\n",
    "\n",
    "def get_weeks(start_dt, end_dt):\n",
    "    weeks = []\n",
    "\n",
    "    # get trading days and divide into weeks, rolling over on the given rollover day\n",
    "    current_week = []\n",
    "    days = get_days(start_dt, end_dt)\n",
    "    for i, day in enumerate(days):\n",
    "        # append to current week\n",
    "        current_week.append(day)\n",
    "\n",
    "        #end of the week check\n",
    "        if i+1<len(days):\n",
    "            next_day = days[i+1]\n",
    "            if next_day.weekday() < day.weekday(): #if the next day's weekday comes before the current, then the next_day is in a new week\n",
    "                weeks.append(current_week)\n",
    "                current_week = []\n",
    "            elif (next_day-day).days > 4: #if the condition above didnt pass, check that >4 days didnt pass as well\n",
    "                weeks.append(current_week)\n",
    "                current_week = []\n",
    "\n",
    "    # append final week, even if it wasn't a full week period\n",
    "    if current_week: weeks.append(current_week)\n",
    "\n",
    "    return weeks\n",
    "\n",
    "def get_periods(weeks):\n",
    "    periods = []\n",
    "    start_date = weeks[0][0]\n",
    "    end_date = None\n",
    "    for i in range(len(weeks)-1):\n",
    "        start = weeks[i][0] #this monday\n",
    "        end = weeks[i][-1]  #this friday\n",
    "\n",
    "        next_start = weeks[i+1][0] #next monday\n",
    "        next_end = weeks[i+1][-1]  #next friday\n",
    "\n",
    "        #if the current friday is in december, and the next weeks friday is in january, this is the end of one period\n",
    "        #the very next week will be the very start of the period\\\n",
    "        if end.month == 12 and next_end.month == 1:\n",
    "            end_date = end\n",
    "            periods.append([start_date,end_date])\n",
    "            start_date = next_start\n",
    "        #if the last day is in june, and the next weeks last day is in july, this is the end of one period\n",
    "        #the very next week will be the very start of the period\n",
    "        if end.month == 6 and next_end.month == 7:\n",
    "            end_date = end\n",
    "            periods.append([start_date,end_date])\n",
    "            start_date = next_start\n",
    "    periods.append([start_date, weeks[i+1][-1]])\n",
    "    for i in periods:\n",
    "        i[1] += timedelta(days=3)\n",
    "    return periods\n",
    "\n",
    "def periodToStr(period):\n",
    "    return period[0].strftime(\"%m/%d/%Y\") + \" - \" + period[1].strftime(\"%m/%d/%Y\")"
   ]
  },
  {
   "cell_type": "code",
   "execution_count": 5,
   "metadata": {},
   "outputs": [
    {
     "name": "stdout",
     "output_type": "stream",
     "text": [
      "Period 2018-12-31 complete in 0:03:00.357678\n",
      "Done in 4:46:13.437483\n"
     ]
    }
   ],
   "source": [
    "start_dt = date(1950, 1, 1)\n",
    "end_dt = date(2021, 1, 1)\n",
    "periods = get_periods(get_weeks(start_dt, end_dt))\n",
    "exec_start = datetime.now()\n",
    "transition_matrix = get_transition_matrix(periods, 10, stderr=True)\n",
    "print(f'Done in {str(datetime.now() - exec_start)}')"
   ]
  },
  {
   "cell_type": "code",
   "execution_count": 6,
   "metadata": {},
   "outputs": [
    {
     "name": "stdout",
     "output_type": "stream",
     "text": [
      "Done at 2022-04-19 06:24:19.145853\n"
     ]
    }
   ],
   "source": [
    "print(f'Done at {str(datetime.now())}')"
   ]
  },
  {
   "cell_type": "code",
   "execution_count": 7,
   "metadata": {},
   "outputs": [
    {
     "data": {
      "image/png": "[encoded data removed]",
      "text/plain": [
       "<Figure size 432x288 with 2 Axes>"
      ]
     },
     "metadata": {
      "needs_background": "light"
     },
     "output_type": "display_data"
    }
   ],
   "source": [
    "sns.heatmap(transition_matrix)\n",
    "plt.show()"
   ]
  },
  {
   "cell_type": "code",
   "execution_count": null,
   "metadata": {},
   "outputs": [],
   "source": []
  }
 ],
 "metadata": {
  "kernelspec": {
   "display_name": "Python 3",
   "language": "python",
   "name": "python3"
  },
  "language_info": {
   "codemirror_mode": {
    "name": "ipython",
    "version": 3
   },
   "file_extension": ".py",
   "mimetype": "text/x-python",
   "name": "python",
   "nbconvert_exporter": "python",
   "pygments_lexer": "ipython3",
   "version": "3.8.5"
  }
 },
 "nbformat": 4,
 "nbformat_minor": 4
}
