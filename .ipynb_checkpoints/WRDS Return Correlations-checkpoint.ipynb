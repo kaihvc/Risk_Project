{
 "cells": [
  {
   "cell_type": "markdown",
   "metadata": {},
   "source": [
    "# Return Correlations\n",
    "This notebook is for the next phase of our risk project, assessing the correlation of various stocks' _returns_ over different timeframes. In particular, we want to look at correlations of _weekly returns_ between _each pair_ of companies for _6-month periods._  \n",
    "We'll probably have to re-collect the WRDS data, since we never saved the weekly returns anywhere. This could take a minute."
   ]
  },
  {
   "cell_type": "code",
   "execution_count": 1,
   "metadata": {},
   "outputs": [
    {
     "name": "stdout",
     "output_type": "stream",
     "text": [
      "Loading library list...\n",
      "Done\n"
     ]
    }
   ],
   "source": [
    "import pandas as pd\n",
    "import numpy as np\n",
    "import wrds\n",
    "import pandas_market_calendars as mcal\n",
    "from datetime import date, timedelta, datetime\n",
    "import matplotlib.pyplot as plt\n",
    "from IPython.display import clear_output\n",
    "import seaborn as sns\n",
    "conn = wrds.Connection(wrds_username='kaihvc')"
   ]
  },
  {
   "cell_type": "markdown",
   "metadata": {},
   "source": [
    "## Data collection\n",
    "The following cells re-collect daily return data from the WRDS database and calculate weekly returns from it. It takes about 50 minutes to make the database request and save the file, so it's better just to read the dataframe from disk at `wrds_results/weekly_rets.csv` after the first time."
   ]
  },
  {
   "cell_type": "code",
   "execution_count": 2,
   "metadata": {},
   "outputs": [],
   "source": [
    "# setup for wrds data\n",
    "def get_days(start_dt, end_dt):\n",
    "    nyse = mcal.get_calendar('NYSE')\n",
    "    return [day.date() for day in nyse.valid_days(start_date=str(start_dt), \n",
    "                                                end_date=str(end_dt))]\n",
    "\n",
    "def get_weeks(start_dt, end_dt):\n",
    "    weeks = []\n",
    "\n",
    "    # get trading days and divide into weeks, rolling over on the given rollover day\n",
    "    current_week = []\n",
    "    days = get_days(start_dt, end_dt)\n",
    "    for i, day in enumerate(days):\n",
    "        # append to current week\n",
    "        current_week.append(day)\n",
    "\n",
    "        #end of the week check\n",
    "        if i+1<len(days):\n",
    "            next_day = days[i+1]\n",
    "            if next_day.weekday() < day.weekday(): #if the next day's weekday comes before the current, then the next_day is in a new week\n",
    "                weeks.append(current_week)\n",
    "                current_week = []\n",
    "            elif (next_day-day).days > 4: #if the condition above didnt pass, check that >4 days didnt pass as well\n",
    "                weeks.append(current_week)\n",
    "                current_week = []\n",
    "\n",
    "    # append final week, even if it wasn't a full week period\n",
    "    if current_week: weeks.append(current_week)\n",
    "\n",
    "    return weeks\n",
    "\n",
    "def get_periods(weeks):\n",
    "    periods = []\n",
    "    start_date = weeks[0][0]\n",
    "    end_date = None\n",
    "    for i in range(len(weeks)-1):\n",
    "        start = weeks[i][0] #this monday\n",
    "        end = weeks[i][-1]  #this friday\n",
    "\n",
    "        next_start = weeks[i+1][0] #next monday\n",
    "        next_end = weeks[i+1][-1]  #next friday\n",
    "\n",
    "        #if the current friday is in december, and the next weeks friday is in january, this is the end of one period\n",
    "        #the very next week will be the very start of the period\\\n",
    "        if end.month == 12 and next_end.month == 1:\n",
    "            end_date = end\n",
    "            periods.append([start_date,end_date])\n",
    "            start_date = next_start\n",
    "        #if the last day is in june, and the next weeks last day is in july, this is the end of one period\n",
    "        #the very next week will be the very start of the period\n",
    "        if end.month == 6 and next_end.month == 7:\n",
    "            end_date = end\n",
    "            periods.append([start_date,end_date])\n",
    "            start_date = next_start\n",
    "    periods.append([start_date, weeks[i+1][-1]])\n",
    "    for i in periods:\n",
    "        i[1] += timedelta(days=3)\n",
    "    return periods\n",
    "\n",
    "def periodToStr(period):\n",
    "    return period[0].strftime(\"%m/%d/%Y\") + \" - \" + period[1].strftime(\"%m/%d/%Y\")\n",
    "\n",
    "# initialize company list\n",
    "companies = conn.get_table(library='crsp', table='stocknames')"
   ]
  },
  {
   "cell_type": "code",
   "execution_count": 3,
   "metadata": {},
   "outputs": [],
   "source": [
    "# WRDS database request & processing\n",
    "# build SQL query using inflation-adjusted mcaps\n",
    "\n",
    "# load inflation-adjusted market caps from file (equivalents of 2020 $10mil)\n",
    "def get_cutoffs(filename):\n",
    "    cutoffs = pd.read_csv(filename)[['observation_date', 'Cutoff Value']]\n",
    "    cutoffs['year'] = pd.to_datetime(cutoffs['observation_date']).apply(lambda x: x.year)\n",
    "    cutoffs = cutoffs.set_index('year').drop(columns='observation_date')\n",
    "    return cutoffs\n",
    "\n",
    "# build query, filtering using inflation-adjusted mcap values\n",
    "def build_query(start_dt, end_dt, adjusted_mcaps):\n",
    "    query = f\"SELECT cusip, date, ret, prc, shrout FROM crsp.dsf WHERE date>='{str(start_dt)}' AND date<='{str(end_dt)}' AND (\"\n",
    "    for i, year in enumerate(adjusted_mcaps.loc[start_dt.year:].index):\n",
    "        query += f\"(EXTRACT(YEAR FROM date)={year} AND prc*shrout>={int(adjusted_mcaps.loc[year][0] / 1000)})\"\n",
    "        query += \" OR \" if i < len(adjusted_mcaps.loc[start_dt.year:].index) - 1 else \")\"\n",
    "    return query\n",
    "        \n",
    "# get daily returns\n",
    "def get_returns(start_dt, end_dt, adjusted_mcaps, username='kaihvc'):\n",
    "    conn = wrds.Connection(wrds_username=username)\n",
    "    query = build_query(start_dt, end_dt, adjusted_mcaps)\n",
    "    df = conn.raw_sql(query)\n",
    "    return df\n",
    "\n",
    "# TODO: test for accuracy\n",
    "def pd_process_weekly(df, start_dt, end_dt):\n",
    "    \n",
    "    # get inflation cutoffs (GDPDEF method, courtesy of Dr. Ikenberry)\n",
    "    # unused - atm we're filtering directly in the SQL request\n",
    "#     cutoffs = get_cutoffs('inflation_adjustments.csv')\n",
    "#     df = filter_for_inflation(df, cutoffs)[['ret']]\n",
    "    \n",
    "    # takes ~25-30 min (?) all told; most spent on the aggregation\n",
    "    # group by cusip & weeks, then geometrically expand week groups to get weekly returns\n",
    "    df['date'] = pd.to_datetime(df['date'])\n",
    "    grouper = pd.Grouper(key='date', freq='W-MON')\n",
    "    grouped = df.groupby(by=['cusip', grouper], observed=True)\n",
    "    weekly_rets = grouped.agg({'ret': lambda x: (x + 1).product() - 1})\n",
    "    \n",
    "    return weekly_rets\n",
    "\n",
    "# unused - atm we're filtering directly in the SQL request\n",
    "# def filter_for_inflation(df, infl_cutoffs_by_year):\n",
    "#     if 'date' in df.columns:\n",
    "#         cutoffs = pd.to_datetime(df['date']).apply(lambda x: infl_cutoffs_by_year.loc[x.year])\n",
    "#         keep_indices = (df['prc'] * df['shrout'] * 1000) >= [val[0] for val in cutoffs.values]\n",
    "#         df = df[keep_indices]\n",
    "#     elif 'date' in df.index.names:\n",
    "#         cutoffs = pd.to_datetime(df.index.get_level_values('date')).apply(lambda x: infl_cutoffs_by_year.loc[x.year])\n",
    "#         keep_indices = (df['prc'] * df['shrout']) >= [val[0] for val in cutoffs.values]\n",
    "#         df = df[keep_indices] \n",
    "#     else:\n",
    "#         print(\"Error: df doesn't contain 'date' in index or columns\")\n",
    "        \n",
    "#     return df"
   ]
  },
  {
   "cell_type": "markdown",
   "metadata": {},
   "source": [
    "### Load weekly returns\n",
    "The cells below set the run parameters and load in the weekly returns, controlled by `requery` and `recalc`. If `requery == True`, we query the WRDS database for daily returns again. If `recalc == True`, we also recalculate the weekly returns, using the `daily_rets` dataframe in memory or reading it from disk.  \n",
    "The process is split into multiple cells because I wanted to go out for drinks while the query ran, without coming back to a melted computer if something went wrong during the calculation. _Separation of concerns - all the cool programmers are doing it._"
   ]
  },
  {
   "cell_type": "code",
   "execution_count": 6,
   "metadata": {},
   "outputs": [],
   "source": [
    "# parameters\n",
    "# we'll use the 1950 inflation-adjusted equivalent of a 2020 $10mil mcap minimum, and do more fine-grained filtering later\n",
    "start_dt = date(1950, 1, 1)\n",
    "end_dt = date(2021, 1, 1)\n",
    "# min_cap_1950 = 1133 # $1,133,256 in 1950 = $10mil in 2020; unused atm"
   ]
  },
  {
   "cell_type": "code",
   "execution_count": 5,
   "metadata": {},
   "outputs": [],
   "source": [
    "# query returns\n",
    "requery = False\n",
    "if requery:\n",
    "    exec_start = datetime.now()\n",
    "    print(\"Querying WRDS for daily returns...\")\n",
    "    daily_rets = get_returns(start_dt, end_dt, get_cutoffs('inflation_adjustments.csv'))\n",
    "    print(f\"Query complete in {str(datetime.now() - exec_start)}, writing to disk...\")\n",
    "    stage_start = datetime.now()\n",
    "    daily_rets.to_csv('wrds_results/daily_rets_adjusted_prcshrout.csv')\n",
    "    print(f\"Disk write complete in {str(datetime.now() - stage_start)}\")\n",
    "    print(f\"Download complete in {str(datetime.now() - exec_start)}\")"
   ]
  },
  {
   "cell_type": "code",
   "execution_count": 3,
   "metadata": {
    "scrolled": true
   },
   "outputs": [
    {
     "name": "stdout",
     "output_type": "stream",
     "text": [
      "Weekly returns loaded\n"
     ]
    }
   ],
   "source": [
    "# calculate returns\n",
    "recalc = False\n",
    "if recalc:\n",
    "    if 'daily_rets' not in globals():\n",
    "        print(\"Loading daily returns from file...\")\n",
    "        daily_rets = pd.read_csv('wrds_results/daily_rets_adjusted.csv', index_col=0)\n",
    "    exec_start = datetime.now()\n",
    "    weekly_rets = pd_process_weekly(daily_rets, start_dt, end_dt)\n",
    "    print(f\"Processing complete in {str(datetime.now() - exec_start)}, writing to disk...\")\n",
    "    weekly_rets.to_csv('wrds_results/weekly_rets_adjusted.csv')\n",
    "    print(f'Weekly returns downloaded in {str(datetime.now() - exec_start)}')\n",
    "else:\n",
    "    weekly_rets = pd.read_csv('wrds_results/weekly_rets_adjusted.csv', index_col=[0, 1])\n",
    "    weekly_rets.index = weekly_rets.index.set_levels([weekly_rets.index.levels[0], pd.to_datetime(weekly_rets.index.levels[1])])\n",
    "    print('Weekly returns loaded')"
   ]
  },
  {
   "cell_type": "markdown",
   "metadata": {},
   "source": [
    "## Get market cap at end of january for verification"
   ]
  },
  {
   "cell_type": "code",
   "execution_count": 61,
   "metadata": {},
   "outputs": [],
   "source": [
    "companies = conn.get_table(library='crsp', table='stocknames').set_index('cusip')[['ticker', 'comnam', \n",
    "                                                                               'namedt', 'nameenddt']]"
   ]
  },
  {
   "cell_type": "code",
   "execution_count": null,
   "metadata": {},
   "outputs": [],
   "source": [
    "def get_januaries():\n",
    "    jans = []\n",
    "    for year in range(1950, 2022):\n",
    "        if date(year, 1, 31).weekday() < 5:\n",
    "            jans.append(date(year, 1, 31))\n",
    "        elif date(year, 1, 30).weekday() < 5:\n",
    "            jans.append(date(year, 1, 30))\n",
    "        else:\n",
    "            jans.append(date(year, 1, 29))\n",
    "    return jans"
   ]
  },
  {
   "cell_type": "code",
   "execution_count": 11,
   "metadata": {},
   "outputs": [],
   "source": [
    "df_together = []\n",
    "for jan_date in get_januaries():\n",
    "    temp_df = daily_rets.loc[daily_rets['date'] == jan_date][['cusip', 'prc', 'shrout']]\n",
    "    df_together.append(temp_df)\n",
    "    \n",
    "df_together = pd.concat(df_together, keys=range(1950, 2022))\n",
    "df_together.to_csv('wrds_results/end_of_jan_data.csv')"
   ]
  },
  {
   "cell_type": "code",
   "execution_count": 33,
   "metadata": {},
   "outputs": [],
   "source": [
    "df_together = df_together.set_index([df_together.index.get_level_values(0), 'cusip'])"
   ]
  },
  {
   "cell_type": "code",
   "execution_count": 119,
   "metadata": {},
   "outputs": [],
   "source": [
    "# names = companies.loc[df_together.index.get_level_values(1)]\n",
    "# names\n",
    "import numpy as np\n",
    "\n",
    "names = []\n",
    "for i, row in df_together.iterrows():\n",
    "    select_df = companies.loc[i[1]]\n",
    "    if isinstance(select_df, pd.DataFrame):\n",
    "        select_array = np.logical_and([i[0] >= x.year for x in select_df['namedt']], \n",
    "                                      [i[0] <= x.year for x in select_df['nameenddt']])\n",
    "        selection = select_df[select_array].iloc[0]\n",
    "        names.append(selection['comnam'])\n",
    "#         tickers.append(selection['ticker'])\n",
    "    else:\n",
    "        names.append(select_df['comnam'])\n",
    "#         tickers.append(select_df['ticker'])"
   ]
  },
  {
   "cell_type": "code",
   "execution_count": 126,
   "metadata": {},
   "outputs": [
    {
     "data": {
      "text/html": [
       "<div>\n",
       "<style scoped>\n",
       "    .dataframe tbody tr th:only-of-type {\n",
       "        vertical-align: middle;\n",
       "    }\n",
       "\n",
       "    .dataframe tbody tr th {\n",
       "        vertical-align: top;\n",
       "    }\n",
       "\n",
       "    .dataframe thead th {\n",
       "        text-align: right;\n",
       "    }\n",
       "</style>\n",
       "<table border=\"1\" class=\"dataframe\">\n",
       "  <thead>\n",
       "    <tr style=\"text-align: right;\">\n",
       "      <th></th>\n",
       "      <th></th>\n",
       "      <th>prc</th>\n",
       "      <th>shrout</th>\n",
       "      <th>mcap</th>\n",
       "      <th>names</th>\n",
       "    </tr>\n",
       "    <tr>\n",
       "      <th></th>\n",
       "      <th>cusip</th>\n",
       "      <th></th>\n",
       "      <th></th>\n",
       "      <th></th>\n",
       "      <th></th>\n",
       "    </tr>\n",
       "  </thead>\n",
       "  <tbody>\n",
       "    <tr>\n",
       "      <th rowspan=\"5\" valign=\"top\">1950</th>\n",
       "      <th>39106410</th>\n",
       "      <td>12.500000</td>\n",
       "      <td>1500.0</td>\n",
       "      <td>1.875000e+07</td>\n",
       "      <td>GREAT NORTHERN IRON ORE PPTYS</td>\n",
       "    </tr>\n",
       "    <tr>\n",
       "      <th>39111810</th>\n",
       "      <td>42.750000</td>\n",
       "      <td>3093.0</td>\n",
       "      <td>1.322258e+08</td>\n",
       "      <td>GREAT NORTHERN RAILWAY CO</td>\n",
       "    </tr>\n",
       "    <tr>\n",
       "      <th>39199190</th>\n",
       "      <td>19.750000</td>\n",
       "      <td>1800.0</td>\n",
       "      <td>3.555000e+07</td>\n",
       "      <td>GREAT WESTN SUGAR CO</td>\n",
       "    </tr>\n",
       "    <tr>\n",
       "      <th>40067610</th>\n",
       "      <td>7.875000</td>\n",
       "      <td>410.0</td>\n",
       "      <td>3.228750e+06</td>\n",
       "      <td>GUANTANAMO SUGAR CO</td>\n",
       "    </tr>\n",
       "    <tr>\n",
       "      <th>40237010</th>\n",
       "      <td>14.375000</td>\n",
       "      <td>917.0</td>\n",
       "      <td>1.318188e+07</td>\n",
       "      <td>GULF MOBILE &amp; OHIO RR CO</td>\n",
       "    </tr>\n",
       "    <tr>\n",
       "      <th>...</th>\n",
       "      <th>...</th>\n",
       "      <td>...</td>\n",
       "      <td>...</td>\n",
       "      <td>...</td>\n",
       "      <td>...</td>\n",
       "    </tr>\n",
       "    <tr>\n",
       "      <th rowspan=\"5\" valign=\"top\">2020</th>\n",
       "      <th>79409310</th>\n",
       "      <td>1.380000</td>\n",
       "      <td>21130.0</td>\n",
       "      <td>2.915940e+07</td>\n",
       "      <td>SALEM MEDIA GROUP INC</td>\n",
       "    </tr>\n",
       "    <tr>\n",
       "      <th>65490220</th>\n",
       "      <td>3.880000</td>\n",
       "      <td>663103.0</td>\n",
       "      <td>2.572840e+09</td>\n",
       "      <td>NOKIA CORP</td>\n",
       "    </tr>\n",
       "    <tr>\n",
       "      <th>09248T10</th>\n",
       "      <td>14.430000</td>\n",
       "      <td>7308.0</td>\n",
       "      <td>1.054544e+08</td>\n",
       "      <td>BLACKROCK STRATEGIC MUNICIPAL TR</td>\n",
       "    </tr>\n",
       "    <tr>\n",
       "      <th>25179M10</th>\n",
       "      <td>21.719999</td>\n",
       "      <td>384100.0</td>\n",
       "      <td>8.342652e+09</td>\n",
       "      <td>DEVON ENERGY CORP NEW</td>\n",
       "    </tr>\n",
       "    <tr>\n",
       "      <th>68243Q10</th>\n",
       "      <td>15.190000</td>\n",
       "      <td>35754.0</td>\n",
       "      <td>5.431032e+08</td>\n",
       "      <td>1 800 FLOWERS COM INC</td>\n",
       "    </tr>\n",
       "  </tbody>\n",
       "</table>\n",
       "<p>286453 rows × 4 columns</p>\n",
       "</div>"
      ],
      "text/plain": [
       "                     prc    shrout          mcap  \\\n",
       "     cusip                                         \n",
       "1950 39106410  12.500000    1500.0  1.875000e+07   \n",
       "     39111810  42.750000    3093.0  1.322258e+08   \n",
       "     39199190  19.750000    1800.0  3.555000e+07   \n",
       "     40067610   7.875000     410.0  3.228750e+06   \n",
       "     40237010  14.375000     917.0  1.318188e+07   \n",
       "...                  ...       ...           ...   \n",
       "2020 79409310   1.380000   21130.0  2.915940e+07   \n",
       "     65490220   3.880000  663103.0  2.572840e+09   \n",
       "     09248T10  14.430000    7308.0  1.054544e+08   \n",
       "     25179M10  21.719999  384100.0  8.342652e+09   \n",
       "     68243Q10  15.190000   35754.0  5.431032e+08   \n",
       "\n",
       "                                          names  \n",
       "     cusip                                       \n",
       "1950 39106410     GREAT NORTHERN IRON ORE PPTYS  \n",
       "     39111810         GREAT NORTHERN RAILWAY CO  \n",
       "     39199190              GREAT WESTN SUGAR CO  \n",
       "     40067610               GUANTANAMO SUGAR CO  \n",
       "     40237010          GULF MOBILE & OHIO RR CO  \n",
       "...                                         ...  \n",
       "2020 79409310             SALEM MEDIA GROUP INC  \n",
       "     65490220                        NOKIA CORP  \n",
       "     09248T10  BLACKROCK STRATEGIC MUNICIPAL TR  \n",
       "     25179M10             DEVON ENERGY CORP NEW  \n",
       "     68243Q10             1 800 FLOWERS COM INC  \n",
       "\n",
       "[286453 rows x 4 columns]"
      ]
     },
     "execution_count": 126,
     "metadata": {},
     "output_type": "execute_result"
    }
   ],
   "source": [
    "df_together"
   ]
  },
  {
   "cell_type": "markdown",
   "metadata": {},
   "source": [
    "## Calculate 6-month correlations\n",
    "The following cells calculate return correlations over ~6-month periods from the weekly returns. Note that this generates a correlation matrix _for each period_, so it might take a _while_.\n",
    "\n",
    "We apply the same filter for each period, requiring it to have at least 20/26 weeks from each period to be included in the correlation matrix. _Only stocks which pass the filter are found in the correlation matrix,_ meaning that it's possible for correlation matrices from different periods to have different sizes (though all will be square)."
   ]
  },
  {
   "cell_type": "code",
   "execution_count": 8,
   "metadata": {},
   "outputs": [],
   "source": [
    "# get specific dataframe indices for each period cause multiindex slicing is incorrigible\n",
    "def get_per_idxs(df, periods):\n",
    "    per_dict = {}\n",
    "    per_idx = 0\n",
    "    per = periods[per_idx]\n",
    "    idx_list = []\n",
    "    for i, idx in enumerate(df.sort_index(level='date').index):\n",
    "        if idx[1].date() < per[1]:\n",
    "            idx_list.append(idx)\n",
    "        else:\n",
    "            per_dict[per_idx] = idx_list\n",
    "            idx_list = []\n",
    "            per_idx += 1\n",
    "            if per_idx >= len(periods):\n",
    "                break\n",
    "            per = periods[per_idx]\n",
    "            \n",
    "    return per_dict\n",
    "\n",
    "# get correlation matrices for each period\n",
    "# accepts weekly returns df, start/end dates, and (inclusive) starting period\n",
    "def get_corrs(df, start_dt, end_dt, start_from=0):\n",
    "    \n",
    "    current_iteration = start_from\n",
    "    periods = get_periods(get_weeks(start_dt, end_dt))\n",
    "    idx_dict = get_per_idxs(df, periods)\n",
    "    num_pers = len(periods)\n",
    "\n",
    "    for i, per in enumerate(periods[start_from:]):\n",
    "        \n",
    "        # timing\n",
    "        iter_start = datetime.now()\n",
    "        \n",
    "        # filter for cusips w/ at least 20\n",
    "#         this should be idx_dict[i] right?\n",
    "        counts = weekly_rets.loc[idx_dict[i]].groupby('cusip').count()\n",
    "        cusips = counts[counts >= 20].dropna().index # TODO: Figure out whether this filter is messing things up\n",
    "        \n",
    "        # select data for period, filter out missing data, and unstack to get df of shape (dates, cusips)\n",
    "        filtered_df = weekly_rets.loc[idx_dict[i]].loc[cusips].unstack(level='cusip')\n",
    "        filtered_df.columns = filtered_df.columns.droplevel(0)\n",
    "        \n",
    "        # calculate correlation matrix & print \n",
    "        corr = filtered_df.corr()\n",
    "        corr.to_csv(f'wrds_results/corr_dump/{str(per[0])}_corr.csv')\n",
    "        print(f'Period {str(per[0])} complete ({i + start_from + 1}/{num_pers}) in {str(datetime.now() - iter_start)}')\n",
    "        clear_output(wait=True)"
   ]
  },
  {
   "cell_type": "code",
   "execution_count": 9,
   "metadata": {},
   "outputs": [
    {
     "name": "stdout",
     "output_type": "stream",
     "text": [
      "Period correlations complete in 1:15:12.391305\n"
     ]
    }
   ],
   "source": [
    "exec_start = datetime.now()\n",
    "get_corrs(weekly_rets, start_dt, end_dt)\n",
    "print(f'Period correlations complete in {str(datetime.now() - exec_start)}')"
   ]
  },
  {
   "cell_type": "code",
   "execution_count": 53,
   "metadata": {},
   "outputs": [],
   "source": [
    "idx_dict = get_per_idxs(weekly_rets, periods)"
   ]
  },
  {
   "cell_type": "code",
   "execution_count": 73,
   "metadata": {},
   "outputs": [],
   "source": [
    "num_stocks = [len(np.unique([elt[0] for elt in idx_dict[i]])) for i in idx_dict]"
   ]
  },
  {
   "cell_type": "code",
   "execution_count": 55,
   "metadata": {},
   "outputs": [],
   "source": [
    "# idxs = get_per_idxs(weekly_rets, get_periods(get_weeks(start_dt, end_dt)))\n",
    "# num_stocks = [len(weekly_rets.loc[idx_dict[idxs[i]]].index.get_level_values(0).unique()) for i in idxs]\n",
    "num_stocks = [len(weekly_rets.loc[idx_dict[i]].index.get_level_values(0).unique()) for i in idx_dict]"
   ]
  },
  {
   "cell_type": "code",
   "execution_count": 74,
   "metadata": {},
   "outputs": [
    {
     "data": {
      "text/plain": [
       "[999,\n",
       " 1013,\n",
       " 1025,\n",
       " 1033,\n",
       " 1036,\n",
       " 1044,\n",
       " 1052,\n",
       " 1047,\n",
       " 1044,\n",
       " 1052,\n",
       " 1064,\n",
       " 1066,\n",
       " 1064,\n",
       " 1066,\n",
       " 1079,\n",
       " 1088,\n",
       " 1083,\n",
       " 1078,\n",
       " 1083,\n",
       " 1094,\n",
       " 1112,\n",
       " 1130,\n",
       " 1139,\n",
       " 1160,\n",
       " 1167,\n",
       " 2042,\n",
       " 2065,\n",
       " 2083,\n",
       " 2111,\n",
       " 2126,\n",
       " 2162,\n",
       " 2184,\n",
       " 2198,\n",
       " 2203,\n",
       " 2216,\n",
       " 2264,\n",
       " 2267,\n",
       " 2277,\n",
       " 2317,\n",
       " 2359,\n",
       " 2404,\n",
       " 2454,\n",
       " 2502,\n",
       " 2555,\n",
       " 2639,\n",
       " 2725,\n",
       " 2739,\n",
       " 2726,\n",
       " 2683,\n",
       " 2622,\n",
       " 2588,\n",
       " 2571,\n",
       " 2585,\n",
       " 2541,\n",
       " 2540,\n",
       " 2527,\n",
       " 2503,\n",
       " 2501,\n",
       " 2451,\n",
       " 2418,\n",
       " 2400,\n",
       " 2391,\n",
       " 2387,\n",
       " 2381,\n",
       " 2349,\n",
       " 2410,\n",
       " 2616,\n",
       " 3101,\n",
       " 3430,\n",
       " 3558,\n",
       " 4312,\n",
       " 4513,\n",
       " 4733,\n",
       " 5078,\n",
       " 5369,\n",
       " 5551,\n",
       " 5448,\n",
       " 5449,\n",
       " 5312,\n",
       " 5253,\n",
       " 5139,\n",
       " 5029,\n",
       " 5011,\n",
       " 5223,\n",
       " 6292,\n",
       " 6677,\n",
       " 7010,\n",
       " 7600,\n",
       " 7952,\n",
       " 8172,\n",
       " 8180,\n",
       " 8469,\n",
       " 8804,\n",
       " 9127,\n",
       " 9163,\n",
       " 9330,\n",
       " 9254,\n",
       " 9062,\n",
       " 8747,\n",
       " 8725,\n",
       " 8650,\n",
       " 8487,\n",
       " 7984,\n",
       " 7596,\n",
       " 7261,\n",
       " 7002,\n",
       " 6813,\n",
       " 6823,\n",
       " 6829,\n",
       " 6894,\n",
       " 6875,\n",
       " 6955,\n",
       " 6949,\n",
       " 7015,\n",
       " 7146,\n",
       " 7174,\n",
       " 7005,\n",
       " 6856,\n",
       " 6541,\n",
       " 6576,\n",
       " 6590,\n",
       " 6638,\n",
       " 6630,\n",
       " 6627,\n",
       " 6609,\n",
       " 6576,\n",
       " 6586,\n",
       " 6705,\n",
       " 6873,\n",
       " 7035,\n",
       " 7068,\n",
       " 7148,\n",
       " 7029,\n",
       " 7039,\n",
       " 7018,\n",
       " 7155,\n",
       " 7300,\n",
       " 7352,\n",
       " 7395,\n",
       " 7420,\n",
       " 7501,\n",
       " 7826]"
      ]
     },
     "execution_count": 74,
     "metadata": {},
     "output_type": "execute_result"
    }
   ],
   "source": [
    "# num_stocks"
   ]
  },
  {
   "cell_type": "code",
   "execution_count": 100,
   "metadata": {},
   "outputs": [
    {
     "data": {
      "image/png": "[encoded data removed]",
      "text/plain": [
       "<Figure size 576x288 with 1 Axes>"
      ]
     },
     "metadata": {
      "needs_background": "light"
     },
     "output_type": "display_data"
    }
   ],
   "source": [
    "fig, ax = plt.subplots(figsize=(8, 4))\n",
    "ax.set_title(\"Number of stocks in dataset over time\")\n",
    "ax.set_xlabel(\"Time\")\n",
    "ax.set_ylabel(\"Number of stocks\")\n",
    "\n",
    "max_per = np.argmax(num_stocks)\n",
    "max_stocks = np.max(num_stocks)\n",
    "min_stocks = np.min(num_stocks)\n",
    "ax.vlines(max_per, 1000, max_stocks + 100, color='red', label=f'maximum in {int(1950 + max_per / 2)}')\n",
    "\n",
    "ax.set_yticks([min_stocks, 2000, 4000, 6000, 8000, max_stocks])\n",
    "ax.set_yticklabels([min_stocks, 2000, 4000, 6000, 8000, max_stocks])\n",
    "\n",
    "xticks = [0, 20, 40, 60, 80, 100, 120, 140]\n",
    "labels = [int(1950 + xtick / 2) for xtick in xticks]\n",
    "ax.set_xticks(xticks)\n",
    "ax.set_xticklabels(labels)\n",
    "\n",
    "ax.plot(num_stocks, label='# of stocks')\n",
    "ax.legend()\n",
    "plt.show()"
   ]
  },
  {
   "cell_type": "markdown",
   "metadata": {},
   "source": [
    "## Concatenating correlations\n",
    "The following few cells concatenate the calculated correlations into a single multiindexed dataframe. This makes it much easier to manipulate the data for various flexible purposes."
   ]
  },
  {
   "cell_type": "code",
   "execution_count": 18,
   "metadata": {},
   "outputs": [],
   "source": [
    "def concatenate_corrs(periods):\n",
    "    corrs_master = []\n",
    "    for period in periods:\n",
    "        idx = period[0]\n",
    "        \n",
    "        corr = pd.read_csv(f'wrds_results/corr_dump/{idx}_corr.csv', index_col=0)\n",
    "        corrs_master.append(corr)\n",
    "        \n",
    "        print(f'Period {period[0]} complete')\n",
    "        \n",
    "        clear_output(wait=True)\n",
    "    \n",
    "    print('Concatenating...')\n",
    "    return pd.concat(corrs_master, keys=[per[0] for per in periods])"
   ]
  },
  {
   "cell_type": "code",
   "execution_count": null,
   "metadata": {},
   "outputs": [],
   "source": [
    "start_dt = date(1950, 1, 1)\n",
    "end_dt = date(2021, 1, 1)"
   ]
  },
  {
   "cell_type": "code",
   "execution_count": null,
   "metadata": {},
   "outputs": [],
   "source": [
    "exec_start = datetime.now()\n",
    "periods = get_periods(get_weeks(start_dt, end_dt))\n",
    "all_corrs = concatenate_corrs(periods)\n",
    "print(f'Done in {str(datetime.now() - exec_start)}')"
   ]
  },
  {
   "cell_type": "code",
   "execution_count": null,
   "metadata": {},
   "outputs": [],
   "source": [
    "all_corrs.to_csv('wrds_results/all_corrs.csv')"
   ]
  },
  {
   "cell_type": "markdown",
   "metadata": {},
   "source": [
    "TODO\n",
    "- Transition matrix/heatmap as table (round to ~3 decimals or so), so we have a way to look at the numbers instead of just colors"
   ]
  },
  {
   "cell_type": "markdown",
   "metadata": {},
   "source": [
    "## Markov modeling\n",
    "Our transition matrix generation function will require some updates, since we're doing it for state matrices instead of state vectors. However, this shouldn't be too difficult; our main considerations will be:\n",
    "- Removing the upper-triangular & diagonal portion of the matrix, so we only consider our _actual_ data, and only consider it _once_\n",
    "- Matching cusips between periods - we'll naturally have a few dropouts between periods, and the concatenation process means the matrix won't be completely square, so this will simply take some conscientiousness."
   ]
  },
  {
   "cell_type": "code",
   "execution_count": 10,
   "metadata": {},
   "outputs": [],
   "source": [
    "def stderr_tril_qcut(df, q, cusips):\n",
    "    \n",
    "    # get particular cusips\n",
    "    data = df.loc[cusips][cusips].values\n",
    "    lower_tri = data[np.tril_indices(len(data), k=-1)]\n",
    "    \n",
    "    # get stderr of data\n",
    "    stderrs = (lower_tri - np.mean(lower_tri)) / np.std(lower_tri)\n",
    "    \n",
    "    # build bins\n",
    "    # NOTE: we'll ALWAYS need the <-2 and >2 bins, since otherwise the things aren't comparable\n",
    "    intervals = [pd.Interval(elt, elt + 0.5) for elt in np.arange(-2, 2, 0.5)]\n",
    "    intervals = [pd.Interval(-np.inf, -2)] + intervals + [pd.Interval(2, np.inf)]    \n",
    "    intervals = pd.IntervalIndex(intervals)\n",
    "    \n",
    "    discretized = pd.cut(stderrs, intervals, include_lowest=True)\n",
    "    labels = range(1, len(discretized.categories) + 1)\n",
    "    return pd.Series(discretized.rename_categories(labels)).astype(int)\n",
    "\n",
    "def tril_qcut(df, q, cusips):\n",
    "    \n",
    "    # get particular cusips\n",
    "    data = df.loc[cusips][cusips].values\n",
    "    lower_tri = data[np.tril_indices(len(data), k=-1)]\n",
    "    \n",
    "    # NOTE: we're using straight qcut here, so high correlations will be in high quantiles\n",
    "    return pd.qcut(lower_tri, q, labels=range(1, q + 1))"
   ]
  },
  {
   "cell_type": "code",
   "execution_count": 24,
   "metadata": {},
   "outputs": [],
   "source": [
    "def get_transition_matrix(periods, n_quantiles, stderr=False):\n",
    "    transition_matrices = []\n",
    "    periods = periods[:-2]\n",
    "    n_decades = len(periods) // 20\n",
    "    for i in range(n_decades):\n",
    "        transition_matrices.append(np.zeros((n_quantiles + 1, n_quantiles + 1)))\n",
    "\n",
    "    for per_idx in range(len(periods) - 1):\n",
    "        \n",
    "        # read in correlation matrices\n",
    "        print(f'Adding period {periods[per_idx][0]}...')\n",
    "        clear_output(wait=True)\n",
    "        iter_start = datetime.now()\n",
    "        current_corr = pd.read_csv(f'wrds_results/corr_dump/{periods[per_idx][0]}_corr.csv', index_col=0)\n",
    "        next_corr = pd.read_csv(f'wrds_results/corr_dump/{periods[per_idx + 1][0]}_corr.csv', index_col=0)\n",
    "        \n",
    "        # fix weird string/float error\n",
    "        current_corr.index = current_corr.index.astype('string')\n",
    "        next_corr.index = next_corr.index.astype('string')\n",
    "        \n",
    "        # determine overlap & get data\n",
    "        cusips = current_corr.index[current_corr.index.isin(next_corr.index)]\n",
    "        try:\n",
    "            if stderr:\n",
    "                current_q = stderr_tril_qcut(current_corr, n_quantiles, cusips)\n",
    "                next_q = stderr_tril_qcut(next_corr, n_quantiles, cusips)\n",
    "            else:\n",
    "                current_q = tril_qcut(current_corr, n_quantiles, cusips)\n",
    "                next_q = tril_qcut(next_corr, n_quantiles, cusips)\n",
    "        except Exception as err:\n",
    "            print(f\"Error in period {periods[per_idx][0]}\")\n",
    "            print(err)\n",
    "#             with open('error_log.txt', 'w') as file:\n",
    "#                 file.write(f\"Fucked up in period {periods[per_idx][0]}:\")\n",
    "#                 file.write(err)\n",
    "        assert len(current_q) == len(next_q), 'Unequal lengths - something is fucked'\n",
    "        \n",
    "        # build transition matrix\n",
    "        for j in range(len(current_q)):\n",
    "            transition_matrices[per_idx // 20][current_q[j]][next_q[j]] += 1\n",
    "            \n",
    "        print(f'Period {periods[per_idx][0]} complete in {str(datetime.now() - iter_start)}')\n",
    "            \n",
    "    # normalize transition matrix\n",
    "    for decade in range(n_decades):\n",
    "        for i in range(n_quantiles + 1):\n",
    "            mat_sum = np.sum(transition_matrices[decade][i])\n",
    "            if mat_sum > 0:\n",
    "                transition_matrices[decade][i] /= mat_sum\n",
    "            \n",
    "    return transition_matrices"
   ]
  },
  {
   "cell_type": "code",
   "execution_count": 25,
   "metadata": {},
   "outputs": [
    {
     "name": "stderr",
     "output_type": "stream",
     "text": [
      "C:\\Users\\Kai\\AppData\\Local\\Temp\\ipykernel_4332\\233648148.py:15: DtypeWarning: Columns (0) have mixed types. Specify dtype option on import or set low_memory=False.\n",
      "  next_corr = pd.read_csv(f'wrds_results/corr_dump/{periods[per_idx + 1][0]}_corr.csv', index_col=0)\n"
     ]
    },
    {
     "name": "stdout",
     "output_type": "stream",
     "text": [
      "Period 2018-12-31 complete in 0:02:15.096022\n",
      "Transition matrix complete in 2:29:58.692916\n"
     ]
    }
   ],
   "source": [
    "# deciles\n",
    "recalc = True\n",
    "if recalc:\n",
    "    start_dt = date(1950, 1, 1)\n",
    "    end_dt = date(2021, 1, 1)\n",
    "    periods = get_periods(get_weeks(start_dt, end_dt))\n",
    "    exec_start = datetime.now()\n",
    "    transition_matrices = get_transition_matrix(periods, 10)\n",
    "    for i, mat in enumerate(transition_matrices):\n",
    "        np.save(f'wrds_results/correlation_transition_deciles_dec{i}', mat)\n",
    "    print(f'Transition matrix complete in {str(datetime.now() - exec_start)}')\n",
    "else:\n",
    "    transition_mat = np.load('wrds_results/correlation_transition_deciles.npy')\n",
    "    sns.heatmap(transition_mat)"
   ]
  },
  {
   "cell_type": "code",
   "execution_count": 26,
   "metadata": {},
   "outputs": [
    {
     "name": "stderr",
     "output_type": "stream",
     "text": [
      "C:\\Users\\Kai\\AppData\\Local\\Temp\\ipykernel_4332\\233648148.py:15: DtypeWarning: Columns (0) have mixed types. Specify dtype option on import or set low_memory=False.\n",
      "  next_corr = pd.read_csv(f'wrds_results/corr_dump/{periods[per_idx + 1][0]}_corr.csv', index_col=0)\n"
     ]
    },
    {
     "name": "stdout",
     "output_type": "stream",
     "text": [
      "Period 2018-12-31 complete in 0:02:40.162935\n",
      "Transition matrix complete in 2:56:23.094326\n"
     ]
    }
   ],
   "source": [
    "# stderr\n",
    "recalc = True\n",
    "if recalc:\n",
    "    start_dt = date(1950, 1, 1)\n",
    "    end_dt = date(2021, 1, 1)\n",
    "    periods = get_periods(get_weeks(start_dt, end_dt))\n",
    "    exec_start = datetime.now()\n",
    "    transition_matrices = get_transition_matrix(periods, 10, stderr=True)\n",
    "    for i, mat in enumerate(transition_matrices):\n",
    "        np.save(f'wrds_results/correlation_transition_stderr_dec{i}', mat)\n",
    "    print(f'Transition matrix complete in {str(datetime.now() - exec_start)}')\n",
    "else:\n",
    "    transition_mat = np.load('wrds_results/correlation_transition_stderr.npy')\n",
    "    sns.heatmap(transition_mat)"
   ]
  },
  {
   "cell_type": "markdown",
   "metadata": {
    "scrolled": true
   },
   "source": [
    "# np.sum(transition_mat[1])"
   ]
  },
  {
   "cell_type": "code",
   "execution_count": 12,
   "metadata": {},
   "outputs": [],
   "source": [
    "pd.DataFrame(transition_mat).round(3).to_csv('wrds_results/transition_mat_stderr_tabular.csv')"
   ]
  },
  {
   "cell_type": "markdown",
   "metadata": {},
   "source": [
    "## Period-varying correlations\n",
    "In the following few cells, we'll investigate how a given stock's correlation with subsequent stocks varies over time, for each stock in the period."
   ]
  },
  {
   "cell_type": "markdown",
   "metadata": {},
   "source": [
    "### Investigation 1: Consecutive periods\n",
    "In this investigation, we'll look at how stock correlations vary between _consecutive_ periods. We expect this to be relatively high, but it's possible we'll find surprises."
   ]
  },
  {
   "cell_type": "code",
   "execution_count": null,
   "metadata": {},
   "outputs": [],
   "source": [
    "per_idxs = [per[0] for per in periods]"
   ]
  },
  {
   "cell_type": "code",
   "execution_count": null,
   "metadata": {},
   "outputs": [],
   "source": [
    "# compute consecutive correlations\n",
    "# there's a better way to do this using groupby but I can't think what it is\n",
    "exec_start = datetime.now()\n",
    "per_dict = dict()\n",
    "for i, per in enumerate(per_idxs[:-1]):\n",
    "    corr_dict = dict()\n",
    "    for cusip in cusips:\n",
    "        corr_dict[cusip] = all_corrs[cusip][per].corr(all_corrs[cusip][per_idxs[i + 1]])\n",
    "    per_dict[per] = corr_dict\n",
    "\n",
    "df_consecutive = pd.DataFrame(per_dict)\n",
    "print(f'Complete in {str(datetime.now() - exec_start)}')"
   ]
  },
  {
   "cell_type": "code",
   "execution_count": null,
   "metadata": {},
   "outputs": [],
   "source": [
    "df_consecutive.iloc[333].dropna().plot()\n",
    "plt.show()"
   ]
  },
  {
   "cell_type": "markdown",
   "metadata": {},
   "source": [
    "### Investigation 2: Increasing distance\n",
    "In this investigation, we'll look at how stock correlations vary between an initial period and each subsequent period. We can take, for example, a stock's correlation to each other one in the first half of 1960, and correlate it to the second half of 1960. Then we'd correlate the first halves of 1960 and 1961, then the first half of 1960 with the second half of 1961, and so on. (Recall we did this with correlations of standard deviations earlier.) "
   ]
  },
  {
   "cell_type": "code",
   "execution_count": null,
   "metadata": {},
   "outputs": [],
   "source": [
    "# compute correlations over increasing distance\n",
    "exec_start = datetime.now()\n",
    "decade_dict = dict()\n",
    "num_decades = len(per_idxs) // 7\n",
    "decades = [1950 + i * 10 for i in range(num_decades)]\n",
    "for decade in decades:\n",
    "    per_dict = dict()\n",
    "    for per in per_idxs[1:]:\n",
    "        corr_dict = dict()\n",
    "        for cusip in cusips:\n",
    "            corr_dict[cusip] = all_corrs[cusip][per_idxs[0]].corr(all_corrs[cusip][per])\n",
    "        per_dict[per] = corr_dict\n",
    "\n",
    "    df_consecutive = pd.DataFrame(per_dict)\n",
    "    decade_dict[decade] = df_consecutive\n",
    "print(f'Complete in {str(datetime.now() - exec_start)}')"
   ]
  },
  {
   "cell_type": "code",
   "execution_count": null,
   "metadata": {},
   "outputs": [],
   "source": [
    "decade_dict.keys()"
   ]
  }
 ],
 "metadata": {
  "kernelspec": {
   "display_name": "Python 3 (ipykernel)",
   "language": "python",
   "name": "python3"
  },
  "language_info": {
   "codemirror_mode": {
    "name": "ipython",
    "version": 3
   },
   "file_extension": ".py",
   "mimetype": "text/x-python",
   "name": "python",
   "nbconvert_exporter": "python",
   "pygments_lexer": "ipython3",
   "version": "3.10.2"
  }
 },
 "nbformat": 4,
 "nbformat_minor": 4
}
