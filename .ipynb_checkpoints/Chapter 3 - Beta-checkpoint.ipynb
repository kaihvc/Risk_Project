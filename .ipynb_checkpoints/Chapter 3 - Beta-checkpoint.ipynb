{
 "cells": [
  {
   "cell_type": "markdown",
   "metadata": {},
   "source": [
    "# Volatility Analysis\n",
    "This notebook adresses Chapter 3 of our research project, namely analyzing the stability of stock beta (exposure to the market) over time."
   ]
  },
  {
   "cell_type": "code",
   "execution_count": 1,
   "metadata": {},
   "outputs": [],
   "source": [
    "import pandas as pd\n",
    "import numpy as np\n",
    "# import scipy.stats as stats\n",
    "# import wrds\n",
    "# import pandas_market_calendars as mcal\n",
    "from datetime import date, timedelta, datetime\n",
    "# import matplotlib.pyplot as plt\n",
    "# import seaborn as sns\n",
    "from IPython.display import clear_output\n",
    "# conn = wrds.Connection(wrds_username='kaihvc')"
   ]
  },
  {
   "cell_type": "markdown",
   "metadata": {},
   "source": [
    "## Data Collection\n",
    "The goal of this section is to generate a dataset of weekly returns (Fri-Fri) for each stock in our universe."
   ]
  },
  {
   "cell_type": "markdown",
   "metadata": {},
   "source": [
    "### Querying WRDS for Daily Returns\n",
    "We query the WRDS CRSP stock database for daily returns for any stock with a 2020 $10mil market cap (adjusted for inflation using the GDP deflator)"
   ]
  },
  {
   "cell_type": "code",
   "execution_count": 2,
   "metadata": {},
   "outputs": [],
   "source": [
    "# WRDS database request & processing\n",
    "# build SQL query using inflation-adjusted mcaps\n",
    "\n",
    "# load inflation-adjusted market caps from file (equivalents of 2020 $10mil)\n",
    "def get_cutoffs(filename):\n",
    "    cutoffs = pd.read_csv(filename)[['observation_date', 'Cutoff Value']]\n",
    "    cutoffs['year'] = pd.to_datetime(cutoffs['observation_date']).apply(lambda x: x.year)\n",
    "    cutoffs = cutoffs.set_index('year').drop(columns='observation_date')\n",
    "    return cutoffs\n",
    "\n",
    "# build query, filtering using inflation-adjusted mcap values\n",
    "def build_query(start_dt, end_dt, adjusted_mcaps):\n",
    "    query = f\"SELECT cusip, date, ret FROM crsp.dsf WHERE date>='{str(start_dt)}' AND date<='{str(end_dt)}' AND (\"\n",
    "    for i, year in enumerate(adjusted_mcaps.loc[start_dt.year:].index):\n",
    "        query += f\"(EXTRACT(YEAR FROM date)={year} AND prc*shrout>={int(adjusted_mcaps.loc[year][0] / 1000)})\"\n",
    "        query += \" OR \" if i < len(adjusted_mcaps.loc[start_dt.year:].index) - 1 else \")\"\n",
    "    return query\n",
    "        \n",
    "# get daily returns\n",
    "def get_returns(start_dt, end_dt, adjusted_mcaps, username='kaihvc'):\n",
    "    conn = wrds.Connection(wrds_username=username)\n",
    "    query = build_query(start_dt, end_dt, adjusted_mcaps)\n",
    "    df = conn.raw_sql(query)\n",
    "    return df"
   ]
  },
  {
   "cell_type": "code",
   "execution_count": 2,
   "metadata": {},
   "outputs": [],
   "source": [
    "# parameters\n",
    "# we'll use the 1950 inflation-adjusted equivalent of a 2020 $10mil mcap minimum, and do more fine-grained filtering later\n",
    "start_dt = date(1950, 1, 1)\n",
    "end_dt = date(2021, 1, 1)"
   ]
  },
  {
   "cell_type": "code",
   "execution_count": 4,
   "metadata": {},
   "outputs": [],
   "source": [
    "# query returns\n",
    "requery = False\n",
    "if requery:\n",
    "    exec_start = datetime.now()\n",
    "    print(\"Querying WRDS for daily returns...\")\n",
    "    daily_rets = get_returns(start_dt, end_dt, get_cutoffs('inflation_adjustments.csv'))\n",
    "    print(f\"Query complete in {str(datetime.now() - exec_start)}, writing to disk...\")\n",
    "    stage_start = datetime.now()\n",
    "    daily_rets.to_csv('wrds_results/daily_rets_adjusted.csv')\n",
    "    print(f\"Disk write complete in {str(datetime.now() - stage_start)}\")\n",
    "    print(f\"Download complete in {str(datetime.now() - exec_start)}\")"
   ]
  },
  {
   "cell_type": "markdown",
   "metadata": {},
   "source": [
    "### Converting Daily Data to Weekly Data\n",
    "To convert our daily data into weekly data, we'll neeed to delineate the weeks (excluding market holidays, defining minimum days, etc.). We'll then geometrically expand each week's daily returns ($r_d$ for each day $d$) to get the weekly return $r_w$ as:  \n",
    "$r_w = ((1 + r_1) \\cdot (1 + r_2) \\cdot (1 + r_3) \\cdot (1 + r_4) \\cdot (1 + r_5)) - 1$ "
   ]
  },
  {
   "cell_type": "code",
   "execution_count": 5,
   "metadata": {},
   "outputs": [],
   "source": [
    "def pd_process_weekly(df, start_dt, end_dt):\n",
    "    \n",
    "    # takes ~25-30 min on my machine (16G, 2.8GHz) all told; most spent on the aggregation\n",
    "    # group by cusip & weeks, then geometrically expand week groups to get weekly returns\n",
    "    df['date'] = pd.to_datetime(df['date'])\n",
    "    grouper = pd.Grouper(key='date', freq='W-MON')\n",
    "    grouped = df.groupby(by=['cusip', grouper], observed=True)\n",
    "    weekly_rets = grouped.agg({'ret': lambda x: (x + 1).product() - 1})\n",
    "    \n",
    "    return weekly_rets"
   ]
  },
  {
   "cell_type": "code",
   "execution_count": 6,
   "metadata": {},
   "outputs": [
    {
     "name": "stdout",
     "output_type": "stream",
     "text": [
      "Weekly returns loaded\n"
     ]
    }
   ],
   "source": [
    "# calculate returns\n",
    "load = True\n",
    "if load:\n",
    "    recalc = False\n",
    "    if recalc:\n",
    "        if 'daily_rets' not in globals():\n",
    "            print(\"Loading daily returns from file...\")\n",
    "            daily_rets = pd.read_csv('wrds_results/daily_rets_adjusted.csv', index_col=0)\n",
    "        exec_start = datetime.now()\n",
    "        weekly_rets = pd_process_weekly(daily_rets, start_dt, end_dt)\n",
    "        print(f\"Processing complete in {str(datetime.now() - exec_start)}, writing to disk...\")\n",
    "        weekly_rets.to_csv('wrds_results/weekly_rets_adjusted.csv')\n",
    "        print(f'Weekly returns downloaded in {str(datetime.now() - exec_start)}')\n",
    "    else:\n",
    "        weekly_rets = pd.read_csv('wrds_results/weekly_rets_adjusted.csv', index_col=[0, 1])\n",
    "        weekly_rets.index = weekly_rets.index.set_levels([weekly_rets.index.levels[0], pd.to_datetime(weekly_rets.index.levels[1])])\n",
    "        print('Weekly returns loaded')"
   ]
  },
  {
   "cell_type": "markdown",
   "metadata": {},
   "source": [
    "## Data Processing\n",
    "Once we have weekly returns, we want to calculate their standard deviations over a ~6-month period for each stock, which will be our primary source of data on the stocks' volatility."
   ]
  },
  {
   "cell_type": "markdown",
   "metadata": {},
   "source": [
    "### Generating 6mo. Standard Deviations\n",
    "Calculating standard deviations is relatively straightforward; the main caveat is generating the periods. We'll be using periods of _approximately_ 26 weeks, with occasional corrections to avoid drift (we want to start as close to the first trading week of the year, or the 26th week of the year, as we can)."
   ]
  },
  {
   "cell_type": "code",
   "execution_count": 3,
   "metadata": {},
   "outputs": [],
   "source": [
    "def get_days(start_dt, end_dt):\n",
    "    nyse = mcal.get_calendar('NYSE')\n",
    "    return [day.date() for day in nyse.valid_days(start_date=str(start_dt), \n",
    "                                                end_date=str(end_dt))]\n",
    "\n",
    "def get_weeks(start_dt, end_dt):\n",
    "    weeks = []\n",
    "\n",
    "    # get trading days and divide into weeks, rolling over on the given rollover day\n",
    "    current_week = []\n",
    "    days = get_days(start_dt, end_dt)\n",
    "    for i, day in enumerate(days):\n",
    "        # append to current week\n",
    "        current_week.append(day)\n",
    "\n",
    "        #end of the week check\n",
    "        if i+1<len(days):\n",
    "            next_day = days[i+1]\n",
    "            if next_day.weekday() < day.weekday(): #if the next day's weekday comes before the current, then the next_day is in a new week\n",
    "                weeks.append(current_week)\n",
    "                current_week = []\n",
    "            elif (next_day-day).days > 4: #if the condition above didnt pass, check that >4 days didnt pass as well\n",
    "                weeks.append(current_week)\n",
    "                current_week = []\n",
    "\n",
    "    # append final week, even if it wasn't a full week period\n",
    "    if current_week: weeks.append(current_week)\n",
    "\n",
    "    return weeks\n",
    "\n",
    "def get_periods(weeks):\n",
    "    periods = []\n",
    "    start_date = weeks[0][0]\n",
    "    end_date = None\n",
    "    for i in range(len(weeks)-1):\n",
    "        start = weeks[i][0] #this monday\n",
    "        end = weeks[i][-1]  #this friday\n",
    "\n",
    "        next_start = weeks[i+1][0] #next monday\n",
    "        next_end = weeks[i+1][-1]  #next friday\n",
    "\n",
    "        #if the current friday is in december, and the next weeks friday is in january, this is the end of one period\n",
    "        #the very next week will be the very start of the period\\\n",
    "        if end.month == 12 and next_end.month == 1:\n",
    "            end_date = end\n",
    "            periods.append([start_date,end_date])\n",
    "            start_date = next_start\n",
    "        #if the last day is in june, and the next weeks last day is in july, this is the end of one period\n",
    "        #the very next week will be the very start of the period\n",
    "        if end.month == 6 and next_end.month == 7:\n",
    "            end_date = end\n",
    "            periods.append([start_date,end_date])\n",
    "            start_date = next_start\n",
    "    periods.append([start_date, weeks[i+1][-1]])\n",
    "    for i in periods:\n",
    "        i[1] += timedelta(days=3)\n",
    "    return periods"
   ]
  },
  {
   "cell_type": "code",
   "execution_count": 8,
   "metadata": {},
   "outputs": [],
   "source": [
    "# calculate standard deviations of ~26 week periods; \n",
    "# must have min_valid_weeks (default 20) out of 26 to be valid\n",
    "def get_6mo_stds(weekly_rets, periods, min_valid_weeks=20):\n",
    "    \n",
    "    num_pers = len(periods)\n",
    "    devs_df_list = []\n",
    "    devs = pd.DataFrame(index=weekly_rets.index.levels[0], columns=['P' + str(i) for i in range(len(periods))])\n",
    "\n",
    "    for i, per in enumerate(periods):\n",
    "        \n",
    "        clear_output(wait=True)\n",
    "        iter_start = datetime.now()\n",
    "\n",
    "        filter_counts = weekly_rets.loc[(slice(None), \n",
    "                                    slice(per[0], \n",
    "                                          per[1] - timedelta(days=1))), \n",
    "                                   :].groupby('cusip').count().rename(columns={'ret': 'count'})\n",
    "        agg_devs = weekly_rets.loc[(slice(None), \n",
    "                                    slice(per[0], \n",
    "                                          per[1] - timedelta(days=1))), \n",
    "                                   :].groupby('cusip').agg(np.std).loc[filter_counts['count'] >= min_valid_weeks]\n",
    "        devs.loc[agg_devs.index, 'P' + str(i)] = agg_devs.values.flatten()\n",
    "        devs_df_list.append(devs)\n",
    "                \n",
    "        iter_time = datetime.now() - iter_start\n",
    "        print(f'Cusip {i + 1}/{num_pers} complete in {str(iter_time)}')\n",
    "        print(f'Est. completion in {str(iter_time * (num_pers - (i + 1)))}')\n",
    "        \n",
    "    try:\n",
    "        devs = pd.concat(devs_df_list).astype(float)\n",
    "        return devs\n",
    "    except MemoryError:\n",
    "        print('Memory error encountered - attempting to remedy by dropping weekly_rets')\n",
    "        del weekly_rets\n",
    "        try:\n",
    "            devs = pd.concat(devs_df_list)\n",
    "            return devs\n",
    "        except MemoryError:\n",
    "            print('Remedy failed - reload weekly_rets and buy more memory!')\n",
    "            return -1\n",
    "    \n",
    "    return -1"
   ]
  },
  {
   "cell_type": "code",
   "execution_count": 2,
   "metadata": {},
   "outputs": [
    {
     "name": "stdout",
     "output_type": "stream",
     "text": [
      "Standard deviations loaded\n"
     ]
    }
   ],
   "source": [
    "recalc = False\n",
    "stacked = True\n",
    "if recalc:\n",
    "    exec_start = datetime.now()\n",
    "    periods = get_periods(get_weeks(start_dt, end_dt))\n",
    "    df_devs = get_6mo_stds(weekly_rets, periods)\n",
    "    print('Writing to file...')\n",
    "    df_devs.to_csv('wrds_results/deviations.csv')\n",
    "    print(f'Done in {str(datetime.now() - exec_start)}')\n",
    "else:\n",
    "    if stacked:\n",
    "        df_devs = pd.read_csv('wrds_results/deviations.csv',index_col=0).iloc[:, :-2].stack().astype(float)\n",
    "        df_devs.to_csv('wrds_results/devs_stacked.csv')\n",
    "    else:\n",
    "        df_devs = pd.read_csv('wrds_results/deviations.csv',index_col=0).iloc[:, :-2]\n",
    "    print('Standard deviations loaded')"
   ]
  },
  {
   "cell_type": "markdown",
   "metadata": {},
   "source": [
    "# Gathering Market Data\n",
    "We need to do the same for the market index overall, so we'll re-query data for value-weighted market indices and group it into weekly segments."
   ]
  },
  {
   "cell_type": "code",
   "execution_count": 9,
   "metadata": {},
   "outputs": [],
   "source": [
    "def beta_process_weekly(df, start_dt, end_dt):\n",
    "    \n",
    "    # takes ~25-30 min on my machine (16G, 2.8GHz) all told; most spent on the aggregation\n",
    "    # group by weeks, then geometrically expand week groups to get weekly market index returns\n",
    "    grouper = pd.Grouper(key='date', freq='W-MON')\n",
    "    grouped = df.groupby(by=grouper, observed=True)\n",
    "    weekly_rets = grouped.agg({'vwretd': lambda x: (x + 1).product() - 1})\n",
    "    \n",
    "    return weekly_rets"
   ]
  },
  {
   "cell_type": "code",
   "execution_count": 7,
   "metadata": {},
   "outputs": [
    {
     "name": "stdout",
     "output_type": "stream",
     "text": [
      "Loaded weekly market index returns\n"
     ]
    }
   ],
   "source": [
    "recalc = False\n",
    "if recalc:\n",
    "    exec_start = datetime.now()\n",
    "    df_market_index = conn.get_table(library='crsp', table='dsi')\n",
    "    df_market_index['date'] = pd.to_datetime(df_market_index['date'])\n",
    "    df_market_index['comp_date'] = [elt.date() for elt in df_market_index['date']]\n",
    "    df_market_index = pd.DataFrame(df_market_index.loc[df_market_index['comp_date'] >= start_dt - timedelta(days=7)][['date', 'vwretd']])\n",
    "\n",
    "    weekly_market = beta_process_weekly(df_market_index, start_dt, end_dt)\n",
    "    weekly_market.to_csv('wrds_results/weekly_market_index_returns.csv')\n",
    "    print(f'Complete in {str(datetime.now() - exec_start)}')\n",
    "else:\n",
    "    weekly_market = pd.read_csv('wrds_results/weekly_market_index_returns.csv', index_col=0)\n",
    "    weekly_market.index = pd.to_datetime(weekly_market.index)\n",
    "    print('Loaded weekly market index returns')"
   ]
  },
  {
   "cell_type": "markdown",
   "metadata": {},
   "source": [
    "# Calculating Market Correlations\n",
    "We'll also need to calculate correlations of each stock's weekly returns with the market index's weekly returns for each 6mo period."
   ]
  },
  {
   "cell_type": "code",
   "execution_count": 5,
   "metadata": {},
   "outputs": [],
   "source": [
    "def get_period_corrs(stock_weekly, market_weekly, periods):\n",
    "    \n",
    "    num_cusips = len(stock_weekly.index.levels[0])\n",
    "    per_starts = pd.to_datetime([per[0] for per in periods] + [periods[-1][1] + timedelta(days=1)])\n",
    "    \n",
    "    cusips = stock_weekly.index.get_level_values(0)\n",
    "    dates = stock_weekly.index.get_level_values(1)\n",
    "    final_df = stock_weekly.groupby([cusips, pd.cut(dates, per_starts, include_lowest=True)])\n",
    "    final_df = final_df.agg({'ret': lambda x: np.corrcoef(x.values, market_weekly.loc[x.index.get_level_values(1)].values.flatten())[0][1]})\n",
    "    \n",
    "    return final_df.rename(columns={'ret': 'corr'})\n",
    "\n",
    "def get_period_stds(market_weekly, periods):\n",
    "    per_starts = pd.to_datetime([per[0] for per in periods] + [periods[-1][1] + timedelta(days=1)])\n",
    "    \n",
    "    dates = market_weekly.index\n",
    "    final_df = market_weekly.groupby(pd.cut(dates, per_starts, include_lowest=True)).std()\n",
    "    \n",
    "    return final_df"
   ]
  },
  {
   "cell_type": "code",
   "execution_count": 10,
   "metadata": {
    "scrolled": false
   },
   "outputs": [
    {
     "name": "stdout",
     "output_type": "stream",
     "text": [
      "Correlations loaded\n",
      "Market standard deviations loaded\n"
     ]
    }
   ],
   "source": [
    "recalc_corrs = False\n",
    "recalc_stds = False\n",
    "if recalc_corrs:\n",
    "    exec_start = datetime.now()\n",
    "    periods = get_periods(get_weeks(start_dt, end_dt))[:-2]\n",
    "    corr_df = get_period_corrs(weekly_rets, weekly_market, periods)\n",
    "    corr_df.to_csv('wrds_results/stock_market_correlations.csv')\n",
    "    print(f'Done in {str(datetime.now() - exec_start)}')\n",
    "else:\n",
    "    corr_df = pd.read_csv('wrds_results/stock_market_correlations.csv', index_col=[0, 1]).rename(columns={'ret': 'corr'})\n",
    "    print('Correlations loaded')\n",
    "    \n",
    "if recalc_stds:\n",
    "    exec_start = datetime.now()\n",
    "    periods = get_periods(get_weeks(start_dt, end_dt))[:-2]\n",
    "    market_stds = get_period_stds(weekly_market, periods)\n",
    "    market_stds.to_csv('wrds_results/market_stds.csv')\n",
    "    print(f'Done in {str(datetime.now() - exec_start)}')\n",
    "else:\n",
    "    market_stds = pd.read_csv('wrds_results/market_stds.csv', index_col=0)\n",
    "    print('Market standard deviations loaded')"
   ]
  },
  {
   "cell_type": "markdown",
   "metadata": {},
   "source": [
    "# Calculating Market Beta\n",
    "Now that we have data for stock-to-market correlations, as well as stock & market standard deviations for each 26-week period, we can calculate the stock's market beta over that period."
   ]
  },
  {
   "cell_type": "code",
   "execution_count": 17,
   "metadata": {},
   "outputs": [
    {
     "name": "stdout",
     "output_type": "stream",
     "text": [
      "<class 'pandas.core.frame.DataFrame'>\n",
      "MultiIndex: 4049920 entries, ('00002130', '(1950-01-02 23:59:59.999999999, 1950-07-03]') to ('Y9530810', '(2019-07-01, 2019-12-31]')\n",
      "Data columns (total 1 columns):\n",
      " #   Column  Dtype  \n",
      "---  ------  -----  \n",
      " 0   corr    float64\n",
      "dtypes: float64(1)\n",
      "memory usage: 176.6+ MB\n"
     ]
    }
   ],
   "source": [
    "corr_df.info()"
   ]
  },
  {
   "cell_type": "code",
   "execution_count": 18,
   "metadata": {},
   "outputs": [
    {
     "name": "stdout",
     "output_type": "stream",
     "text": [
      "<class 'pandas.core.frame.DataFrame'>\n",
      "Index: 4107776 entries, 00002130 to Y9530810\n",
      "Columns: 140 entries, (1950-01-02 23:59:59.999999999, 1950-07-03] to (2019-07-01, 2019-12-31]\n",
      "dtypes: float64(140)\n",
      "memory usage: 4.3+ GB\n"
     ]
    }
   ],
   "source": [
    "df_devs.info()"
   ]
  },
  {
   "cell_type": "code",
   "execution_count": 19,
   "metadata": {},
   "outputs": [
    {
     "name": "stdout",
     "output_type": "stream",
     "text": [
      "<class 'pandas.core.frame.DataFrame'>\n",
      "Index: 140 entries, (1950-01-02 23:59:59.999999999, 1950-07-03] to (2019-07-01, 2019-12-31]\n",
      "Data columns (total 1 columns):\n",
      " #   Column  Non-Null Count  Dtype  \n",
      "---  ------  --------------  -----  \n",
      " 0   vwretd  140 non-null    float64\n",
      "dtypes: float64(1)\n",
      "memory usage: 2.2+ KB\n"
     ]
    }
   ],
   "source": [
    "market_stds.info()"
   ]
  },
  {
   "cell_type": "code",
   "execution_count": 12,
   "metadata": {},
   "outputs": [],
   "source": [
    "# match indices\n",
    "df_devs.columns = corr_df.index.levels[1]"
   ]
  },
  {
   "cell_type": "code",
   "execution_count": 4,
   "metadata": {},
   "outputs": [],
   "source": [
    "def calculate_beta(stock_to_market_corrs, stock_stds, market_stds, copy_safe=True):\n",
    "    if copy_safe:\n",
    "\n",
    "        beta = (stock_to_market_corrs['corr'] * stock_stds.stack(dropna=False))\n",
    "        beta = beta / np.array([market_stds[idx] for idx in beta.index.get_level_values(1)])\n",
    "        \n",
    "        # corr * stockstd / marketstd\n",
    "        \n",
    "    return beta\n",
    "\n",
    "def calculate_beta_piecewise(stock_to_market_corrs, stock_stds, market_stds):\n",
    "    \n",
    "    full_size = len(stock_to_market_corrs)\n",
    "    splits = [0, int(full_size / 4), int(full_size / 2), int(3 * full_size / 4), full_size]\n",
    "    print(f'Calculating beta in {full_size} chunks...')\n",
    "    \n",
    "    for i in range(len(splits) - 1):\n",
    "        beta_chunk = (stock_to_market_corrs['corr'].iloc[splits[i]:splits[i + 1]] * stock_stds[splits[i]:splits[i + 1]])\n",
    "        beta_chunk = beta_chunk / np.array([market_stds[idx] for idx in beta_chunk.index.get_level_values(1)])\n",
    "        beta_chunk.to_csv(f'wrds_results/ch3/chunk{i}.csv')\n",
    "        \n",
    "    print(f'Beta saved to disk in {full_size} chunks')\n",
    "        \n",
    "    # beta = corr * stockstd / marketstd\n",
    "    \n",
    "def concatenate_beta(num_splits):\n",
    "    beta = []\n",
    "    for i in num_splits:\n",
    "        chunk = pd.read_csv(f'wrds_results/ch3/chunk{i}.csv', index_col=[0, 1])\n",
    "        beta.append(chunk)\n",
    "        \n",
    "    beta = pd.concat(beta)"
   ]
  },
  {
   "cell_type": "code",
   "execution_count": 16,
   "metadata": {},
   "outputs": [
    {
     "ename": "MemoryError",
     "evalue": "Unable to allocate 4.28 GiB for an array with shape (575088640,) and data type object",
     "output_type": "error",
     "traceback": [
      "\u001b[1;31m---------------------------------------------------------------------------\u001b[0m",
      "\u001b[1;31mMemoryError\u001b[0m                               Traceback (most recent call last)",
      "\u001b[1;32m<ipython-input-16-573f0d16dde6>\u001b[0m in \u001b[0;36m<module>\u001b[1;34m\u001b[0m\n\u001b[0;32m      1\u001b[0m \u001b[0mrecalc\u001b[0m \u001b[1;33m=\u001b[0m \u001b[1;32mTrue\u001b[0m\u001b[1;33m\u001b[0m\u001b[1;33m\u001b[0m\u001b[0m\n\u001b[0;32m      2\u001b[0m \u001b[1;32mif\u001b[0m \u001b[0mrecalc\u001b[0m\u001b[1;33m:\u001b[0m\u001b[1;33m\u001b[0m\u001b[1;33m\u001b[0m\u001b[0m\n\u001b[1;32m----> 3\u001b[1;33m     \u001b[0mbeta\u001b[0m \u001b[1;33m=\u001b[0m \u001b[0mcalculate_beta\u001b[0m\u001b[1;33m(\u001b[0m\u001b[0mcorr_df\u001b[0m\u001b[1;33m,\u001b[0m \u001b[0mdf_devs\u001b[0m\u001b[1;33m,\u001b[0m \u001b[0mmarket_stds\u001b[0m\u001b[1;33m)\u001b[0m\u001b[1;33m\u001b[0m\u001b[1;33m\u001b[0m\u001b[0m\n\u001b[0m\u001b[0;32m      4\u001b[0m     \u001b[0mbeta\u001b[0m\u001b[1;33m.\u001b[0m\u001b[0mto_csv\u001b[0m\u001b[1;33m(\u001b[0m\u001b[1;34m'wrds_results/beta.csv'\u001b[0m\u001b[1;33m)\u001b[0m\u001b[1;33m\u001b[0m\u001b[1;33m\u001b[0m\u001b[0m\n\u001b[0;32m      5\u001b[0m \u001b[1;31m#     df_beta = combined_df['corr']\u001b[0m\u001b[1;33m\u001b[0m\u001b[1;33m\u001b[0m\u001b[1;33m\u001b[0m\u001b[0m\n",
      "\u001b[1;32m<ipython-input-15-41300b462ef9>\u001b[0m in \u001b[0;36mcalculate_beta\u001b[1;34m(stock_to_market_corrs, stock_stds, market_stds, copy_safe)\u001b[0m\n\u001b[0;32m      5\u001b[0m \u001b[1;31m#         combined_df['market std'] = [market_stds[idx] for idx in combined_df.index.get_level_values(1)]\u001b[0m\u001b[1;33m\u001b[0m\u001b[1;33m\u001b[0m\u001b[1;33m\u001b[0m\u001b[0m\n\u001b[0;32m      6\u001b[0m \u001b[1;33m\u001b[0m\u001b[0m\n\u001b[1;32m----> 7\u001b[1;33m         \u001b[0mbeta\u001b[0m \u001b[1;33m=\u001b[0m \u001b[1;33m(\u001b[0m\u001b[0mstock_to_market_corrs\u001b[0m\u001b[1;33m[\u001b[0m\u001b[1;34m'corr'\u001b[0m\u001b[1;33m]\u001b[0m \u001b[1;33m*\u001b[0m \u001b[0mstock_stds\u001b[0m\u001b[1;33m.\u001b[0m\u001b[0mstack\u001b[0m\u001b[1;33m(\u001b[0m\u001b[0mdropna\u001b[0m\u001b[1;33m=\u001b[0m\u001b[1;32mFalse\u001b[0m\u001b[1;33m)\u001b[0m\u001b[1;33m)\u001b[0m\u001b[1;33m\u001b[0m\u001b[1;33m\u001b[0m\u001b[0m\n\u001b[0m\u001b[0;32m      8\u001b[0m         \u001b[0mbeta\u001b[0m \u001b[1;33m=\u001b[0m \u001b[0mbeta\u001b[0m \u001b[1;33m/\u001b[0m \u001b[0mnp\u001b[0m\u001b[1;33m.\u001b[0m\u001b[0marray\u001b[0m\u001b[1;33m(\u001b[0m\u001b[1;33m[\u001b[0m\u001b[0mmarket_stds\u001b[0m\u001b[1;33m[\u001b[0m\u001b[0midx\u001b[0m\u001b[1;33m]\u001b[0m \u001b[1;32mfor\u001b[0m \u001b[0midx\u001b[0m \u001b[1;32min\u001b[0m \u001b[0mbeta\u001b[0m\u001b[1;33m.\u001b[0m\u001b[0mindex\u001b[0m\u001b[1;33m.\u001b[0m\u001b[0mget_level_values\u001b[0m\u001b[1;33m(\u001b[0m\u001b[1;36m1\u001b[0m\u001b[1;33m)\u001b[0m\u001b[1;33m]\u001b[0m\u001b[1;33m)\u001b[0m\u001b[1;33m\u001b[0m\u001b[1;33m\u001b[0m\u001b[0m\n\u001b[0;32m      9\u001b[0m \u001b[1;33m\u001b[0m\u001b[0m\n",
      "\u001b[1;32mc:\\users\\kaih2\\appdata\\local\\programs\\python\\python38\\lib\\site-packages\\pandas\\core\\ops\\common.py\u001b[0m in \u001b[0;36mnew_method\u001b[1;34m(self, other)\u001b[0m\n\u001b[0;32m     67\u001b[0m         \u001b[0mother\u001b[0m \u001b[1;33m=\u001b[0m \u001b[0mitem_from_zerodim\u001b[0m\u001b[1;33m(\u001b[0m\u001b[0mother\u001b[0m\u001b[1;33m)\u001b[0m\u001b[1;33m\u001b[0m\u001b[1;33m\u001b[0m\u001b[0m\n\u001b[0;32m     68\u001b[0m \u001b[1;33m\u001b[0m\u001b[0m\n\u001b[1;32m---> 69\u001b[1;33m         \u001b[1;32mreturn\u001b[0m \u001b[0mmethod\u001b[0m\u001b[1;33m(\u001b[0m\u001b[0mself\u001b[0m\u001b[1;33m,\u001b[0m \u001b[0mother\u001b[0m\u001b[1;33m)\u001b[0m\u001b[1;33m\u001b[0m\u001b[1;33m\u001b[0m\u001b[0m\n\u001b[0m\u001b[0;32m     70\u001b[0m \u001b[1;33m\u001b[0m\u001b[0m\n\u001b[0;32m     71\u001b[0m     \u001b[1;32mreturn\u001b[0m \u001b[0mnew_method\u001b[0m\u001b[1;33m\u001b[0m\u001b[1;33m\u001b[0m\u001b[0m\n",
      "\u001b[1;32mc:\\users\\kaih2\\appdata\\local\\programs\\python\\python38\\lib\\site-packages\\pandas\\core\\arraylike.py\u001b[0m in \u001b[0;36m__mul__\u001b[1;34m(self, other)\u001b[0m\n\u001b[0;32m    106\u001b[0m     \u001b[1;33m@\u001b[0m\u001b[0munpack_zerodim_and_defer\u001b[0m\u001b[1;33m(\u001b[0m\u001b[1;34m\"__mul__\"\u001b[0m\u001b[1;33m)\u001b[0m\u001b[1;33m\u001b[0m\u001b[1;33m\u001b[0m\u001b[0m\n\u001b[0;32m    107\u001b[0m     \u001b[1;32mdef\u001b[0m \u001b[0m__mul__\u001b[0m\u001b[1;33m(\u001b[0m\u001b[0mself\u001b[0m\u001b[1;33m,\u001b[0m \u001b[0mother\u001b[0m\u001b[1;33m)\u001b[0m\u001b[1;33m:\u001b[0m\u001b[1;33m\u001b[0m\u001b[1;33m\u001b[0m\u001b[0m\n\u001b[1;32m--> 108\u001b[1;33m         \u001b[1;32mreturn\u001b[0m \u001b[0mself\u001b[0m\u001b[1;33m.\u001b[0m\u001b[0m_arith_method\u001b[0m\u001b[1;33m(\u001b[0m\u001b[0mother\u001b[0m\u001b[1;33m,\u001b[0m \u001b[0moperator\u001b[0m\u001b[1;33m.\u001b[0m\u001b[0mmul\u001b[0m\u001b[1;33m)\u001b[0m\u001b[1;33m\u001b[0m\u001b[1;33m\u001b[0m\u001b[0m\n\u001b[0m\u001b[0;32m    109\u001b[0m \u001b[1;33m\u001b[0m\u001b[0m\n\u001b[0;32m    110\u001b[0m     \u001b[1;33m@\u001b[0m\u001b[0munpack_zerodim_and_defer\u001b[0m\u001b[1;33m(\u001b[0m\u001b[1;34m\"__rmul__\"\u001b[0m\u001b[1;33m)\u001b[0m\u001b[1;33m\u001b[0m\u001b[1;33m\u001b[0m\u001b[0m\n",
      "\u001b[1;32mc:\\users\\kaih2\\appdata\\local\\programs\\python\\python38\\lib\\site-packages\\pandas\\core\\series.py\u001b[0m in \u001b[0;36m_arith_method\u001b[1;34m(self, other, op)\u001b[0m\n\u001b[0;32m   5516\u001b[0m     \u001b[1;32mdef\u001b[0m \u001b[0m_arith_method\u001b[0m\u001b[1;33m(\u001b[0m\u001b[0mself\u001b[0m\u001b[1;33m,\u001b[0m \u001b[0mother\u001b[0m\u001b[1;33m,\u001b[0m \u001b[0mop\u001b[0m\u001b[1;33m)\u001b[0m\u001b[1;33m:\u001b[0m\u001b[1;33m\u001b[0m\u001b[1;33m\u001b[0m\u001b[0m\n\u001b[0;32m   5517\u001b[0m         \u001b[0mres_name\u001b[0m \u001b[1;33m=\u001b[0m \u001b[0mops\u001b[0m\u001b[1;33m.\u001b[0m\u001b[0mget_op_result_name\u001b[0m\u001b[1;33m(\u001b[0m\u001b[0mself\u001b[0m\u001b[1;33m,\u001b[0m \u001b[0mother\u001b[0m\u001b[1;33m)\u001b[0m\u001b[1;33m\u001b[0m\u001b[1;33m\u001b[0m\u001b[0m\n\u001b[1;32m-> 5518\u001b[1;33m         \u001b[0mself\u001b[0m\u001b[1;33m,\u001b[0m \u001b[0mother\u001b[0m \u001b[1;33m=\u001b[0m \u001b[0mops\u001b[0m\u001b[1;33m.\u001b[0m\u001b[0malign_method_SERIES\u001b[0m\u001b[1;33m(\u001b[0m\u001b[0mself\u001b[0m\u001b[1;33m,\u001b[0m \u001b[0mother\u001b[0m\u001b[1;33m)\u001b[0m\u001b[1;33m\u001b[0m\u001b[1;33m\u001b[0m\u001b[0m\n\u001b[0m\u001b[0;32m   5519\u001b[0m \u001b[1;33m\u001b[0m\u001b[0m\n\u001b[0;32m   5520\u001b[0m         \u001b[0mlvalues\u001b[0m \u001b[1;33m=\u001b[0m \u001b[0mself\u001b[0m\u001b[1;33m.\u001b[0m\u001b[0m_values\u001b[0m\u001b[1;33m\u001b[0m\u001b[1;33m\u001b[0m\u001b[0m\n",
      "\u001b[1;32mc:\\users\\kaih2\\appdata\\local\\programs\\python\\python38\\lib\\site-packages\\pandas\\core\\ops\\__init__.py\u001b[0m in \u001b[0;36malign_method_SERIES\u001b[1;34m(left, right, align_asobject)\u001b[0m\n\u001b[0;32m    164\u001b[0m                 \u001b[0mright\u001b[0m \u001b[1;33m=\u001b[0m \u001b[0mright\u001b[0m\u001b[1;33m.\u001b[0m\u001b[0mastype\u001b[0m\u001b[1;33m(\u001b[0m\u001b[0mobject\u001b[0m\u001b[1;33m)\u001b[0m\u001b[1;33m\u001b[0m\u001b[1;33m\u001b[0m\u001b[0m\n\u001b[0;32m    165\u001b[0m \u001b[1;33m\u001b[0m\u001b[0m\n\u001b[1;32m--> 166\u001b[1;33m             \u001b[0mleft\u001b[0m\u001b[1;33m,\u001b[0m \u001b[0mright\u001b[0m \u001b[1;33m=\u001b[0m \u001b[0mleft\u001b[0m\u001b[1;33m.\u001b[0m\u001b[0malign\u001b[0m\u001b[1;33m(\u001b[0m\u001b[0mright\u001b[0m\u001b[1;33m,\u001b[0m \u001b[0mcopy\u001b[0m\u001b[1;33m=\u001b[0m\u001b[1;32mFalse\u001b[0m\u001b[1;33m)\u001b[0m\u001b[1;33m\u001b[0m\u001b[1;33m\u001b[0m\u001b[0m\n\u001b[0m\u001b[0;32m    167\u001b[0m \u001b[1;33m\u001b[0m\u001b[0m\n\u001b[0;32m    168\u001b[0m     \u001b[1;32mreturn\u001b[0m \u001b[0mleft\u001b[0m\u001b[1;33m,\u001b[0m \u001b[0mright\u001b[0m\u001b[1;33m\u001b[0m\u001b[1;33m\u001b[0m\u001b[0m\n",
      "\u001b[1;32mc:\\users\\kaih2\\appdata\\local\\programs\\python\\python38\\lib\\site-packages\\pandas\\core\\series.py\u001b[0m in \u001b[0;36malign\u001b[1;34m(self, other, join, axis, level, copy, fill_value, method, limit, fill_axis, broadcast_axis)\u001b[0m\n\u001b[0;32m   4433\u001b[0m         \u001b[0mbroadcast_axis\u001b[0m\u001b[1;33m=\u001b[0m\u001b[1;32mNone\u001b[0m\u001b[1;33m,\u001b[0m\u001b[1;33m\u001b[0m\u001b[1;33m\u001b[0m\u001b[0m\n\u001b[0;32m   4434\u001b[0m     ):\n\u001b[1;32m-> 4435\u001b[1;33m         return super().align(\n\u001b[0m\u001b[0;32m   4436\u001b[0m             \u001b[0mother\u001b[0m\u001b[1;33m,\u001b[0m\u001b[1;33m\u001b[0m\u001b[1;33m\u001b[0m\u001b[0m\n\u001b[0;32m   4437\u001b[0m             \u001b[0mjoin\u001b[0m\u001b[1;33m=\u001b[0m\u001b[0mjoin\u001b[0m\u001b[1;33m,\u001b[0m\u001b[1;33m\u001b[0m\u001b[1;33m\u001b[0m\u001b[0m\n",
      "\u001b[1;32mc:\\users\\kaih2\\appdata\\local\\programs\\python\\python38\\lib\\site-packages\\pandas\\core\\generic.py\u001b[0m in \u001b[0;36malign\u001b[1;34m(self, other, join, axis, level, copy, fill_value, method, limit, fill_axis, broadcast_axis)\u001b[0m\n\u001b[0;32m   8589\u001b[0m             )\n\u001b[0;32m   8590\u001b[0m         \u001b[1;32melif\u001b[0m \u001b[0misinstance\u001b[0m\u001b[1;33m(\u001b[0m\u001b[0mother\u001b[0m\u001b[1;33m,\u001b[0m \u001b[0mABCSeries\u001b[0m\u001b[1;33m)\u001b[0m\u001b[1;33m:\u001b[0m\u001b[1;33m\u001b[0m\u001b[1;33m\u001b[0m\u001b[0m\n\u001b[1;32m-> 8591\u001b[1;33m             return self._align_series(\n\u001b[0m\u001b[0;32m   8592\u001b[0m                 \u001b[0mother\u001b[0m\u001b[1;33m,\u001b[0m\u001b[1;33m\u001b[0m\u001b[1;33m\u001b[0m\u001b[0m\n\u001b[0;32m   8593\u001b[0m                 \u001b[0mjoin\u001b[0m\u001b[1;33m=\u001b[0m\u001b[0mjoin\u001b[0m\u001b[1;33m,\u001b[0m\u001b[1;33m\u001b[0m\u001b[1;33m\u001b[0m\u001b[0m\n",
      "\u001b[1;32mc:\\users\\kaih2\\appdata\\local\\programs\\python\\python38\\lib\\site-packages\\pandas\\core\\generic.py\u001b[0m in \u001b[0;36m_align_series\u001b[1;34m(self, other, join, axis, level, copy, fill_value, method, limit, fill_axis)\u001b[0m\n\u001b[0;32m   8692\u001b[0m                 \u001b[0mjoin_index\u001b[0m\u001b[1;33m,\u001b[0m \u001b[0mlidx\u001b[0m\u001b[1;33m,\u001b[0m \u001b[0mridx\u001b[0m \u001b[1;33m=\u001b[0m \u001b[1;32mNone\u001b[0m\u001b[1;33m,\u001b[0m \u001b[1;32mNone\u001b[0m\u001b[1;33m,\u001b[0m \u001b[1;32mNone\u001b[0m\u001b[1;33m\u001b[0m\u001b[1;33m\u001b[0m\u001b[0m\n\u001b[0;32m   8693\u001b[0m             \u001b[1;32melse\u001b[0m\u001b[1;33m:\u001b[0m\u001b[1;33m\u001b[0m\u001b[1;33m\u001b[0m\u001b[0m\n\u001b[1;32m-> 8694\u001b[1;33m                 join_index, lidx, ridx = self.index.join(\n\u001b[0m\u001b[0;32m   8695\u001b[0m                     \u001b[0mother\u001b[0m\u001b[1;33m.\u001b[0m\u001b[0mindex\u001b[0m\u001b[1;33m,\u001b[0m \u001b[0mhow\u001b[0m\u001b[1;33m=\u001b[0m\u001b[0mjoin\u001b[0m\u001b[1;33m,\u001b[0m \u001b[0mlevel\u001b[0m\u001b[1;33m=\u001b[0m\u001b[0mlevel\u001b[0m\u001b[1;33m,\u001b[0m \u001b[0mreturn_indexers\u001b[0m\u001b[1;33m=\u001b[0m\u001b[1;32mTrue\u001b[0m\u001b[1;33m\u001b[0m\u001b[1;33m\u001b[0m\u001b[0m\n\u001b[0;32m   8696\u001b[0m                 )\n",
      "\u001b[1;32mc:\\users\\kaih2\\appdata\\local\\programs\\python\\python38\\lib\\site-packages\\pandas\\core\\indexes\\base.py\u001b[0m in \u001b[0;36mjoin\u001b[1;34m(self, other, how, level, return_indexers, sort)\u001b[0m\n\u001b[0;32m    205\u001b[0m         \u001b[0msort\u001b[0m\u001b[1;33m:\u001b[0m \u001b[0mbool\u001b[0m \u001b[1;33m=\u001b[0m \u001b[1;32mFalse\u001b[0m\u001b[1;33m,\u001b[0m\u001b[1;33m\u001b[0m\u001b[1;33m\u001b[0m\u001b[0m\n\u001b[0;32m    206\u001b[0m     ):\n\u001b[1;32m--> 207\u001b[1;33m         \u001b[0mjoin_index\u001b[0m\u001b[1;33m,\u001b[0m \u001b[0mlidx\u001b[0m\u001b[1;33m,\u001b[0m \u001b[0mridx\u001b[0m \u001b[1;33m=\u001b[0m \u001b[0mmeth\u001b[0m\u001b[1;33m(\u001b[0m\u001b[0mself\u001b[0m\u001b[1;33m,\u001b[0m \u001b[0mother\u001b[0m\u001b[1;33m,\u001b[0m \u001b[0mhow\u001b[0m\u001b[1;33m=\u001b[0m\u001b[0mhow\u001b[0m\u001b[1;33m,\u001b[0m \u001b[0mlevel\u001b[0m\u001b[1;33m=\u001b[0m\u001b[0mlevel\u001b[0m\u001b[1;33m,\u001b[0m \u001b[0msort\u001b[0m\u001b[1;33m=\u001b[0m\u001b[0msort\u001b[0m\u001b[1;33m)\u001b[0m\u001b[1;33m\u001b[0m\u001b[1;33m\u001b[0m\u001b[0m\n\u001b[0m\u001b[0;32m    208\u001b[0m         \u001b[1;32mif\u001b[0m \u001b[1;32mnot\u001b[0m \u001b[0mreturn_indexers\u001b[0m\u001b[1;33m:\u001b[0m\u001b[1;33m\u001b[0m\u001b[1;33m\u001b[0m\u001b[0m\n\u001b[0;32m    209\u001b[0m             \u001b[1;32mreturn\u001b[0m \u001b[0mjoin_index\u001b[0m\u001b[1;33m\u001b[0m\u001b[1;33m\u001b[0m\u001b[0m\n",
      "\u001b[1;32mc:\\users\\kaih2\\appdata\\local\\programs\\python\\python38\\lib\\site-packages\\pandas\\core\\indexes\\base.py\u001b[0m in \u001b[0;36mjoin\u001b[1;34m(self, other, how, level, return_indexers, sort)\u001b[0m\n\u001b[0;32m   3995\u001b[0m                 \u001b[1;32mreturn\u001b[0m \u001b[0mself\u001b[0m\u001b[1;33m.\u001b[0m\u001b[0m_join_monotonic\u001b[0m\u001b[1;33m(\u001b[0m\u001b[0mother\u001b[0m\u001b[1;33m,\u001b[0m \u001b[0mhow\u001b[0m\u001b[1;33m=\u001b[0m\u001b[0mhow\u001b[0m\u001b[1;33m)\u001b[0m\u001b[1;33m\u001b[0m\u001b[1;33m\u001b[0m\u001b[0m\n\u001b[0;32m   3996\u001b[0m             \u001b[1;32melse\u001b[0m\u001b[1;33m:\u001b[0m\u001b[1;33m\u001b[0m\u001b[1;33m\u001b[0m\u001b[0m\n\u001b[1;32m-> 3997\u001b[1;33m                 \u001b[1;32mreturn\u001b[0m \u001b[0mself\u001b[0m\u001b[1;33m.\u001b[0m\u001b[0m_join_non_unique\u001b[0m\u001b[1;33m(\u001b[0m\u001b[0mother\u001b[0m\u001b[1;33m,\u001b[0m \u001b[0mhow\u001b[0m\u001b[1;33m=\u001b[0m\u001b[0mhow\u001b[0m\u001b[1;33m)\u001b[0m\u001b[1;33m\u001b[0m\u001b[1;33m\u001b[0m\u001b[0m\n\u001b[0m\u001b[0;32m   3998\u001b[0m         elif (\n\u001b[0;32m   3999\u001b[0m             \u001b[0mself\u001b[0m\u001b[1;33m.\u001b[0m\u001b[0mis_monotonic\u001b[0m\u001b[1;33m\u001b[0m\u001b[1;33m\u001b[0m\u001b[0m\n",
      "\u001b[1;32mc:\\users\\kaih2\\appdata\\local\\programs\\python\\python38\\lib\\site-packages\\pandas\\core\\indexes\\base.py\u001b[0m in \u001b[0;36m_join_non_unique\u001b[1;34m(self, other, how)\u001b[0m\n\u001b[0;32m   4122\u001b[0m \u001b[1;33m\u001b[0m\u001b[0m\n\u001b[0;32m   4123\u001b[0m         \u001b[0mlvalues\u001b[0m \u001b[1;33m=\u001b[0m \u001b[0mself\u001b[0m\u001b[1;33m.\u001b[0m\u001b[0m_get_join_target\u001b[0m\u001b[1;33m(\u001b[0m\u001b[1;33m)\u001b[0m\u001b[1;33m\u001b[0m\u001b[1;33m\u001b[0m\u001b[0m\n\u001b[1;32m-> 4124\u001b[1;33m         \u001b[0mrvalues\u001b[0m \u001b[1;33m=\u001b[0m \u001b[0mother\u001b[0m\u001b[1;33m.\u001b[0m\u001b[0m_get_join_target\u001b[0m\u001b[1;33m(\u001b[0m\u001b[1;33m)\u001b[0m\u001b[1;33m\u001b[0m\u001b[1;33m\u001b[0m\u001b[0m\n\u001b[0m\u001b[0;32m   4125\u001b[0m \u001b[1;33m\u001b[0m\u001b[0m\n\u001b[0;32m   4126\u001b[0m         left_idx, right_idx = get_join_indexers(\n",
      "\u001b[1;32mc:\\users\\kaih2\\appdata\\local\\programs\\python\\python38\\lib\\site-packages\\pandas\\core\\indexes\\base.py\u001b[0m in \u001b[0;36m_get_join_target\u001b[1;34m(self)\u001b[0m\n\u001b[0;32m   4415\u001b[0m         \u001b[0mGet\u001b[0m \u001b[0mthe\u001b[0m \u001b[0mndarray\u001b[0m \u001b[0mthat\u001b[0m \u001b[0mwe\u001b[0m \u001b[0mwill\u001b[0m \u001b[1;32mpass\u001b[0m \u001b[0mto\u001b[0m \u001b[0mlibjoin\u001b[0m \u001b[0mfunctions\u001b[0m\u001b[1;33m.\u001b[0m\u001b[1;33m\u001b[0m\u001b[1;33m\u001b[0m\u001b[0m\n\u001b[0;32m   4416\u001b[0m         \"\"\"\n\u001b[1;32m-> 4417\u001b[1;33m         \u001b[1;32mreturn\u001b[0m \u001b[0mself\u001b[0m\u001b[1;33m.\u001b[0m\u001b[0m_get_engine_target\u001b[0m\u001b[1;33m(\u001b[0m\u001b[1;33m)\u001b[0m\u001b[1;33m\u001b[0m\u001b[1;33m\u001b[0m\u001b[0m\n\u001b[0m\u001b[0;32m   4418\u001b[0m \u001b[1;33m\u001b[0m\u001b[0m\n\u001b[0;32m   4419\u001b[0m     \u001b[1;32mdef\u001b[0m \u001b[0m_from_join_target\u001b[0m\u001b[1;33m(\u001b[0m\u001b[0mself\u001b[0m\u001b[1;33m,\u001b[0m \u001b[0mresult\u001b[0m\u001b[1;33m:\u001b[0m \u001b[0mnp\u001b[0m\u001b[1;33m.\u001b[0m\u001b[0mndarray\u001b[0m\u001b[1;33m)\u001b[0m \u001b[1;33m->\u001b[0m \u001b[0mArrayLike\u001b[0m\u001b[1;33m:\u001b[0m\u001b[1;33m\u001b[0m\u001b[1;33m\u001b[0m\u001b[0m\n",
      "\u001b[1;32mc:\\users\\kaih2\\appdata\\local\\programs\\python\\python38\\lib\\site-packages\\pandas\\core\\indexes\\base.py\u001b[0m in \u001b[0;36m_get_engine_target\u001b[1;34m(self)\u001b[0m\n\u001b[0;32m   4409\u001b[0m         \u001b[1;31m# error: Incompatible return value type (got \"Union[ExtensionArray,\u001b[0m\u001b[1;33m\u001b[0m\u001b[1;33m\u001b[0m\u001b[1;33m\u001b[0m\u001b[0m\n\u001b[0;32m   4410\u001b[0m         \u001b[1;31m# ndarray]\", expected \"ndarray\")\u001b[0m\u001b[1;33m\u001b[0m\u001b[1;33m\u001b[0m\u001b[1;33m\u001b[0m\u001b[0m\n\u001b[1;32m-> 4411\u001b[1;33m         \u001b[1;32mreturn\u001b[0m \u001b[0mself\u001b[0m\u001b[1;33m.\u001b[0m\u001b[0m_values\u001b[0m  \u001b[1;31m# type: ignore[return-value]\u001b[0m\u001b[1;33m\u001b[0m\u001b[1;33m\u001b[0m\u001b[0m\n\u001b[0m\u001b[0;32m   4412\u001b[0m \u001b[1;33m\u001b[0m\u001b[0m\n\u001b[0;32m   4413\u001b[0m     \u001b[1;32mdef\u001b[0m \u001b[0m_get_join_target\u001b[0m\u001b[1;33m(\u001b[0m\u001b[0mself\u001b[0m\u001b[1;33m)\u001b[0m \u001b[1;33m->\u001b[0m \u001b[0mnp\u001b[0m\u001b[1;33m.\u001b[0m\u001b[0mndarray\u001b[0m\u001b[1;33m:\u001b[0m\u001b[1;33m\u001b[0m\u001b[1;33m\u001b[0m\u001b[0m\n",
      "\u001b[1;32mc:\\users\\kaih2\\appdata\\local\\programs\\python\\python38\\lib\\site-packages\\pandas\\_libs\\properties.pyx\u001b[0m in \u001b[0;36mpandas._libs.properties.CachedProperty.__get__\u001b[1;34m()\u001b[0m\n",
      "\u001b[1;32mc:\\users\\kaih2\\appdata\\local\\programs\\python\\python38\\lib\\site-packages\\pandas\\core\\indexes\\multi.py\u001b[0m in \u001b[0;36m_values\u001b[1;34m(self)\u001b[0m\n\u001b[0;32m    693\u001b[0m \u001b[1;33m\u001b[0m\u001b[0m\n\u001b[0;32m    694\u001b[0m         \u001b[1;32mfor\u001b[0m \u001b[0mi\u001b[0m \u001b[1;32min\u001b[0m \u001b[0mrange\u001b[0m\u001b[1;33m(\u001b[0m\u001b[0mself\u001b[0m\u001b[1;33m.\u001b[0m\u001b[0mnlevels\u001b[0m\u001b[1;33m)\u001b[0m\u001b[1;33m:\u001b[0m\u001b[1;33m\u001b[0m\u001b[1;33m\u001b[0m\u001b[0m\n\u001b[1;32m--> 695\u001b[1;33m             \u001b[0mvals\u001b[0m \u001b[1;33m=\u001b[0m \u001b[0mself\u001b[0m\u001b[1;33m.\u001b[0m\u001b[0m_get_level_values\u001b[0m\u001b[1;33m(\u001b[0m\u001b[0mi\u001b[0m\u001b[1;33m)\u001b[0m\u001b[1;33m\u001b[0m\u001b[1;33m\u001b[0m\u001b[0m\n\u001b[0m\u001b[0;32m    696\u001b[0m             \u001b[1;32mif\u001b[0m \u001b[0mis_categorical_dtype\u001b[0m\u001b[1;33m(\u001b[0m\u001b[0mvals\u001b[0m\u001b[1;33m.\u001b[0m\u001b[0mdtype\u001b[0m\u001b[1;33m)\u001b[0m\u001b[1;33m:\u001b[0m\u001b[1;33m\u001b[0m\u001b[1;33m\u001b[0m\u001b[0m\n\u001b[0;32m    697\u001b[0m                 \u001b[0mvals\u001b[0m \u001b[1;33m=\u001b[0m \u001b[0mcast\u001b[0m\u001b[1;33m(\u001b[0m\u001b[1;34m\"CategoricalIndex\"\u001b[0m\u001b[1;33m,\u001b[0m \u001b[0mvals\u001b[0m\u001b[1;33m)\u001b[0m\u001b[1;33m\u001b[0m\u001b[1;33m\u001b[0m\u001b[0m\n",
      "\u001b[1;32mc:\\users\\kaih2\\appdata\\local\\programs\\python\\python38\\lib\\site-packages\\pandas\\core\\indexes\\multi.py\u001b[0m in \u001b[0;36m_get_level_values\u001b[1;34m(self, level, unique)\u001b[0m\n\u001b[0;32m   1639\u001b[0m         \u001b[1;32mif\u001b[0m \u001b[0munique\u001b[0m\u001b[1;33m:\u001b[0m\u001b[1;33m\u001b[0m\u001b[1;33m\u001b[0m\u001b[0m\n\u001b[0;32m   1640\u001b[0m             \u001b[0mlevel_codes\u001b[0m \u001b[1;33m=\u001b[0m \u001b[0malgos\u001b[0m\u001b[1;33m.\u001b[0m\u001b[0munique\u001b[0m\u001b[1;33m(\u001b[0m\u001b[0mlevel_codes\u001b[0m\u001b[1;33m)\u001b[0m\u001b[1;33m\u001b[0m\u001b[1;33m\u001b[0m\u001b[0m\n\u001b[1;32m-> 1641\u001b[1;33m         \u001b[0mfilled\u001b[0m \u001b[1;33m=\u001b[0m \u001b[0malgos\u001b[0m\u001b[1;33m.\u001b[0m\u001b[0mtake_nd\u001b[0m\u001b[1;33m(\u001b[0m\u001b[0mlev\u001b[0m\u001b[1;33m.\u001b[0m\u001b[0m_values\u001b[0m\u001b[1;33m,\u001b[0m \u001b[0mlevel_codes\u001b[0m\u001b[1;33m,\u001b[0m \u001b[0mfill_value\u001b[0m\u001b[1;33m=\u001b[0m\u001b[0mlev\u001b[0m\u001b[1;33m.\u001b[0m\u001b[0m_na_value\u001b[0m\u001b[1;33m)\u001b[0m\u001b[1;33m\u001b[0m\u001b[1;33m\u001b[0m\u001b[0m\n\u001b[0m\u001b[0;32m   1642\u001b[0m         \u001b[1;32mreturn\u001b[0m \u001b[0mlev\u001b[0m\u001b[1;33m.\u001b[0m\u001b[0m_shallow_copy\u001b[0m\u001b[1;33m(\u001b[0m\u001b[0mfilled\u001b[0m\u001b[1;33m,\u001b[0m \u001b[0mname\u001b[0m\u001b[1;33m=\u001b[0m\u001b[0mname\u001b[0m\u001b[1;33m)\u001b[0m\u001b[1;33m\u001b[0m\u001b[1;33m\u001b[0m\u001b[0m\n\u001b[0;32m   1643\u001b[0m \u001b[1;33m\u001b[0m\u001b[0m\n",
      "\u001b[1;32mc:\\users\\kaih2\\appdata\\local\\programs\\python\\python38\\lib\\site-packages\\pandas\\core\\array_algos\\take.py\u001b[0m in \u001b[0;36mtake_nd\u001b[1;34m(arr, indexer, axis, fill_value, allow_fill)\u001b[0m\n\u001b[0;32m    106\u001b[0m \u001b[1;33m\u001b[0m\u001b[0m\n\u001b[0;32m    107\u001b[0m     \u001b[0marr\u001b[0m \u001b[1;33m=\u001b[0m \u001b[0mnp\u001b[0m\u001b[1;33m.\u001b[0m\u001b[0masarray\u001b[0m\u001b[1;33m(\u001b[0m\u001b[0marr\u001b[0m\u001b[1;33m)\u001b[0m\u001b[1;33m\u001b[0m\u001b[1;33m\u001b[0m\u001b[0m\n\u001b[1;32m--> 108\u001b[1;33m     \u001b[1;32mreturn\u001b[0m \u001b[0m_take_nd_ndarray\u001b[0m\u001b[1;33m(\u001b[0m\u001b[0marr\u001b[0m\u001b[1;33m,\u001b[0m \u001b[0mindexer\u001b[0m\u001b[1;33m,\u001b[0m \u001b[0maxis\u001b[0m\u001b[1;33m,\u001b[0m \u001b[0mfill_value\u001b[0m\u001b[1;33m,\u001b[0m \u001b[0mallow_fill\u001b[0m\u001b[1;33m)\u001b[0m\u001b[1;33m\u001b[0m\u001b[1;33m\u001b[0m\u001b[0m\n\u001b[0m\u001b[0;32m    109\u001b[0m \u001b[1;33m\u001b[0m\u001b[0m\n\u001b[0;32m    110\u001b[0m \u001b[1;33m\u001b[0m\u001b[0m\n",
      "\u001b[1;32mc:\\users\\kaih2\\appdata\\local\\programs\\python\\python38\\lib\\site-packages\\pandas\\core\\array_algos\\take.py\u001b[0m in \u001b[0;36m_take_nd_ndarray\u001b[1;34m(arr, indexer, axis, fill_value, allow_fill)\u001b[0m\n\u001b[0;32m    145\u001b[0m         \u001b[1;31m# (s.t. df.values is c-contiguous and df._mgr.blocks[0] is its\u001b[0m\u001b[1;33m\u001b[0m\u001b[1;33m\u001b[0m\u001b[1;33m\u001b[0m\u001b[0m\n\u001b[0;32m    146\u001b[0m         \u001b[1;31m# f-contiguous transpose)\u001b[0m\u001b[1;33m\u001b[0m\u001b[1;33m\u001b[0m\u001b[1;33m\u001b[0m\u001b[0m\n\u001b[1;32m--> 147\u001b[1;33m         \u001b[0mout\u001b[0m \u001b[1;33m=\u001b[0m \u001b[0mnp\u001b[0m\u001b[1;33m.\u001b[0m\u001b[0mempty\u001b[0m\u001b[1;33m(\u001b[0m\u001b[0mout_shape\u001b[0m\u001b[1;33m,\u001b[0m \u001b[0mdtype\u001b[0m\u001b[1;33m=\u001b[0m\u001b[0mdtype\u001b[0m\u001b[1;33m,\u001b[0m \u001b[0morder\u001b[0m\u001b[1;33m=\u001b[0m\u001b[1;34m\"F\"\u001b[0m\u001b[1;33m)\u001b[0m\u001b[1;33m\u001b[0m\u001b[1;33m\u001b[0m\u001b[0m\n\u001b[0m\u001b[0;32m    148\u001b[0m     \u001b[1;32melse\u001b[0m\u001b[1;33m:\u001b[0m\u001b[1;33m\u001b[0m\u001b[1;33m\u001b[0m\u001b[0m\n\u001b[0;32m    149\u001b[0m         \u001b[0mout\u001b[0m \u001b[1;33m=\u001b[0m \u001b[0mnp\u001b[0m\u001b[1;33m.\u001b[0m\u001b[0mempty\u001b[0m\u001b[1;33m(\u001b[0m\u001b[0mout_shape\u001b[0m\u001b[1;33m,\u001b[0m \u001b[0mdtype\u001b[0m\u001b[1;33m=\u001b[0m\u001b[0mdtype\u001b[0m\u001b[1;33m)\u001b[0m\u001b[1;33m\u001b[0m\u001b[1;33m\u001b[0m\u001b[0m\n",
      "\u001b[1;31mMemoryError\u001b[0m: Unable to allocate 4.28 GiB for an array with shape (575088640,) and data type object"
     ]
    }
   ],
   "source": [
    "recalc = True\n",
    "if recalc:\n",
    "#     beta = calculate_beta(corr_df, df_devs, market_stds)\n",
    "    calculate_beta_piecewise(corr_df, df_devs, market_stds)\n",
    "#     beta.to_csv('wrds_results/beta.csv')\n",
    "#     df_beta = combined_df['corr']"
   ]
  },
  {
   "cell_type": "code",
   "execution_count": null,
   "metadata": {},
   "outputs": [],
   "source": [
    "print(f'Done at {str(datetime.now())}')"
   ]
  },
  {
   "cell_type": "code",
   "execution_count": null,
   "metadata": {},
   "outputs": [],
   "source": [
    "beta"
   ]
  },
  {
   "cell_type": "markdown",
   "metadata": {},
   "source": [
    "# Ranking Stocks by Volatility\n",
    "Now that we have data for volatility, we want to rank it in order to perform some stability analysis on it. We'll do this using both straight deciles, as well as which portion of the distribution the standard error of each value falls in."
   ]
  },
  {
   "cell_type": "markdown",
   "metadata": {},
   "source": [
    "#### Deciles\n",
    "These are straight decile rankings - each ranking bin (1-10) contains 10% of the data."
   ]
  },
  {
   "cell_type": "code",
   "execution_count": 7,
   "metadata": {},
   "outputs": [],
   "source": [
    "# discretize into 10 bins\n",
    "def discretize(df_devs, stderr=False, waiting_period=0):\n",
    "    \n",
    "    print('Beginning discretization...')\n",
    "    \n",
    "    if waiting_period > 0:\n",
    "        for i, row in df_devs.iterrows():\n",
    "            idxs = row.dropna().index[:waiting_period]\n",
    "            row[idxs] = np.nan\n",
    "            \n",
    "    # BUGFIX 3/24: we shouldn't be dropping columns, because that'll mess up our transitions later on\n",
    "#     df_devs = df_devs.dropna(axis='columns', how='all')\n",
    "    \n",
    "    df_disc = pd.DataFrame(columns=df_devs.columns)\n",
    "    num_cols = len(df_devs.columns)\n",
    "    \n",
    "    if stderr:\n",
    "        intervals = [pd.Interval(elt, elt + 0.5) for elt in np.arange(-2, 2, 0.5)]\n",
    "        intervals = [pd.Interval(-np.inf, -2)] + intervals + [pd.Interval(2, np.inf)]    \n",
    "        intervals = pd.IntervalIndex(intervals)\n",
    "    \n",
    "    for i, col in enumerate(df_devs.columns):\n",
    "        iter_start = datetime.now()\n",
    "        clear_output(wait=True)\n",
    "        \n",
    "        if stderr:\n",
    "            \n",
    "            stderr_col = (df_devs[col] - np.nanmean(df_devs[col])) / np.nanstd(df_devs[col])\n",
    "\n",
    "            ''' \n",
    "                note: it's possible that not every period will include 10 categories, since this\n",
    "                bins by set intervals rather than quantiles of the data itself.\n",
    "            ''' \n",
    "            # all inline cause memory issues - save as much as we can, right?\n",
    "            discretized = pd.cut(stderr_col, intervals, include_lowest=True)\n",
    "            \n",
    "            # BUGFIX 3/24: confirmed that labels are always the same\n",
    "            labels = range(1, 11)\n",
    "            vals = np.array(discretized.cat.rename_categories(labels))\n",
    "        else:\n",
    "            # however, this method *should* always include 10 categories for each period\n",
    "            vals = pd.qcut(df_devs[col], 10, labels=range(1, 11))\n",
    "        \n",
    "        df_disc[col] = vals\n",
    "        \n",
    "        iter_time = datetime.now() - iter_start\n",
    "        print(f'Column {i + 1}/{num_cols} complete in {str(iter_time)}')\n",
    "        print(f'Est. completion in {str(iter_time * (num_cols - (i + 1)))}')\n",
    "        \n",
    "    return df_disc"
   ]
  },
  {
   "cell_type": "code",
   "execution_count": 29,
   "metadata": {},
   "outputs": [
    {
     "name": "stdout",
     "output_type": "stream",
     "text": [
      "Deciles loaded\n"
     ]
    }
   ],
   "source": [
    "load = False\n",
    "recalc = False\n",
    "if load:\n",
    "    if recalc:\n",
    "        exec_start = datetime.now()\n",
    "        df_deciles = discretize(df_devs)\n",
    "        print('Writing to file...')\n",
    "        df_deciles.to_csv('wrds_results/ch1/deciles.csv')\n",
    "        print(f'Done in {str(datetime.now() - exec_start)}')\n",
    "    else:\n",
    "        df_deciles = pd.read_csv('wrds_results/ch1/deciles.csv', index_col=0)\n",
    "        print('Deciles loaded')"
   ]
  },
  {
   "cell_type": "markdown",
   "metadata": {},
   "source": [
    "#### Standard Errors\n",
    "These are rankings depending on which portion of the normal distribution the data fall into, defined by standard deviation. For given data point $d$, the bins are:   $ d < -2 \\sigma, -2 \\sigma < d < -1.5 \\sigma, \\cdots, 1.5 \\sigma < d < 2 \\sigma, 2 \\sigma < d $"
   ]
  },
  {
   "cell_type": "code",
   "execution_count": 2,
   "metadata": {},
   "outputs": [
    {
     "name": "stdout",
     "output_type": "stream",
     "text": [
      "Stderrs loaded\n"
     ]
    }
   ],
   "source": [
    "load = True\n",
    "recalc = False\n",
    "if load:\n",
    "    if recalc:\n",
    "        exec_start = datetime.now()\n",
    "        df_stderrs = discretize(df_devs, stderr=True)\n",
    "        print('Writing to file...')\n",
    "        df_stderrs.to_csv('wrds_results/ch1/stderr.csv')\n",
    "        print(f'Done in {str(datetime.now() - exec_start)}')\n",
    "    else:\n",
    "        df_stderrs = pd.read_csv('wrds_results/ch1/stderr.csv', index_col=0)\n",
    "        print('Stderrs loaded')"
   ]
  },
  {
   "cell_type": "markdown",
   "metadata": {},
   "source": [
    "### Markov Modeling\n",
    "Finally, for our stability analysis, we'll use the discretizations of our data (both deciles/standard errors) as \"states\" and build a Markov model to analyze how stocks transition between bins. We do this for each transition matrix, as well as one final"
   ]
  },
  {
   "cell_type": "code",
   "execution_count": 3,
   "metadata": {},
   "outputs": [],
   "source": [
    "def get_transition_matrix(df, n_quantiles, stderr=False):\n",
    "    transition_matrices = []\n",
    "    periods = [elt[:10] for elt in df.columns]\n",
    "    if not len(periods) % 20 == 0:\n",
    "        periods = periods[:-(len(periods) % 20)]\n",
    "    n_decades = len(periods) // 20\n",
    "    for i in range(n_decades):\n",
    "        transition_matrices.append(np.zeros((n_quantiles + 1, n_quantiles + 1)))\n",
    "                    \n",
    "    # do it again, but column-major cause Pandas\n",
    "    for c_idx in range(len(periods) - 1):\n",
    "        # start iteration\n",
    "        print(f'Adding period {periods[c_idx]}...')\n",
    "        clear_output(wait=True)\n",
    "        iter_start = datetime.now()\n",
    "        \n",
    "        col = df[df.columns[c_idx]]\n",
    "        next_col = df[df.columns[c_idx + 1]]\n",
    "        for r_idx in range(len(df)):\n",
    "            elt = col[r_idx]\n",
    "            next_elt = next_col[r_idx]\n",
    "            if (not np.isnan(elt)) and (not np.isnan(next_elt)):\n",
    "                transition_matrices[c_idx // 20][int(elt)][int(next_elt)] += 1\n",
    "            \n",
    "\n",
    "        print(f'Period {periods[c_idx]} complete in {str(datetime.now() - iter_start)}')\n",
    "        \n",
    "    # row-major cause Dr. Ikenberry doubts my results\n",
    "#     num_rows = len(df)\n",
    "#     for i, row in df.iterrows():\n",
    "#         # start iteration\n",
    "#         print(f'Adding row {i}...')\n",
    "#         clear_output(wait=True)\n",
    "#         iter_start = datetime.now()\n",
    "        \n",
    "#         for c_idx in range(len(row) - 1):\n",
    "#             elt = row[c_idx]\n",
    "#             next_elt = row[c_idx + 1]\n",
    "#             if (not np.isnan(elt)) and (not np.isnan(next_elt)):\n",
    "#                 transition_matrices[c_idx // 20][int(elt)][int(next_elt)] += 1\n",
    "            \n",
    "#         iter_time = datetime.now() - iter_start\n",
    "#         print(f'Row {i + 1}/{num_rows} complete in {str(iter_time)}; est {str(iter_time * (num_rows - i - 1))} remaining')\n",
    "            \n",
    "    # normalize transition matrix (decades & overall)\n",
    "    overall_matrix = np.zeros((n_quantiles + 1, n_quantiles + 1))\n",
    "    for decade in range(n_decades):\n",
    "        overall_matrix += transition_matrices[decade]\n",
    "        for i in range(n_quantiles + 1):\n",
    "            mat_sum = np.sum(transition_matrices[decade][i])\n",
    "            if mat_sum > 0:\n",
    "                transition_matrices[decade][i] /= mat_sum\n",
    "                \n",
    "    for i in range(n_quantiles + 1):\n",
    "        mat_sum = np.sum(overall_matrix[i])\n",
    "        if mat_sum > 0:\n",
    "            overall_matrix[i] /= mat_sum\n",
    "            \n",
    "    return transition_matrices + [overall_matrix]"
   ]
  },
  {
   "cell_type": "code",
   "execution_count": 4,
   "metadata": {},
   "outputs": [
    {
     "name": "stdout",
     "output_type": "stream",
     "text": [
      "Period P138 complete in 0:00:43.842051\n"
     ]
    }
   ],
   "source": [
    "dec = False\n",
    "stderr = True\n",
    "if dec:\n",
    "    transition_mats_dec = get_transition_matrix(df_deciles, 10)\n",
    "    for i in range(len(transition_mats_dec) - 1):\n",
    "        np.save(f'wrds_results/ch1/transition_mat_deciles_{str(1950 + i * 10)}', transition_mats_dec[i])\n",
    "    np.save('wrds_results/ch1/transition_mat_deciles_overall', transition_mats_dec[-1])\n",
    "if stderr:\n",
    "    transition_mats_stderr = get_transition_matrix(df_stderrs, 10, stderr=True)\n",
    "    for i in range(len(transition_mats_stderr) - 1):\n",
    "        np.save(f'wrds_results/ch1/transition_mat_stderr_{str(1950 + i * 10)}', transition_mats_stderr[i])\n",
    "    np.save('wrds_results/ch1/transition_mat_stderr_overall', transition_mats_stderr[-1])"
   ]
  },
  {
   "cell_type": "markdown",
   "metadata": {},
   "source": [
    "\n",
    "## Results\n",
    "Here we display heatmaps of each decade's transition matrix, as well as one final one."
   ]
  },
  {
   "cell_type": "code",
   "execution_count": 9,
   "metadata": {},
   "outputs": [
    {
     "data": {
      "image/png": "[encoded data removed]",
      "text/plain": [
       "<Figure size 864x3024 with 32 Axes>"
      ]
     },
     "metadata": {
      "needs_background": "light"
     },
     "output_type": "display_data"
    }
   ],
   "source": [
    "n_decades = 7\n",
    "fig, axes = plt.subplots(nrows=n_decades + 1, ncols=2, figsize=(12, 42))\n",
    "for i in range(n_decades):\n",
    "    mat = np.load(f'wrds_results/ch1/transition_mat_deciles_{str(1950 + i * 10)}.npy')\n",
    "    sns.heatmap(mat, ax=axes[i][0])\n",
    "    mat = np.load(f'wrds_results/ch1/transition_mat_stderr_{str(1950 + i * 10)}.npy')\n",
    "    sns.heatmap(mat, ax=axes[i][1])\n",
    "    \n",
    "    axes[i][0].set_title(f'{str(1950 + i * 10)} Deciles')\n",
    "    axes[i][1].set_title(f'{str(1950 + i * 10)} Standard Error')\n",
    "    \n",
    "mat = np.load(f'wrds_results/ch1/transition_mat_deciles_overall.npy')\n",
    "sns.heatmap(mat, ax=axes[n_decades][0])\n",
    "mat = np.load(f'wrds_results/ch1/transition_mat_stderr_overall.npy')\n",
    "sns.heatmap(mat, ax=axes[n_decades][1])\n",
    "\n",
    "axes[n_decades][0].set_title(f'Overall Deciles')\n",
    "axes[n_decades][1].set_title(f'Overall Standard Error')\n",
    "plt.show()"
   ]
  },
  {
   "cell_type": "code",
   "execution_count": null,
   "metadata": {},
   "outputs": [],
   "source": []
  }
 ],
 "metadata": {
  "kernelspec": {
   "display_name": "Python 3",
   "language": "python",
   "name": "python3"
  },
  "language_info": {
   "codemirror_mode": {
    "name": "ipython",
    "version": 3
   },
   "file_extension": ".py",
   "mimetype": "text/x-python",
   "name": "python",
   "nbconvert_exporter": "python",
   "pygments_lexer": "ipython3",
   "version": "3.8.5"
  }
 },
 "nbformat": 4,
 "nbformat_minor": 4
}
