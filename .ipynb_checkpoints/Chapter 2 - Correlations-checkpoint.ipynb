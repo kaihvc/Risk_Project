{
 "cells": [
  {
   "cell_type": "markdown",
   "metadata": {},
   "source": [
    "# Return Correlations\n",
    "This notebook is for the next phase of our risk project, assessing the correlation of various stocks' _returns_ over different timeframes. In particular, we want to look at correlations of _weekly returns_ between _each pair_ of companies for _6-month periods._  \n",
    "We'll probably have to re-collect the WRDS data, since we never saved the weekly returns anywhere. This could take a minute."
   ]
  },
  {
   "cell_type": "code",
   "execution_count": 1,
   "metadata": {},
   "outputs": [
    {
     "name": "stdout",
     "output_type": "stream",
     "text": [
      "Loading library list...\n",
      "Done\n"
     ]
    }
   ],
   "source": [
    "import pandas as pd\n",
    "import numpy as np\n",
    "import wrds\n",
    "import pandas_market_calendars as mcal\n",
    "from datetime import date, timedelta, datetime\n",
    "import matplotlib.pyplot as plt\n",
    "from IPython.display import clear_output\n",
    "import seaborn as sns\n",
    "conn = wrds.Connection(wrds_username='kaihvc')"
   ]
  },
  {
   "cell_type": "markdown",
   "metadata": {},
   "source": [
    "## Data collection\n",
    "The following cells re-collect daily return data from the WRDS database and calculate weekly returns from it. It takes about 50 minutes to make the database request and save the file, so it's better just to read the dataframe from disk at `wrds_results/weekly_rets.csv` after the first time."
   ]
  },
  {
   "cell_type": "code",
   "execution_count": 19,
   "metadata": {},
   "outputs": [],
   "source": [
    "# setup for wrds data\n",
    "def get_days(start_dt, end_dt):\n",
    "    nyse = mcal.get_calendar('NYSE')\n",
    "    return [day.date() for day in nyse.valid_days(start_date=str(start_dt), \n",
    "                                                end_date=str(end_dt))]\n",
    "\n",
    "def get_weeks(start_dt, end_dt):\n",
    "    weeks = []\n",
    "\n",
    "    # get trading days and divide into weeks, rolling over on the given rollover day\n",
    "    current_week = []\n",
    "    days = get_days(start_dt, end_dt)\n",
    "    for i, day in enumerate(days):\n",
    "        # append to current week\n",
    "        current_week.append(day)\n",
    "\n",
    "        #end of the week check\n",
    "        if i+1<len(days):\n",
    "            next_day = days[i+1]\n",
    "            if next_day.weekday() < day.weekday(): #if the next day's weekday comes before the current, then the next_day is in a new week\n",
    "                weeks.append(current_week)\n",
    "                current_week = []\n",
    "            elif (next_day-day).days > 4: #if the condition above didnt pass, check that >4 days didnt pass as well\n",
    "                weeks.append(current_week)\n",
    "                current_week = []\n",
    "\n",
    "    # append final week, even if it wasn't a full week period\n",
    "    if current_week: weeks.append(current_week)\n",
    "\n",
    "    return weeks\n",
    "\n",
    "def get_periods(weeks):\n",
    "    periods = []\n",
    "    start_date = weeks[0][0]\n",
    "    end_date = None\n",
    "    for i in range(len(weeks)-1):\n",
    "        start = weeks[i][0] #this monday\n",
    "        end = weeks[i][-1]  #this friday\n",
    "\n",
    "        next_start = weeks[i+1][0] #next monday\n",
    "        next_end = weeks[i+1][-1]  #next friday\n",
    "\n",
    "        #if the current friday is in december, and the next weeks friday is in january, this is the end of one period\n",
    "        #the very next week will be the very start of the period\\\n",
    "        if end.month == 12 and next_end.month == 1:\n",
    "            end_date = end\n",
    "            periods.append([start_date,end_date])\n",
    "            start_date = next_start\n",
    "        #if the last day is in june, and the next weeks last day is in july, this is the end of one period\n",
    "        #the very next week will be the very start of the period\n",
    "        if end.month == 6 and next_end.month == 7:\n",
    "            end_date = end\n",
    "            periods.append([start_date,end_date])\n",
    "            start_date = next_start\n",
    "    periods.append([start_date, weeks[i+1][-1]])\n",
    "    for i in periods:\n",
    "        i[1] += timedelta(days=3)\n",
    "    return periods\n",
    "\n",
    "def periodToStr(period):\n",
    "    return period[0].strftime(\"%m/%d/%Y\") + \" - \" + period[1].strftime(\"%m/%d/%Y\")\n",
    "\n",
    "# initialize company list\n",
    "companies = conn.get_table(library='crsp', table='stocknames')"
   ]
  },
  {
   "cell_type": "code",
   "execution_count": 3,
   "metadata": {},
   "outputs": [],
   "source": [
    "# WRDS database request & processing\n",
    "# build SQL query using inflation-adjusted mcaps\n",
    "\n",
    "# load inflation-adjusted market caps from file (equivalents of 2020 $10mil)\n",
    "def get_cutoffs(filename):\n",
    "    cutoffs = pd.read_csv(filename)[['observation_date', 'Cutoff Value']]\n",
    "    cutoffs['year'] = pd.to_datetime(cutoffs['observation_date']).apply(lambda x: x.year)\n",
    "    cutoffs = cutoffs.set_index('year').drop(columns='observation_date')\n",
    "    return cutoffs\n",
    "\n",
    "# build query, filtering using inflation-adjusted mcap values\n",
    "def build_query(start_dt, end_dt, adjusted_mcaps):\n",
    "    query = f\"SELECT cusip, date, ret, prc, shrout FROM crsp.dsf WHERE date>='{str(start_dt)}' AND date<='{str(end_dt)}' AND (\"\n",
    "    for i, year in enumerate(adjusted_mcaps.loc[start_dt.year:].index):\n",
    "        query += f\"(EXTRACT(YEAR FROM date)={year} AND prc*shrout>={int(adjusted_mcaps.loc[year][0] / 1000)})\"\n",
    "        query += \" OR \" if i < len(adjusted_mcaps.loc[start_dt.year:].index) - 1 else \")\"\n",
    "    return query\n",
    "        \n",
    "# get daily returns\n",
    "def get_returns(start_dt, end_dt, adjusted_mcaps, username='kaihvc'):\n",
    "    conn = wrds.Connection(wrds_username=username)\n",
    "    query = build_query(start_dt, end_dt, adjusted_mcaps)\n",
    "    df = conn.raw_sql(query)\n",
    "    return df\n",
    "\n",
    "# TODO: test for accuracy\n",
    "def pd_process_weekly(df, start_dt, end_dt):\n",
    "    \n",
    "    # takes ~25-30 min (?) all told; most spent on the aggregation\n",
    "    # group by cusip & weeks, then geometrically expand week groups to get weekly returns\n",
    "    df['date'] = pd.to_datetime(df['date'])\n",
    "    grouper = pd.Grouper(key='date', freq='W-MON')\n",
    "    grouped = df.groupby(by=['cusip', grouper], observed=True)\n",
    "    weekly_rets = grouped.agg({'ret': lambda x: (x + 1).product() - 1})\n",
    "    \n",
    "    return weekly_rets"
   ]
  },
  {
   "cell_type": "markdown",
   "metadata": {},
   "source": [
    "### Load weekly returns\n",
    "The cells below set the run parameters and load in the weekly returns, controlled by `requery` and `recalc`. If `requery == True`, we query the WRDS database for daily returns again. If `recalc == True`, we also recalculate the weekly returns, using the `daily_rets` dataframe in memory or reading it from disk.  \n",
    "The process is split into multiple cells because I wanted to go out for drinks while the query ran, without coming back to a melted computer if something went wrong during the calculation. _Separation of concerns - all the cool programmers are doing it._"
   ]
  },
  {
   "cell_type": "code",
   "execution_count": 20,
   "metadata": {},
   "outputs": [],
   "source": [
    "# parameters\n",
    "# we'll use the 1950 inflation-adjusted equivalent of a 2020 $10mil mcap minimum, and do more fine-grained filtering later\n",
    "start_dt = date(1950, 1, 1)\n",
    "end_dt = date(2021, 1, 1)\n",
    "# min_cap_1950 = 1133 # $1,133,256 in 1950 = $10mil in 2020; unused atm"
   ]
  },
  {
   "cell_type": "code",
   "execution_count": 5,
   "metadata": {},
   "outputs": [],
   "source": [
    "# query returns\n",
    "requery = False\n",
    "if requery:\n",
    "    exec_start = datetime.now()\n",
    "    print(\"Querying WRDS for daily returns...\")\n",
    "    daily_rets = get_returns(start_dt, end_dt, get_cutoffs('inflation_adjustments.csv'))\n",
    "    print(f\"Query complete in {str(datetime.now() - exec_start)}, writing to disk...\")\n",
    "    stage_start = datetime.now()\n",
    "    daily_rets.to_csv('wrds_results/daily_rets_adjusted_prcshrout.csv')\n",
    "    print(f\"Disk write complete in {str(datetime.now() - stage_start)}\")\n",
    "    print(f\"Download complete in {str(datetime.now() - exec_start)}\")"
   ]
  },
  {
   "cell_type": "code",
   "execution_count": 3,
   "metadata": {
    "scrolled": true
   },
   "outputs": [
    {
     "name": "stdout",
     "output_type": "stream",
     "text": [
      "Weekly returns loaded\n"
     ]
    }
   ],
   "source": [
    "# calculate returns\n",
    "recalc = False\n",
    "if recalc:\n",
    "    if 'daily_rets' not in globals():\n",
    "        print(\"Loading daily returns from file...\")\n",
    "        daily_rets = pd.read_csv('wrds_results/daily_rets_adjusted.csv', index_col=0)\n",
    "    exec_start = datetime.now()\n",
    "    weekly_rets = pd_process_weekly(daily_rets, start_dt, end_dt)\n",
    "    print(f\"Processing complete in {str(datetime.now() - exec_start)}, writing to disk...\")\n",
    "    weekly_rets.to_csv('wrds_results/weekly_rets_adjusted.csv')\n",
    "    print(f'Weekly returns downloaded in {str(datetime.now() - exec_start)}')\n",
    "else:\n",
    "    weekly_rets = pd.read_csv('wrds_results/weekly_rets_adjusted.csv', index_col=[0, 1])\n",
    "    weekly_rets.index = weekly_rets.index.set_levels([weekly_rets.index.levels[0], pd.to_datetime(weekly_rets.index.levels[1])])\n",
    "    print('Weekly returns loaded')"
   ]
  },
  {
   "cell_type": "markdown",
   "metadata": {},
   "source": [
    "## Calculate 6-month correlations\n",
    "The following cells calculate return correlations over ~6-month periods from the weekly returns. Note that this generates a correlation matrix _for each period_, so it might take a _while_.\n",
    "\n",
    "We apply the same filter for each period, requiring it to have at least 20/26 weeks from each period to be included in the correlation matrix. _Only stocks which pass the filter are found in the correlation matrix,_ meaning that it's possible for correlation matrices from different periods to have different sizes (though all will be square)."
   ]
  },
  {
   "cell_type": "code",
   "execution_count": 8,
   "metadata": {},
   "outputs": [],
   "source": [
    "# get specific dataframe indices for each period cause multiindex slicing is incorrigible\n",
    "def get_per_idxs(df, periods):\n",
    "    per_dict = {}\n",
    "    per_idx = 0\n",
    "    per = periods[per_idx]\n",
    "    idx_list = []\n",
    "    for i, idx in enumerate(df.sort_index(level='date').index):\n",
    "        if idx[1].date() < per[1]:\n",
    "            idx_list.append(idx)\n",
    "        else:\n",
    "            per_dict[per_idx] = idx_list\n",
    "            idx_list = []\n",
    "            per_idx += 1\n",
    "            if per_idx >= len(periods):\n",
    "                break\n",
    "            per = periods[per_idx]\n",
    "            \n",
    "    return per_dict\n",
    "\n",
    "# get correlation matrices for each period\n",
    "# accepts weekly returns df, start/end dates, and (inclusive) starting period\n",
    "def get_corrs(df, start_dt, end_dt, start_from=0):\n",
    "    \n",
    "    current_iteration = start_from\n",
    "    periods = get_periods(get_weeks(start_dt, end_dt))\n",
    "    idx_dict = get_per_idxs(df, periods)\n",
    "    num_pers = len(periods)\n",
    "\n",
    "    for i, per in enumerate(periods[start_from:]):\n",
    "        \n",
    "        # timing\n",
    "        iter_start = datetime.now()\n",
    "        \n",
    "        # filter for cusips w/ at least 20\n",
    "        counts = weekly_rets.loc[idx_dict[i]].groupby('cusip').count()\n",
    "        cusips = counts[counts >= 20].dropna().index # TODO: Figure out whether this filter is messing things up\n",
    "        \n",
    "        # select data for period, filter out missing data, and unstack to get df of shape (dates, cusips)\n",
    "        filtered_df = weekly_rets.loc[idx_dict[i]].loc[cusips].unstack(level='cusip')\n",
    "        filtered_df.columns = filtered_df.columns.droplevel(0)\n",
    "        \n",
    "        # calculate correlation matrix & print \n",
    "        corr = filtered_df.corr()\n",
    "        corr.to_csv(f'wrds_results/corr_dump/{str(per[0])}_corr.csv')\n",
    "        print(f'Period {str(per[0])} complete ({i + start_from + 1}/{num_pers}) in {str(datetime.now() - iter_start)}')\n",
    "        clear_output(wait=True)"
   ]
  },
  {
   "cell_type": "code",
   "execution_count": 9,
   "metadata": {},
   "outputs": [
    {
     "name": "stdout",
     "output_type": "stream",
     "text": [
      "Period correlations complete in 1:15:12.391305\n"
     ]
    }
   ],
   "source": [
    "exec_start = datetime.now()\n",
    "get_corrs(weekly_rets, start_dt, end_dt)\n",
    "print(f'Period correlations complete in {str(datetime.now() - exec_start)}')"
   ]
  },
  {
   "cell_type": "code",
   "execution_count": 100,
   "metadata": {},
   "outputs": [
    {
     "data": {
      "image/png": "[encoded data removed]",
      "text/plain": [
       "<Figure size 576x288 with 1 Axes>"
      ]
     },
     "metadata": {
      "needs_background": "light"
     },
     "output_type": "display_data"
    }
   ],
   "source": [
    "fig, ax = plt.subplots(figsize=(8, 4))\n",
    "ax.set_title(\"Number of stocks in dataset over time\")\n",
    "ax.set_xlabel(\"Time\")\n",
    "ax.set_ylabel(\"Number of stocks\")\n",
    "\n",
    "max_per = np.argmax(num_stocks)\n",
    "max_stocks = np.max(num_stocks)\n",
    "min_stocks = np.min(num_stocks)\n",
    "ax.vlines(max_per, 1000, max_stocks + 100, color='red', label=f'maximum in {int(1950 + max_per / 2)}')\n",
    "\n",
    "ax.set_yticks([min_stocks, 2000, 4000, 6000, 8000, max_stocks])\n",
    "ax.set_yticklabels([min_stocks, 2000, 4000, 6000, 8000, max_stocks])\n",
    "\n",
    "xticks = [0, 20, 40, 60, 80, 100, 120, 140]\n",
    "labels = [int(1950 + xtick / 2) for xtick in xticks]\n",
    "ax.set_xticks(xticks)\n",
    "ax.set_xticklabels(labels)\n",
    "\n",
    "ax.plot(num_stocks, label='# of stocks')\n",
    "ax.legend()\n",
    "plt.show()"
   ]
  },
  {
   "cell_type": "markdown",
   "metadata": {},
   "source": [
    "## Concatenating correlations\n",
    "The following few cells concatenate the calculated correlations into a single multiindexed dataframe. This makes it much easier to manipulate the data for various flexible purposes."
   ]
  },
  {
   "cell_type": "code",
   "execution_count": 18,
   "metadata": {},
   "outputs": [],
   "source": [
    "def concatenate_corrs(periods):\n",
    "    corrs_master = []\n",
    "    for period in periods:\n",
    "        idx = period[0]\n",
    "        \n",
    "        corr = pd.read_csv(f'wrds_results/corr_dump/{idx}_corr.csv', index_col=0)\n",
    "        corrs_master.append(corr)\n",
    "        \n",
    "        print(f'Period {period[0]} complete')\n",
    "        \n",
    "        clear_output(wait=True)\n",
    "    \n",
    "    print('Concatenating...')\n",
    "    return pd.concat(corrs_master, keys=[per[0] for per in periods])"
   ]
  },
  {
   "cell_type": "code",
   "execution_count": null,
   "metadata": {},
   "outputs": [],
   "source": [
    "start_dt = date(1950, 1, 1)\n",
    "end_dt = date(2021, 1, 1)"
   ]
  },
  {
   "cell_type": "code",
   "execution_count": null,
   "metadata": {},
   "outputs": [],
   "source": [
    "exec_start = datetime.now()\n",
    "periods = get_periods(get_weeks(start_dt, end_dt))\n",
    "all_corrs = concatenate_corrs(periods)\n",
    "print(f'Done in {str(datetime.now() - exec_start)}')"
   ]
  },
  {
   "cell_type": "code",
   "execution_count": null,
   "metadata": {},
   "outputs": [],
   "source": [
    "all_corrs.to_csv('wrds_results/all_corrs.csv')"
   ]
  },
  {
   "cell_type": "markdown",
   "metadata": {},
   "source": [
    "TODO\n",
    "- Transition matrix/heatmap as table (round to ~3 decimals or so), so we have a way to look at the numbers instead of just colors"
   ]
  },
  {
   "cell_type": "markdown",
   "metadata": {},
   "source": [
    "## Markov modeling\n",
    "Our transition matrix generation function will require some updates, since we're doing it for state matrices instead of state vectors. However, this shouldn't be too difficult; our main considerations will be:\n",
    "- Removing the upper-triangular & diagonal portion of the matrix, so we only consider our _actual_ data, and only consider it _once_\n",
    "- Matching cusips between periods - we'll naturally have a few dropouts between periods, and the concatenation process means the matrix won't be completely square, so this will simply take some conscientiousness."
   ]
  },
  {
   "cell_type": "code",
   "execution_count": 23,
   "metadata": {},
   "outputs": [],
   "source": [
    "def stderr_tril_qcut(df, q, cusips):\n",
    "    \n",
    "    # get particular cusips\n",
    "    data = df.loc[cusips][cusips].values\n",
    "    lower_tri = data[np.tril_indices(len(data), k=-1)]\n",
    "    \n",
    "    # get stderr of data\n",
    "    stderrs = (lower_tri - np.mean(lower_tri)) / np.std(lower_tri)\n",
    "    \n",
    "    # build bins\n",
    "    # NOTE: we'll ALWAYS need the <-2 and >2 bins, since otherwise the things aren't comparable\n",
    "    intervals = [pd.Interval(elt, elt + 0.5) for elt in np.arange(-2, 2, 0.5)]\n",
    "    intervals = [pd.Interval(-np.inf, -2)] + intervals + [pd.Interval(2, np.inf)]    \n",
    "    intervals = pd.IntervalIndex(intervals)\n",
    "    \n",
    "    discretized = pd.cut(stderrs, intervals, include_lowest=True)\n",
    "    labels = range(1, len(discretized.categories) + 1)\n",
    "    return pd.Series(discretized.rename_categories(labels)).astype(int)\n",
    "\n",
    "def tril_qcut(df, q, cusips):\n",
    "    \n",
    "    # get particular cusips\n",
    "    data = df.loc[cusips][cusips].values\n",
    "    lower_tri = data[np.tril_indices(len(data), k=-1)]\n",
    "    \n",
    "    # NOTE: we're using straight qcut here, so high correlations will be in high quantiles\n",
    "    return pd.qcut(lower_tri, q, labels=range(1, q + 1))"
   ]
  },
  {
   "cell_type": "code",
   "execution_count": 38,
   "metadata": {},
   "outputs": [],
   "source": [
    "def get_transition_matrix(periods, n_quantiles, stderr=False):\n",
    "    prev_avg_matrices = []\n",
    "    post_avg_matrices = []\n",
    "    transition_matrices = []\n",
    "    periods = periods[:-2]\n",
    "    n_decades = len(periods) // 20\n",
    "    for i in range(n_decades):\n",
    "        transition_matrices.append(np.zeros((n_quantiles + 1, n_quantiles + 1)))\n",
    "        prev_avg_matrices.append(np.zeros((n_quantiles + 1, n_quantiles + 1)))\n",
    "        post_avg_matrices.append(np.zeros((n_quantiles + 1, n_quantiles + 1)))\n",
    "\n",
    "    for per_idx in range(len(periods) - 1):\n",
    "        \n",
    "        # read in correlation matrices\n",
    "        print(f'Adding period {periods[per_idx][0]}...')\n",
    "        clear_output(wait=True)\n",
    "        iter_start = datetime.now()\n",
    "        current_corr = pd.read_csv(f'wrds_results/corr_dump/{periods[per_idx][0]}_corr.csv', index_col=0)\n",
    "        next_corr = pd.read_csv(f'wrds_results/corr_dump/{periods[per_idx + 1][0]}_corr.csv', index_col=0)\n",
    "        \n",
    "        # fix weird string/float error\n",
    "        current_corr.index = current_corr.index.astype('string')\n",
    "        next_corr.index = next_corr.index.astype('string')\n",
    "        \n",
    "        # determine overlap & get data\n",
    "        cusips = current_corr.index[current_corr.index.isin(next_corr.index)]\n",
    "\n",
    "#         try:\n",
    "        \n",
    "        if stderr:\n",
    "            current_q = stderr_tril_qcut(current_corr, n_quantiles, cusips)\n",
    "            next_q = stderr_tril_qcut(next_corr, n_quantiles, cusips)\n",
    "        else:\n",
    "            current_q = tril_qcut(current_corr, n_quantiles, cusips)\n",
    "            next_q = tril_qcut(next_corr, n_quantiles, cusips)\n",
    "\n",
    "        current_data = current_corr.loc[cusips][cusips].values\n",
    "        next_data = next_corr.loc[cusips][cusips].values\n",
    "        current_vals = current_data[np.tril_indices(len(current_data), k=-1)]\n",
    "        next_vals = next_data[np.tril_indices(len(next_data), k=-1)]\n",
    "                \n",
    "#         except Exception as err:\n",
    "#             print(f\"Error in period {periods[per_idx][0]}\")\n",
    "#             print(err)\n",
    "        \n",
    "        # build transition matrix\n",
    "        for j in range(len(current_q)):\n",
    "            transition_matrices[per_idx // 20][current_q[j]][next_q[j]] += 1\n",
    "            \n",
    "            prev_avg_matrices[per_idx // 20][current_q[j]][next_q[j]] += current_vals[j]\n",
    "            post_avg_matrices[per_idx // 20][current_q[j]][next_q[j]] += next_vals[j]\n",
    "            \n",
    "        print(f'Period {periods[per_idx][0]} complete in {str(datetime.now() - iter_start)}')\n",
    "            \n",
    "    # before normalization, get averages\n",
    "    overall_prev = np.zeros((n_quantiles + 1, n_quantiles + 1))\n",
    "    overall_post = np.zeros((n_quantiles + 1, n_quantiles + 1))\n",
    "    for decade in range(n_decades):\n",
    "        overall_prev += prev_avg_matrices[decade]\n",
    "        overall_post += post_avg_matrices[decade]\n",
    "        for i in range(len(prev_avg_matrices[decade])):\n",
    "            for j in range(len(prev_avg_matrices[decade][0])):\n",
    "                if transition_matrices[decade][i][j] != 0:\n",
    "                    prev_avg_matrices[decade][i][j] /= transition_matrices[decade][i][j]\n",
    "                    post_avg_matrices[decade][i][j] /= transition_matrices[decade][i][j]\n",
    "                else:\n",
    "                    prev_avg_matrices[decade][i][j] = 0\n",
    "                    post_avg_matrices[decade][i][j] = 0\n",
    "        \n",
    "    # normalize transition matrix\n",
    "    overall_matrix = np.zeros((n_quantiles + 1, n_quantiles + 1))\n",
    "    \n",
    "    for decade in range(n_decades):\n",
    "        overall_matrix += transition_matrices[decade]\n",
    "        for i in range(n_quantiles + 1):\n",
    "            mat_sum = np.sum(transition_matrices[decade][i])\n",
    "            if mat_sum > 0:\n",
    "                transition_matrices[decade][i] /= mat_sum\n",
    "                \n",
    "    # get overall averages using overall matrix \n",
    "    for i in range(len(overall_matrix)):\n",
    "        for j in range(len(overall_matrix[0])):\n",
    "            if overall_matrix[i][j] != 0:\n",
    "                overall_prev[i][j] /= overall_matrix[i][j]\n",
    "                overall_post[i][j] /= overall_matrix[i][j]\n",
    "            else:\n",
    "                overall_prev[i][j] = 0\n",
    "                overall_post[i][j] = 0\n",
    "    \n",
    "    for i in range(n_quantiles + 1):\n",
    "        mat_sum == np.sum(overall_matrix[i])\n",
    "        if mat_sum > 0:\n",
    "            overall_matrix[i] /= mat_sum\n",
    "            \n",
    "    return transition_matrices + [overall_matrix], prev_avg_matrices + [overall_prev], post_avg_matrices + [overall_post]"
   ]
  },
  {
   "cell_type": "code",
   "execution_count": 39,
   "metadata": {},
   "outputs": [
    {
     "name": "stdout",
     "output_type": "stream",
     "text": [
      "Period 2018-12-31 complete in 0:07:54.859900\n",
      "Deciles complete in 8:55:32.116412\n"
     ]
    }
   ],
   "source": [
    "# deciles\n",
    "recalc = True\n",
    "if recalc:\n",
    "    start_dt = date(1950, 1, 1)\n",
    "    end_dt = date(2021, 1, 1)\n",
    "    periods = get_periods(get_weeks(start_dt, end_dt))\n",
    "    exec_start = datetime.now()\n",
    "    transition_matrices, prev_matrices, post_matrices = get_transition_matrix(periods, 10)\n",
    "    for i, mat in enumerate(transition_matrices[:-1]):\n",
    "        np.save(f'wrds_results/ch2/transition_deciles_{str(1950 + i * 10)}', mat)\n",
    "    np.save(f'wrds_results/ch2/transition_deciles_overall', transition_matrices[-1])\n",
    "    \n",
    "    for i, mat in enumerate(prev_matrices[:-1]):\n",
    "        np.save(f'wrds_results/ch2/prev_avg_deciles_{str(1950 + i * 10)}', mat)\n",
    "    np.save(f'wrds_results/ch2/prev_avg_deciles_overall', prev_matrices[-1])\n",
    "    \n",
    "    for i, mat in enumerate(post_matrices[:-1]):\n",
    "        np.save(f'wrds_results/ch2/post_avg_deciles_{str(1950 + i * 10)}', mat)\n",
    "    np.save(f'wrds_results/ch2/post_avg_deciles__overall', post_matrices[-1])\n",
    "    \n",
    "    print(f'Deciles complete in {str(datetime.now() - exec_start)}')\n",
    "    \n",
    "else:\n",
    "    transition_mats = []\n",
    "    for i in range(7):\n",
    "        transition_mats.append(np.load(f'wrds_results/ch2/transition_deciles_{str(1950 + i * 10)}.npy'))\n",
    "    transition_mats.append(np.load(f'wrds_results/ch2/transition_deciles_overall.npy'))\n",
    "    print('Transition matrices loaded')"
   ]
  },
  {
   "cell_type": "code",
   "execution_count": 40,
   "metadata": {},
   "outputs": [
    {
     "name": "stdout",
     "output_type": "stream",
     "text": [
      "Period 2018-12-31 complete in 0:06:33.590475\n",
      "Stderrs complete in 7:18:51.053819\n"
     ]
    }
   ],
   "source": [
    "# stderr\n",
    "recalc = True\n",
    "if recalc:\n",
    "    start_dt = date(1950, 1, 1)\n",
    "    end_dt = date(2021, 1, 1)\n",
    "    periods = get_periods(get_weeks(start_dt, end_dt))\n",
    "    exec_start = datetime.now()\n",
    "    transition_matrices, prev_matrices, post_matrices = get_transition_matrix(periods, 10, stderr=True)\n",
    "    for i, mat in enumerate(transition_matrices[:-1]):\n",
    "        np.save(f'wrds_results/ch2/transition_stderr_{str(1950 + i * 10)}', mat)\n",
    "    np.save(f'wrds_results/ch2/transition_stderr_overall', transition_matrices[-1])\n",
    "    \n",
    "    for i, mat in enumerate(prev_matrices[:-1]):\n",
    "        np.save(f'wrds_results/ch2/prev_avg_stderr_{str(1950 + i * 10)}', mat)\n",
    "    np.save(f'wrds_results/ch2/prev_avg_stderr_overall', prev_matrices[-1])\n",
    "    \n",
    "    for i, mat in enumerate(post_matrices[:-1]):\n",
    "        np.save(f'wrds_results/ch2/post_avg_stderr_{str(1950 + i * 10)}', mat)\n",
    "    np.save(f'wrds_results/ch2/post_avg_stderr_overall', post_matrices[-1])\n",
    "    print(f'Stderrs complete in {str(datetime.now() - exec_start)}')\n",
    "else:\n",
    "    transition_mats = []\n",
    "    for i in range(7):\n",
    "        transition_mats.append(np.load(f'wrds_results/ch2/transition_stderr_{str(1950 + i * 10)}.npy'))\n",
    "    transition_mats.append(np.load(f'wrds_results/ch2/transition_stderr_overall.npy'))\n",
    "    print('Transition matrices loaded')"
   ]
  },
  {
   "cell_type": "code",
   "execution_count": 41,
   "metadata": {},
   "outputs": [
    {
     "name": "stdout",
     "output_type": "stream",
     "text": [
      "Done at 2022-04-17 11:54:51.447866 (started at 7:40p)\n"
     ]
    }
   ],
   "source": [
    "print(f'Done at {str(datetime.now())} (started at 7:40p)')"
   ]
  },
  {
   "cell_type": "markdown",
   "metadata": {},
   "source": [
    "## Excel"
   ]
  },
  {
   "cell_type": "code",
   "execution_count": 72,
   "metadata": {},
   "outputs": [],
   "source": [
    "# deciles\n",
    "for i in range(7):\n",
    "    mat = np.load(f'wrds_results/ch2/transition_deciles_{1950 + i * 10}.npy')\n",
    "    pd.DataFrame(mat).to_excel(f'wrds_results/ch2/Excel/transition_deciles_{1950 + i * 10}.xlsx')\n",
    "    mat = np.load(f'wrds_results/ch2/prev_avg_deciles_{1950 + i * 10}.npy')\n",
    "    pd.DataFrame(mat).to_excel(f'wrds_results/ch2/Excel/prev_avg_deciles_{1950 + i * 10}.xlsx')\n",
    "    mat = np.load(f'wrds_results/ch2/post_avg_deciles_{1950 + i * 10}.npy')\n",
    "    pd.DataFrame(mat).to_excel(f'wrds_results/ch2/Excel/post_avg_deciles_{1950 + i * 10}.xlsx')\n",
    "    \n",
    "mat = np.load(f'wrds_results/ch2/transition_deciles_overall.npy')\n",
    "pd.DataFrame(mat).to_excel(f'wrds_results/ch2/Excel/transition_deciles_overall.xlsx')\n",
    "mat = np.load(f'wrds_results/ch2/prev_avg_deciles_overall.npy')\n",
    "pd.DataFrame(mat).to_excel(f'wrds_results/ch2/Excel/prev_avg_deciles_overall.xlsx')\n",
    "mat = np.load(f'wrds_results/ch2/post_avg_deciles_overall.npy')\n",
    "pd.DataFrame(mat).to_excel(f'wrds_results/ch2/Excel/post_avg_deciles_overall.xlsx')"
   ]
  },
  {
   "cell_type": "code",
   "execution_count": 70,
   "metadata": {},
   "outputs": [],
   "source": [
    "# stderr\n",
    "for i in range(7):\n",
    "    mat = np.load(f'wrds_results/ch2/transition_stderr_{1950 + i * 10}.npy')\n",
    "    pd.DataFrame(mat).to_excel(f'wrds_results/ch2/Excel/transition_stderr_{1950 + i * 10}.xlsx')\n",
    "    mat = np.load(f'wrds_results/ch2/prev_avg_stderr_{1950 + i * 10}.npy')\n",
    "    pd.DataFrame(mat).to_excel(f'wrds_results/ch2/Excel/prev_avg_stderr_{1950 + i * 10}.xlsx')\n",
    "    mat = np.load(f'wrds_results/ch2/post_avg_stderr_{1950 + i * 10}.npy')\n",
    "    pd.DataFrame(mat).to_excel(f'wrds_results/ch2/Excel/post_avg_stderr_{1950 + i * 10}.xlsx')\n",
    "    \n",
    "mat = np.load(f'wrds_results/ch2/transition_stderr_overall.npy')\n",
    "pd.DataFrame(mat).to_excel(f'wrds_results/ch2/Excel/transition_stderr_overall.xlsx')\n",
    "mat = np.load(f'wrds_results/ch2/prev_avg_stderr_overall.npy')\n",
    "pd.DataFrame(mat).to_excel(f'wrds_results/ch2/Excel/prev_avg_stderr_overall.xlsx')\n",
    "mat = np.load(f'wrds_results/ch2/post_avg_stderr_overall.npy')\n",
    "pd.DataFrame(mat).to_excel(f'wrds_results/ch2/Excel/post_avg_stderr_overall.xlsx')"
   ]
  }
 ],
 "metadata": {
  "kernelspec": {
   "display_name": "Python 3",
   "language": "python",
   "name": "python3"
  },
  "language_info": {
   "codemirror_mode": {
    "name": "ipython",
    "version": 3
   },
   "file_extension": ".py",
   "mimetype": "text/x-python",
   "name": "python",
   "nbconvert_exporter": "python",
   "pygments_lexer": "ipython3",
   "version": "3.8.5"
  }
 },
 "nbformat": 4,
 "nbformat_minor": 4
}
