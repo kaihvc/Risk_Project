{
 "cells": [
  {
   "cell_type": "markdown",
   "metadata": {},
   "source": [
    "# WRDS Data Collection"
   ]
  },
  {
   "cell_type": "code",
   "execution_count": 4,
   "metadata": {},
   "outputs": [],
   "source": [
    "import pandas as pd\n",
    "import numpy as np\n",
    "import wrds\n",
    "import pandas_market_calendars as mcal\n",
    "from datetime import date, timedelta, datetime\n",
    "import matplotlib.pyplot as plt"
   ]
  },
  {
   "cell_type": "code",
   "execution_count": 87,
   "metadata": {},
   "outputs": [
    {
     "name": "stdout",
     "output_type": "stream",
     "text": [
      "Loading library list...\n",
      "Done\n"
     ]
    }
   ],
   "source": [
    "conn = wrds.Connection(wrds_username='kaihvc')"
   ]
  },
  {
   "cell_type": "code",
   "execution_count": 40,
   "metadata": {},
   "outputs": [
    {
     "data": {
      "text/html": [
       "<div>\n",
       "<style scoped>\n",
       "    .dataframe tbody tr th:only-of-type {\n",
       "        vertical-align: middle;\n",
       "    }\n",
       "\n",
       "    .dataframe tbody tr th {\n",
       "        vertical-align: top;\n",
       "    }\n",
       "\n",
       "    .dataframe thead th {\n",
       "        text-align: right;\n",
       "    }\n",
       "</style>\n",
       "<table border=\"1\" class=\"dataframe\">\n",
       "  <thead>\n",
       "    <tr style=\"text-align: right;\">\n",
       "      <th></th>\n",
       "      <th>cusip</th>\n",
       "      <th>permno</th>\n",
       "      <th>permco</th>\n",
       "      <th>issuno</th>\n",
       "      <th>hexcd</th>\n",
       "      <th>hsiccd</th>\n",
       "      <th>date</th>\n",
       "      <th>bidlo</th>\n",
       "      <th>askhi</th>\n",
       "      <th>prc</th>\n",
       "      <th>vol</th>\n",
       "      <th>ret</th>\n",
       "      <th>bid</th>\n",
       "      <th>ask</th>\n",
       "      <th>shrout</th>\n",
       "      <th>cfacpr</th>\n",
       "      <th>cfacshr</th>\n",
       "      <th>openprc</th>\n",
       "      <th>numtrd</th>\n",
       "      <th>retx</th>\n",
       "    </tr>\n",
       "  </thead>\n",
       "  <tbody>\n",
       "    <tr>\n",
       "      <th>0</th>\n",
       "      <td>37044210</td>\n",
       "      <td>12079.0</td>\n",
       "      <td>20799.0</td>\n",
       "      <td>0.0</td>\n",
       "      <td>1.0</td>\n",
       "      <td>3711.0</td>\n",
       "      <td>1955-06-23</td>\n",
       "      <td>108.625</td>\n",
       "      <td>110.125</td>\n",
       "      <td>109.750</td>\n",
       "      <td>22700.0</td>\n",
       "      <td>0.010357</td>\n",
       "      <td>None</td>\n",
       "      <td>None</td>\n",
       "      <td>91869.0</td>\n",
       "      <td>8.028598</td>\n",
       "      <td>6.0</td>\n",
       "      <td>109.500</td>\n",
       "      <td>None</td>\n",
       "      <td>0.010357</td>\n",
       "    </tr>\n",
       "    <tr>\n",
       "      <th>1</th>\n",
       "      <td>37044210</td>\n",
       "      <td>12079.0</td>\n",
       "      <td>20799.0</td>\n",
       "      <td>0.0</td>\n",
       "      <td>1.0</td>\n",
       "      <td>3711.0</td>\n",
       "      <td>1955-06-24</td>\n",
       "      <td>108.875</td>\n",
       "      <td>109.875</td>\n",
       "      <td>109.625</td>\n",
       "      <td>14100.0</td>\n",
       "      <td>-0.001139</td>\n",
       "      <td>None</td>\n",
       "      <td>None</td>\n",
       "      <td>91869.0</td>\n",
       "      <td>8.028598</td>\n",
       "      <td>6.0</td>\n",
       "      <td>109.375</td>\n",
       "      <td>None</td>\n",
       "      <td>-0.001139</td>\n",
       "    </tr>\n",
       "    <tr>\n",
       "      <th>2</th>\n",
       "      <td>37044210</td>\n",
       "      <td>12079.0</td>\n",
       "      <td>20799.0</td>\n",
       "      <td>0.0</td>\n",
       "      <td>1.0</td>\n",
       "      <td>3711.0</td>\n",
       "      <td>1955-06-27</td>\n",
       "      <td>109.000</td>\n",
       "      <td>109.625</td>\n",
       "      <td>109.000</td>\n",
       "      <td>10600.0</td>\n",
       "      <td>-0.005701</td>\n",
       "      <td>None</td>\n",
       "      <td>None</td>\n",
       "      <td>91869.0</td>\n",
       "      <td>8.028598</td>\n",
       "      <td>6.0</td>\n",
       "      <td>109.625</td>\n",
       "      <td>None</td>\n",
       "      <td>-0.005701</td>\n",
       "    </tr>\n",
       "    <tr>\n",
       "      <th>3</th>\n",
       "      <td>26353410</td>\n",
       "      <td>11703.0</td>\n",
       "      <td>20606.0</td>\n",
       "      <td>0.0</td>\n",
       "      <td>1.0</td>\n",
       "      <td>2879.0</td>\n",
       "      <td>1955-06-28</td>\n",
       "      <td>217.500</td>\n",
       "      <td>225.000</td>\n",
       "      <td>223.000</td>\n",
       "      <td>3300.0</td>\n",
       "      <td>0.020595</td>\n",
       "      <td>None</td>\n",
       "      <td>None</td>\n",
       "      <td>45488.0</td>\n",
       "      <td>25.767878</td>\n",
       "      <td>18.0</td>\n",
       "      <td>217.750</td>\n",
       "      <td>None</td>\n",
       "      <td>0.020595</td>\n",
       "    </tr>\n",
       "    <tr>\n",
       "      <th>4</th>\n",
       "      <td>26353410</td>\n",
       "      <td>11703.0</td>\n",
       "      <td>20606.0</td>\n",
       "      <td>0.0</td>\n",
       "      <td>1.0</td>\n",
       "      <td>2879.0</td>\n",
       "      <td>1955-06-29</td>\n",
       "      <td>221.000</td>\n",
       "      <td>228.500</td>\n",
       "      <td>226.500</td>\n",
       "      <td>3900.0</td>\n",
       "      <td>0.015695</td>\n",
       "      <td>None</td>\n",
       "      <td>None</td>\n",
       "      <td>45488.0</td>\n",
       "      <td>25.767878</td>\n",
       "      <td>18.0</td>\n",
       "      <td>222.000</td>\n",
       "      <td>None</td>\n",
       "      <td>0.015695</td>\n",
       "    </tr>\n",
       "  </tbody>\n",
       "</table>\n",
       "</div>"
      ],
      "text/plain": [
       "      cusip   permno   permco  issuno  hexcd  hsiccd        date    bidlo  \\\n",
       "0  37044210  12079.0  20799.0     0.0    1.0  3711.0  1955-06-23  108.625   \n",
       "1  37044210  12079.0  20799.0     0.0    1.0  3711.0  1955-06-24  108.875   \n",
       "2  37044210  12079.0  20799.0     0.0    1.0  3711.0  1955-06-27  109.000   \n",
       "3  26353410  11703.0  20606.0     0.0    1.0  2879.0  1955-06-28  217.500   \n",
       "4  26353410  11703.0  20606.0     0.0    1.0  2879.0  1955-06-29  221.000   \n",
       "\n",
       "     askhi      prc      vol       ret   bid   ask   shrout     cfacpr  \\\n",
       "0  110.125  109.750  22700.0  0.010357  None  None  91869.0   8.028598   \n",
       "1  109.875  109.625  14100.0 -0.001139  None  None  91869.0   8.028598   \n",
       "2  109.625  109.000  10600.0 -0.005701  None  None  91869.0   8.028598   \n",
       "3  225.000  223.000   3300.0  0.020595  None  None  45488.0  25.767878   \n",
       "4  228.500  226.500   3900.0  0.015695  None  None  45488.0  25.767878   \n",
       "\n",
       "   cfacshr  openprc numtrd      retx  \n",
       "0      6.0  109.500   None  0.010357  \n",
       "1      6.0  109.375   None -0.001139  \n",
       "2      6.0  109.625   None -0.005701  \n",
       "3     18.0  217.750   None  0.020595  \n",
       "4     18.0  222.000   None  0.015695  "
      ]
     },
     "execution_count": 40,
     "metadata": {},
     "output_type": "execute_result"
    }
   ],
   "source": [
    "q = \"SELECT * FROM crsp.dsf WHERE date>='1950-1-1' AND date<='1960-1-1' AND prc*shrout>=10000000\"\n",
    "df_early = conn.raw_sql(q)\n",
    "df_early.head()"
   ]
  },
  {
   "cell_type": "code",
   "execution_count": 38,
   "metadata": {},
   "outputs": [
    {
     "data": {
      "text/plain": [
       "array(['00195750', '26353410', '30231G10', '37044210'], dtype=object)"
      ]
     },
     "execution_count": 38,
     "metadata": {},
     "output_type": "execute_result"
    }
   ],
   "source": [
    "np.unique(df_early['cusip'].values)"
   ]
  },
  {
   "cell_type": "code",
   "execution_count": 90,
   "metadata": {},
   "outputs": [],
   "source": [
    "def get_days(start_dt, end_dt):\n",
    "    nyse = mcal.get_calendar('NYSE')\n",
    "    return [day.date() for day in nyse.valid_days(start_date=str(start_dt), \n",
    "                                                end_date=str(end_dt))]"
   ]
  },
  {
   "cell_type": "code",
   "execution_count": 91,
   "metadata": {},
   "outputs": [],
   "source": [
    "def get_weeks(start_dt, end_dt):\n",
    "#     weekday_dict = {'Monday': 0, 'Tuesday': 1, 'Wednesday': 2, 'Thursday': 3, \n",
    "#                     'Friday': 4, 'Saturday': 5, 'Sunday': 6}\n",
    "#     rollover = weekday_dict[weekday]\n",
    "    weeks = []\n",
    "\n",
    "    # get trading days and divide into weeks, rolling over on the given rollover day\n",
    "    current_week = []\n",
    "    days = get_days(start_dt, end_dt)\n",
    "    for i, day in enumerate(days):\n",
    "        # append to current week\n",
    "        current_week.append(day)\n",
    "\n",
    "        #end of the week check\n",
    "        if i+1<len(days):\n",
    "            next_day = days[i+1]\n",
    "            if next_day.weekday() < day.weekday(): #if the next day's weekday comes before the current, then the next_day is in a new week\n",
    "                weeks.append(current_week)\n",
    "                current_week = []\n",
    "            elif (next_day-day).days > 4: #if the condition above didnt pass, check that >4 days didnt pass as well\n",
    "                weeks.append(current_week)\n",
    "                current_week = []\n",
    "\n",
    "    # append final week, even if it wasn't a full week period\n",
    "    if current_week: weeks.append(current_week)\n",
    "\n",
    "    return weeks"
   ]
  },
  {
   "cell_type": "code",
   "execution_count": 92,
   "metadata": {
    "scrolled": true
   },
   "outputs": [],
   "source": [
    "def get_periods(weeks):\n",
    "    periods = []\n",
    "    start_date = weeks[0][0]\n",
    "    end_date = None\n",
    "    for i in range(len(weeks)-1):\n",
    "        start = weeks[i][0] #this monday\n",
    "        end = weeks[i][-1]  #this friday\n",
    "\n",
    "        next_start = weeks[i+1][0] #next monday\n",
    "        next_end = weeks[i+1][-1]  #next friday\n",
    "\n",
    "        #if the current friday is in december, and the next weeks friday is in january, this is the end of one period\n",
    "        #the very next week will be the very start of the period\\\n",
    "        if end.month == 12 and next_end.month == 1:\n",
    "            end_date = end\n",
    "            periods.append([start_date,end_date])\n",
    "            start_date = next_start\n",
    "        #if the last day is in june, and the next weeks last day is in july, this is the end of one period\n",
    "        #the very next week will be the very start of the period\n",
    "        if end.month == 6 and next_end.month == 7:\n",
    "            end_date = end\n",
    "            periods.append([start_date,end_date])\n",
    "            start_date = next_start\n",
    "    periods.append([start_date, weeks[i+1][-1]])\n",
    "    for i in periods:\n",
    "        i[1] += timedelta(days=3)\n",
    "    return periods"
   ]
  },
  {
   "cell_type": "code",
   "execution_count": 97,
   "metadata": {},
   "outputs": [],
   "source": [
    "# combine daily returns into weekly ones\n",
    "# start_dt and end_dt are datetime.date objects\n",
    "# writes weekly data to file\n",
    "def get_weekly_rets(start_dt, end_dt):\n",
    "    \n",
    "    # parameters\n",
    "    min_valid_weeks = 20 # minimum # of valid weeks to calculate std\n",
    "    min_market_cap = 10000 # minimum market cap a stock must have to be counted\n",
    "    \n",
    "    # get cusip/ticker and week info; set up name/week/period references\n",
    "    conn = wrds.Connection(wrds_username='kaihvc')\n",
    "    name_fields = ['cusip']\n",
    "    names = conn.get_table(library='crsp', table='stocknames', columns=name_fields)\n",
    "    name_dict = dict()\n",
    "    weeks = get_weeks(start_dt, end_dt)\n",
    "    wk_starts = [week[0] for week in weeks]\n",
    "    # REMIND: per[1] is the next Monday, so we need a ' - timedelta(days=1)' \n",
    "    #   either here or in get_periods)\n",
    "    periods = get_periods(weeks)\n",
    "    \n",
    "    # file to store weekly returns (reset on every run)\n",
    "#     with open('data/temp_wkly_rets.csv', 'w') as file:\n",
    "#         file.write('cusip,date,ret')\n",
    "    with open('data/temp_deviations.csv', 'w') as file:\n",
    "        file.write('cusip,date,std')\n",
    "    \n",
    "    # data collection/processing\n",
    "    print('Iterating through tickers...')\n",
    "    for cusip in names.iloc[::-8600]['cusip']:\n",
    "        if cusip not in name_dict:\n",
    "            \n",
    "            # get data for cusip & filter by market cap\n",
    "            query = f\"SELECT date, ret FROM crsp.dsf WHERE cusip='{cusip}' AND date>='{str(start_dt)}' AND date<='{str(end_dt)}' AND prc*shrout>={min_market_cap}\"\n",
    "            daily_data = conn.raw_sql(query)\n",
    "            if daily_data.empty:\n",
    "                name_dict[cusip] = ''\n",
    "                continue\n",
    "            \n",
    "            # create weekly ret & std dataframes\n",
    "            weekly_returns = pd.DataFrame(index=pd.MultiIndex.from_product([[cusip], wk_starts]), \n",
    "                                                              columns=['return'])\n",
    "            devs = pd.DataFrame(index=[cusip], columns=['P' + str(i) for i in range(len(periods))])\n",
    "#             devs = pd.DataFrame(index=pd.MultiIndex.from_product([[cusip], \n",
    "#                                                                  [per[0] for per in periods]]),\n",
    "#                                                                  columns=['std'])\n",
    "            \n",
    "            # separate into weeks\n",
    "            for week in weeks:\n",
    "                \n",
    "                # if daily data exists for this stock for this week, calculate returns\n",
    "                day_indices = daily_data['date'].isin(week)\n",
    "                if np.any(day_indices):\n",
    "                    \n",
    "                    # overall weekly return calculation\n",
    "                    daily_rets = daily_data['ret'].loc[day_indices]\n",
    "                    weekly_ret = np.product([1 + ret for ret in daily_rets]) - 1\n",
    "                    weekly_returns.loc[(cusip, week[0]), 'return'] = weekly_ret\n",
    "                    \n",
    "            # calculate standard deviations of ~26 week periods\n",
    "            for i, per in enumerate(periods):\n",
    "            \n",
    "                period_returns = weekly_returns.loc[cusip][per[0]:per[1] - timedelta(days=1)].dropna().values\n",
    "                std = np.std(period_returns) if len(period_returns) >= min_valid_weeks else np.nan\n",
    "                \n",
    "                devs.loc[cusip]['P' + str(i)] = std\n",
    "#                 devs.loc[(cusip, per[0]), 'std'] = std # index by monday\n",
    "            \n",
    "            # if weekly return data exists, append to file\n",
    "            if not weekly_returns['return'].dropna().empty:\n",
    "#                 with open('data/temp_wkly_rets.csv', 'a') as file:\n",
    "#                     weekly_returns.to_csv(file, header=False)\n",
    "                with open('data/temp_deviations.csv', 'a') as file:\n",
    "                    devs.to_csv(file, header=False)\n",
    "            \n",
    "            # flag cusip as completed\n",
    "            name_dict[cusip] = ''\n",
    "            \n",
    "    print('Done')"
   ]
  },
  {
   "cell_type": "code",
   "execution_count": 98,
   "metadata": {
    "scrolled": true
   },
   "outputs": [
    {
     "name": "stdout",
     "output_type": "stream",
     "text": [
      "Loading library list...\n",
      "Done\n",
      "Iterating through tickers...\n",
      "Done\n"
     ]
    }
   ],
   "source": [
    "get_weekly_rets(date(1950, 1, 1), date(2021, 1, 1))"
   ]
  },
  {
   "cell_type": "markdown",
   "metadata": {},
   "source": [
    "Notes: need 20/26 weeks to be valid  \n",
    "Figure out holidays within `get_weeks()`, then just throw out NaNs in the data  \n",
    "Outstanding shares are reported in thousands, so we should adjust our market cap calculation"
   ]
  },
  {
   "cell_type": "markdown",
   "metadata": {},
   "source": [
    "## Parallelizable implementation"
   ]
  },
  {
   "cell_type": "code",
   "execution_count": 28,
   "metadata": {},
   "outputs": [],
   "source": [
    "# combine daily returns into weekly ones\n",
    "# start_dt and end_dt are datetime.date objects\n",
    "# nsplits is number of segments to portion the cusip name list into\n",
    "# worker id indicates which segments the function should work with\n",
    "def get_weekly_rets_parallel(start_dt, end_dt, conn, names, name_dict, weeks, \n",
    "                             periods, nsplits=7, worker_id=0):\n",
    "    \n",
    "    # parameters\n",
    "    min_valid_weeks = 20 # minimum # of valid weeks to calculate std\n",
    "    min_market_cap = 10000000 # minimum market cap a stock must have to be counted\n",
    "    \n",
    "    # get cusip/ticker and week info; set up name/week/period references\n",
    "#     conn = wrds.Connection(wrds_username='kaihvc')\n",
    "#     name_fields = ['cusip']\n",
    "#     names = conn.get_table(library='crsp', table='stocknames', columns=name_fields)\n",
    "#     name_dict = dict()\n",
    "#     weeks = get_weeks(start_dt, end_dt)\n",
    "    wk_starts = [week[0] for week in weeks]\n",
    "#     # REMIND: per[1] is the next Monday, so we need a ' - timedelta(days=1)' \n",
    "#     #   either here or in get_periods)\n",
    "#     periods = get_periods(weeks)\n",
    "    \n",
    "    # parallelizability\n",
    "    interval = int(len(names) / splits)\n",
    "    slice_start = worker_id * interval\n",
    "    slice_end = min(slice_start + interval, len(names))\n",
    "    \n",
    "    # file to store weekly returns (reset on every run)\n",
    "    with open(f'wrds_results/temp_wkly_rets{worker_id}.csv', 'w') as file:\n",
    "        file.write('cusip,date,ret\\n')\n",
    "    with open(f'wrds_results/temp_deviations{worker_id}.csv', 'w') as file:\n",
    "        file.write('cusip,date,std\\n')\n",
    "    \n",
    "    # data collection/processing\n",
    "    for cusip in names.iloc[slice_start:slice_end]['cusip']:\n",
    "        if cusip not in name_dict:\n",
    "            \n",
    "            # get data for cusip & filter by market cap\n",
    "            query = f\"SELECT date, ret FROM crsp.dsf WHERE cusip='{cusip}' AND date>='{str(start_dt)}' AND date<='{str(end_dt)}' AND prc*shrout>={min_market_cap}\"\n",
    "            daily_data = conn.raw_sql(query)\n",
    "            \n",
    "            # create weekly ret & std dataframes\n",
    "            weekly_returns = pd.DataFrame(index=pd.MultiIndex.from_product([[cusip], wk_starts]), \n",
    "                                                              columns=['return'])\n",
    "            devs = pd.DataFrame(index=[cusip], columns=['P' + str(i) for i in range(len(periods))])\n",
    "#             devs = pd.DataFrame(index=pd.MultiIndex.from_product([[cusip], \n",
    "#                                                                  [per[0] for per in periods]]),\n",
    "#                                                                  columns=['std'])\n",
    "            \n",
    "            # separate into weeks\n",
    "            for week in weeks:\n",
    "                \n",
    "                # if daily data exists for this stock for this week, calculate returns\n",
    "                day_indices = daily_data['date'].isin(week)\n",
    "                if np.any(day_indices):\n",
    "                    \n",
    "                    # overall weekly return calculation\n",
    "                    daily_rets = daily_data['ret'].loc[day_indices]\n",
    "                    weekly_ret = np.product([1 + ret for ret in daily_rets]) - 1\n",
    "                    weekly_returns.loc[(cusip, week[0]), 'return'] = weekly_ret\n",
    "                    \n",
    "            # calculate standard deviations of ~26 week periods\n",
    "            for i, per in enumerate(periods):\n",
    "            \n",
    "                period_returns = weekly_returns.loc[cusip][per[0]:per[1] - timedelta(days=1)].dropna().values\n",
    "                std = np.std(period_returns) if len(period_returns) >= min_valid_weeks else np.nan\n",
    "                \n",
    "                devs.loc[cusip]['P' + str(i)] = std\n",
    "#                 devs.loc[(cusip, per[0]), 'std'] = std # index by monday\n",
    "            \n",
    "            # if weekly return data exists, append to file\n",
    "            if not weekly_returns['return'].dropna().empty:\n",
    "                with open(f'wrds_results/temp_wkly_rets{worker_id}.csv', 'a') as file:\n",
    "                    weekly_returns.to_csv(file, header=False)\n",
    "                with open(f'wrds_results/temp_deviations{worker_id}.csv', 'a') as file:\n",
    "                    devs.to_csv(file, header=False)\n",
    "            \n",
    "            # flag cusip as completed\n",
    "            name_dict[cusip] = ''"
   ]
  },
  {
   "cell_type": "code",
   "execution_count": 29,
   "metadata": {},
   "outputs": [
    {
     "name": "stdout",
     "output_type": "stream",
     "text": [
      "Loading library list...\n",
      "Done\n",
      "Gathering data for split 0...\n",
      "Split 0 complete\n"
     ]
    }
   ],
   "source": [
    "splits = 100\n",
    "start_dt = date(1950, 1, 1)\n",
    "end_dt = date(2021, 11, 11)\n",
    "for i in range(1):\n",
    "    # setup\n",
    "    conn = wrds.Connection(wrds_username='kaihvc')\n",
    "    name_fields = ['cusip']\n",
    "    names = conn.get_table(library='crsp', table='stocknames', columns=name_fields)\n",
    "    name_dict = dict()\n",
    "    weeks = get_weeks(start_dt, end_dt)\n",
    "    periods = get_periods(weeks)\n",
    "    \n",
    "    print(f'Gathering data for split {i}...')\n",
    "    get_weekly_rets_parallel(start_dt, end_dt, conn, names, name_dict, weeks, \n",
    "                             periods, nsplits=splits, worker_id=i)\n",
    "    print(f'Split {i} complete')"
   ]
  },
  {
   "cell_type": "code",
   "execution_count": 24,
   "metadata": {},
   "outputs": [
    {
     "name": "stdout",
     "output_type": "stream",
     "text": [
      "Loading library list...\n",
      "Done\n",
      "Gathering data for split 1...\n"
     ]
    },
    {
     "ename": "KeyboardInterrupt",
     "evalue": "",
     "output_type": "error",
     "traceback": [
      "\u001b[1;31m---------------------------------------------------------------------------\u001b[0m",
      "\u001b[1;31mKeyboardInterrupt\u001b[0m                         Traceback (most recent call last)",
      "\u001b[1;32m<ipython-input-24-e01c41c95f00>\u001b[0m in \u001b[0;36m<module>\u001b[1;34m\u001b[0m\n\u001b[0;32m      2\u001b[0m     \u001b[0mconn\u001b[0m \u001b[1;33m=\u001b[0m \u001b[0mwrds\u001b[0m\u001b[1;33m.\u001b[0m\u001b[0mConnection\u001b[0m\u001b[1;33m(\u001b[0m\u001b[0mwrds_username\u001b[0m\u001b[1;33m=\u001b[0m\u001b[1;34m'kaihvc'\u001b[0m\u001b[1;33m)\u001b[0m\u001b[1;33m\u001b[0m\u001b[1;33m\u001b[0m\u001b[0m\n\u001b[0;32m      3\u001b[0m     \u001b[0mprint\u001b[0m\u001b[1;33m(\u001b[0m\u001b[1;34mf'Gathering data for split {i}...'\u001b[0m\u001b[1;33m)\u001b[0m\u001b[1;33m\u001b[0m\u001b[1;33m\u001b[0m\u001b[0m\n\u001b[1;32m----> 4\u001b[1;33m     \u001b[0mget_weekly_rets_parallel\u001b[0m\u001b[1;33m(\u001b[0m\u001b[0mstart_dt\u001b[0m\u001b[1;33m,\u001b[0m \u001b[0mend_dt\u001b[0m\u001b[1;33m,\u001b[0m \u001b[0mconn\u001b[0m\u001b[1;33m,\u001b[0m \u001b[0mnsplits\u001b[0m\u001b[1;33m=\u001b[0m\u001b[0msplits\u001b[0m\u001b[1;33m,\u001b[0m \u001b[0mworker_id\u001b[0m\u001b[1;33m=\u001b[0m\u001b[0mi\u001b[0m\u001b[1;33m)\u001b[0m\u001b[1;33m\u001b[0m\u001b[1;33m\u001b[0m\u001b[0m\n\u001b[0m\u001b[0;32m      5\u001b[0m     \u001b[0mprint\u001b[0m\u001b[1;33m(\u001b[0m\u001b[1;34mf'Split {i} complete'\u001b[0m\u001b[1;33m)\u001b[0m\u001b[1;33m\u001b[0m\u001b[1;33m\u001b[0m\u001b[0m\n",
      "\u001b[1;32m<ipython-input-22-7d8db1516b0e>\u001b[0m in \u001b[0;36mget_weekly_rets_parallel\u001b[1;34m(start_dt, end_dt, conn, nsplits, worker_id)\u001b[0m\n\u001b[0;32m     37\u001b[0m             \u001b[1;31m# get data for cusip & filter by market cap\u001b[0m\u001b[1;33m\u001b[0m\u001b[1;33m\u001b[0m\u001b[1;33m\u001b[0m\u001b[0m\n\u001b[0;32m     38\u001b[0m             \u001b[0mquery\u001b[0m \u001b[1;33m=\u001b[0m \u001b[1;34mf\"SELECT date, ret FROM crsp.dsf WHERE cusip='{cusip}' AND date>='{str(start_dt)}' AND date<='{str(end_dt)}' AND prc*shrout>={min_market_cap}\"\u001b[0m\u001b[1;33m\u001b[0m\u001b[1;33m\u001b[0m\u001b[0m\n\u001b[1;32m---> 39\u001b[1;33m             \u001b[0mdaily_data\u001b[0m \u001b[1;33m=\u001b[0m \u001b[0mconn\u001b[0m\u001b[1;33m.\u001b[0m\u001b[0mraw_sql\u001b[0m\u001b[1;33m(\u001b[0m\u001b[0mquery\u001b[0m\u001b[1;33m)\u001b[0m\u001b[1;33m\u001b[0m\u001b[1;33m\u001b[0m\u001b[0m\n\u001b[0m\u001b[0;32m     40\u001b[0m \u001b[1;33m\u001b[0m\u001b[0m\n\u001b[0;32m     41\u001b[0m             \u001b[1;31m# create weekly ret & std dataframes\u001b[0m\u001b[1;33m\u001b[0m\u001b[1;33m\u001b[0m\u001b[1;33m\u001b[0m\u001b[0m\n",
      "\u001b[1;32mc:\\users\\kaih2\\appdata\\local\\programs\\python\\python38\\lib\\site-packages\\wrds\\sql.py\u001b[0m in \u001b[0;36mraw_sql\u001b[1;34m(self, sql, coerce_float, date_cols, index_col, params, chunksize, return_iter)\u001b[0m\n\u001b[0;32m    538\u001b[0m         \u001b[1;32mtry\u001b[0m\u001b[1;33m:\u001b[0m\u001b[1;33m\u001b[0m\u001b[1;33m\u001b[0m\u001b[0m\n\u001b[0;32m    539\u001b[0m \u001b[1;33m\u001b[0m\u001b[0m\n\u001b[1;32m--> 540\u001b[1;33m             df = pd.read_sql_query(\n\u001b[0m\u001b[0;32m    541\u001b[0m                 \u001b[0msql\u001b[0m\u001b[1;33m,\u001b[0m\u001b[1;33m\u001b[0m\u001b[1;33m\u001b[0m\u001b[0m\n\u001b[0;32m    542\u001b[0m                 \u001b[0mself\u001b[0m\u001b[1;33m.\u001b[0m\u001b[0mconnection\u001b[0m\u001b[1;33m,\u001b[0m\u001b[1;33m\u001b[0m\u001b[1;33m\u001b[0m\u001b[0m\n",
      "\u001b[1;32mc:\\users\\kaih2\\appdata\\local\\programs\\python\\python38\\lib\\site-packages\\pandas\\io\\sql.py\u001b[0m in \u001b[0;36mread_sql_query\u001b[1;34m(sql, con, index_col, coerce_float, params, parse_dates, chunksize, dtype)\u001b[0m\n\u001b[0;32m    434\u001b[0m     \"\"\"\n\u001b[0;32m    435\u001b[0m     \u001b[0mpandas_sql\u001b[0m \u001b[1;33m=\u001b[0m \u001b[0mpandasSQL_builder\u001b[0m\u001b[1;33m(\u001b[0m\u001b[0mcon\u001b[0m\u001b[1;33m)\u001b[0m\u001b[1;33m\u001b[0m\u001b[1;33m\u001b[0m\u001b[0m\n\u001b[1;32m--> 436\u001b[1;33m     return pandas_sql.read_query(\n\u001b[0m\u001b[0;32m    437\u001b[0m         \u001b[0msql\u001b[0m\u001b[1;33m,\u001b[0m\u001b[1;33m\u001b[0m\u001b[1;33m\u001b[0m\u001b[0m\n\u001b[0;32m    438\u001b[0m         \u001b[0mindex_col\u001b[0m\u001b[1;33m=\u001b[0m\u001b[0mindex_col\u001b[0m\u001b[1;33m,\u001b[0m\u001b[1;33m\u001b[0m\u001b[1;33m\u001b[0m\u001b[0m\n",
      "\u001b[1;32mc:\\users\\kaih2\\appdata\\local\\programs\\python\\python38\\lib\\site-packages\\pandas\\io\\sql.py\u001b[0m in \u001b[0;36mread_query\u001b[1;34m(self, sql, index_col, coerce_float, parse_dates, params, chunksize, dtype)\u001b[0m\n\u001b[0;32m   1577\u001b[0m         \u001b[0margs\u001b[0m \u001b[1;33m=\u001b[0m \u001b[0m_convert_params\u001b[0m\u001b[1;33m(\u001b[0m\u001b[0msql\u001b[0m\u001b[1;33m,\u001b[0m \u001b[0mparams\u001b[0m\u001b[1;33m)\u001b[0m\u001b[1;33m\u001b[0m\u001b[1;33m\u001b[0m\u001b[0m\n\u001b[0;32m   1578\u001b[0m \u001b[1;33m\u001b[0m\u001b[0m\n\u001b[1;32m-> 1579\u001b[1;33m         \u001b[0mresult\u001b[0m \u001b[1;33m=\u001b[0m \u001b[0mself\u001b[0m\u001b[1;33m.\u001b[0m\u001b[0mexecute\u001b[0m\u001b[1;33m(\u001b[0m\u001b[1;33m*\u001b[0m\u001b[0margs\u001b[0m\u001b[1;33m)\u001b[0m\u001b[1;33m\u001b[0m\u001b[1;33m\u001b[0m\u001b[0m\n\u001b[0m\u001b[0;32m   1580\u001b[0m         \u001b[0mcolumns\u001b[0m \u001b[1;33m=\u001b[0m \u001b[0mresult\u001b[0m\u001b[1;33m.\u001b[0m\u001b[0mkeys\u001b[0m\u001b[1;33m(\u001b[0m\u001b[1;33m)\u001b[0m\u001b[1;33m\u001b[0m\u001b[1;33m\u001b[0m\u001b[0m\n\u001b[0;32m   1581\u001b[0m \u001b[1;33m\u001b[0m\u001b[0m\n",
      "\u001b[1;32mc:\\users\\kaih2\\appdata\\local\\programs\\python\\python38\\lib\\site-packages\\pandas\\io\\sql.py\u001b[0m in \u001b[0;36mexecute\u001b[1;34m(self, *args, **kwargs)\u001b[0m\n\u001b[0;32m   1422\u001b[0m     \u001b[1;32mdef\u001b[0m \u001b[0mexecute\u001b[0m\u001b[1;33m(\u001b[0m\u001b[0mself\u001b[0m\u001b[1;33m,\u001b[0m \u001b[1;33m*\u001b[0m\u001b[0margs\u001b[0m\u001b[1;33m,\u001b[0m \u001b[1;33m**\u001b[0m\u001b[0mkwargs\u001b[0m\u001b[1;33m)\u001b[0m\u001b[1;33m:\u001b[0m\u001b[1;33m\u001b[0m\u001b[1;33m\u001b[0m\u001b[0m\n\u001b[0;32m   1423\u001b[0m         \u001b[1;34m\"\"\"Simple passthrough to SQLAlchemy connectable\"\"\"\u001b[0m\u001b[1;33m\u001b[0m\u001b[1;33m\u001b[0m\u001b[0m\n\u001b[1;32m-> 1424\u001b[1;33m         \u001b[1;32mreturn\u001b[0m \u001b[0mself\u001b[0m\u001b[1;33m.\u001b[0m\u001b[0mconnectable\u001b[0m\u001b[1;33m.\u001b[0m\u001b[0mexecution_options\u001b[0m\u001b[1;33m(\u001b[0m\u001b[1;33m)\u001b[0m\u001b[1;33m.\u001b[0m\u001b[0mexecute\u001b[0m\u001b[1;33m(\u001b[0m\u001b[1;33m*\u001b[0m\u001b[0margs\u001b[0m\u001b[1;33m,\u001b[0m \u001b[1;33m**\u001b[0m\u001b[0mkwargs\u001b[0m\u001b[1;33m)\u001b[0m\u001b[1;33m\u001b[0m\u001b[1;33m\u001b[0m\u001b[0m\n\u001b[0m\u001b[0;32m   1425\u001b[0m \u001b[1;33m\u001b[0m\u001b[0m\n\u001b[0;32m   1426\u001b[0m     def read_table(\n",
      "\u001b[1;32mc:\\users\\kaih2\\appdata\\local\\programs\\python\\python38\\lib\\site-packages\\sqlalchemy\\engine\\base.py\u001b[0m in \u001b[0;36mexecute\u001b[1;34m(self, statement, *multiparams, **params)\u001b[0m\n\u001b[0;32m   1269\u001b[0m             )\n\u001b[0;32m   1270\u001b[0m \u001b[1;33m\u001b[0m\u001b[0m\n\u001b[1;32m-> 1271\u001b[1;33m             return self._exec_driver_sql(\n\u001b[0m\u001b[0;32m   1272\u001b[0m                 \u001b[0mstatement\u001b[0m\u001b[1;33m,\u001b[0m\u001b[1;33m\u001b[0m\u001b[1;33m\u001b[0m\u001b[0m\n\u001b[0;32m   1273\u001b[0m                 \u001b[0mmultiparams\u001b[0m\u001b[1;33m,\u001b[0m\u001b[1;33m\u001b[0m\u001b[1;33m\u001b[0m\u001b[0m\n",
      "\u001b[1;32mc:\\users\\kaih2\\appdata\\local\\programs\\python\\python38\\lib\\site-packages\\sqlalchemy\\engine\\base.py\u001b[0m in \u001b[0;36m_exec_driver_sql\u001b[1;34m(self, statement, multiparams, params, execution_options, future)\u001b[0m\n\u001b[0;32m   1573\u001b[0m \u001b[1;33m\u001b[0m\u001b[0m\n\u001b[0;32m   1574\u001b[0m         \u001b[0mdialect\u001b[0m \u001b[1;33m=\u001b[0m \u001b[0mself\u001b[0m\u001b[1;33m.\u001b[0m\u001b[0mdialect\u001b[0m\u001b[1;33m\u001b[0m\u001b[1;33m\u001b[0m\u001b[0m\n\u001b[1;32m-> 1575\u001b[1;33m         ret = self._execute_context(\n\u001b[0m\u001b[0;32m   1576\u001b[0m             \u001b[0mdialect\u001b[0m\u001b[1;33m,\u001b[0m\u001b[1;33m\u001b[0m\u001b[1;33m\u001b[0m\u001b[0m\n\u001b[0;32m   1577\u001b[0m             \u001b[0mdialect\u001b[0m\u001b[1;33m.\u001b[0m\u001b[0mexecution_ctx_cls\u001b[0m\u001b[1;33m.\u001b[0m\u001b[0m_init_statement\u001b[0m\u001b[1;33m,\u001b[0m\u001b[1;33m\u001b[0m\u001b[1;33m\u001b[0m\u001b[0m\n",
      "\u001b[1;32mc:\\users\\kaih2\\appdata\\local\\programs\\python\\python38\\lib\\site-packages\\sqlalchemy\\engine\\base.py\u001b[0m in \u001b[0;36m_execute_context\u001b[1;34m(self, dialect, constructor, statement, parameters, execution_options, *args, **kw)\u001b[0m\n\u001b[0;32m   1840\u001b[0m \u001b[1;33m\u001b[0m\u001b[0m\n\u001b[0;32m   1841\u001b[0m         \u001b[1;32mexcept\u001b[0m \u001b[0mBaseException\u001b[0m \u001b[1;32mas\u001b[0m \u001b[0me\u001b[0m\u001b[1;33m:\u001b[0m\u001b[1;33m\u001b[0m\u001b[1;33m\u001b[0m\u001b[0m\n\u001b[1;32m-> 1842\u001b[1;33m             self._handle_dbapi_exception(\n\u001b[0m\u001b[0;32m   1843\u001b[0m                 \u001b[0me\u001b[0m\u001b[1;33m,\u001b[0m \u001b[0mstatement\u001b[0m\u001b[1;33m,\u001b[0m \u001b[0mparameters\u001b[0m\u001b[1;33m,\u001b[0m \u001b[0mcursor\u001b[0m\u001b[1;33m,\u001b[0m \u001b[0mcontext\u001b[0m\u001b[1;33m\u001b[0m\u001b[1;33m\u001b[0m\u001b[0m\n\u001b[0;32m   1844\u001b[0m             )\n",
      "\u001b[1;32mc:\\users\\kaih2\\appdata\\local\\programs\\python\\python38\\lib\\site-packages\\sqlalchemy\\engine\\base.py\u001b[0m in \u001b[0;36m_handle_dbapi_exception\u001b[1;34m(self, e, statement, parameters, cursor, context)\u001b[0m\n\u001b[0;32m   2025\u001b[0m                 )\n\u001b[0;32m   2026\u001b[0m             \u001b[1;32melse\u001b[0m\u001b[1;33m:\u001b[0m\u001b[1;33m\u001b[0m\u001b[1;33m\u001b[0m\u001b[0m\n\u001b[1;32m-> 2027\u001b[1;33m                 \u001b[0mutil\u001b[0m\u001b[1;33m.\u001b[0m\u001b[0mraise_\u001b[0m\u001b[1;33m(\u001b[0m\u001b[0mexc_info\u001b[0m\u001b[1;33m[\u001b[0m\u001b[1;36m1\u001b[0m\u001b[1;33m]\u001b[0m\u001b[1;33m,\u001b[0m \u001b[0mwith_traceback\u001b[0m\u001b[1;33m=\u001b[0m\u001b[0mexc_info\u001b[0m\u001b[1;33m[\u001b[0m\u001b[1;36m2\u001b[0m\u001b[1;33m]\u001b[0m\u001b[1;33m)\u001b[0m\u001b[1;33m\u001b[0m\u001b[1;33m\u001b[0m\u001b[0m\n\u001b[0m\u001b[0;32m   2028\u001b[0m \u001b[1;33m\u001b[0m\u001b[0m\n\u001b[0;32m   2029\u001b[0m         \u001b[1;32mfinally\u001b[0m\u001b[1;33m:\u001b[0m\u001b[1;33m\u001b[0m\u001b[1;33m\u001b[0m\u001b[0m\n",
      "\u001b[1;32mc:\\users\\kaih2\\appdata\\local\\programs\\python\\python38\\lib\\site-packages\\sqlalchemy\\util\\compat.py\u001b[0m in \u001b[0;36mraise_\u001b[1;34m(***failed resolving arguments***)\u001b[0m\n\u001b[0;32m    205\u001b[0m \u001b[1;33m\u001b[0m\u001b[0m\n\u001b[0;32m    206\u001b[0m         \u001b[1;32mtry\u001b[0m\u001b[1;33m:\u001b[0m\u001b[1;33m\u001b[0m\u001b[1;33m\u001b[0m\u001b[0m\n\u001b[1;32m--> 207\u001b[1;33m             \u001b[1;32mraise\u001b[0m \u001b[0mexception\u001b[0m\u001b[1;33m\u001b[0m\u001b[1;33m\u001b[0m\u001b[0m\n\u001b[0m\u001b[0;32m    208\u001b[0m         \u001b[1;32mfinally\u001b[0m\u001b[1;33m:\u001b[0m\u001b[1;33m\u001b[0m\u001b[1;33m\u001b[0m\u001b[0m\n\u001b[0;32m    209\u001b[0m             \u001b[1;31m# credit to\u001b[0m\u001b[1;33m\u001b[0m\u001b[1;33m\u001b[0m\u001b[1;33m\u001b[0m\u001b[0m\n",
      "\u001b[1;32mc:\\users\\kaih2\\appdata\\local\\programs\\python\\python38\\lib\\site-packages\\sqlalchemy\\engine\\base.py\u001b[0m in \u001b[0;36m_execute_context\u001b[1;34m(self, dialect, constructor, statement, parameters, execution_options, *args, **kw)\u001b[0m\n\u001b[0;32m   1797\u001b[0m                             \u001b[1;32mbreak\u001b[0m\u001b[1;33m\u001b[0m\u001b[1;33m\u001b[0m\u001b[0m\n\u001b[0;32m   1798\u001b[0m                 \u001b[1;32mif\u001b[0m \u001b[1;32mnot\u001b[0m \u001b[0mevt_handled\u001b[0m\u001b[1;33m:\u001b[0m\u001b[1;33m\u001b[0m\u001b[1;33m\u001b[0m\u001b[0m\n\u001b[1;32m-> 1799\u001b[1;33m                     self.dialect.do_execute(\n\u001b[0m\u001b[0;32m   1800\u001b[0m                         \u001b[0mcursor\u001b[0m\u001b[1;33m,\u001b[0m \u001b[0mstatement\u001b[0m\u001b[1;33m,\u001b[0m \u001b[0mparameters\u001b[0m\u001b[1;33m,\u001b[0m \u001b[0mcontext\u001b[0m\u001b[1;33m\u001b[0m\u001b[1;33m\u001b[0m\u001b[0m\n\u001b[0;32m   1801\u001b[0m                     )\n",
      "\u001b[1;32mc:\\users\\kaih2\\appdata\\local\\programs\\python\\python38\\lib\\site-packages\\sqlalchemy\\engine\\default.py\u001b[0m in \u001b[0;36mdo_execute\u001b[1;34m(self, cursor, statement, parameters, context)\u001b[0m\n\u001b[0;32m    715\u001b[0m \u001b[1;33m\u001b[0m\u001b[0m\n\u001b[0;32m    716\u001b[0m     \u001b[1;32mdef\u001b[0m \u001b[0mdo_execute\u001b[0m\u001b[1;33m(\u001b[0m\u001b[0mself\u001b[0m\u001b[1;33m,\u001b[0m \u001b[0mcursor\u001b[0m\u001b[1;33m,\u001b[0m \u001b[0mstatement\u001b[0m\u001b[1;33m,\u001b[0m \u001b[0mparameters\u001b[0m\u001b[1;33m,\u001b[0m \u001b[0mcontext\u001b[0m\u001b[1;33m=\u001b[0m\u001b[1;32mNone\u001b[0m\u001b[1;33m)\u001b[0m\u001b[1;33m:\u001b[0m\u001b[1;33m\u001b[0m\u001b[1;33m\u001b[0m\u001b[0m\n\u001b[1;32m--> 717\u001b[1;33m         \u001b[0mcursor\u001b[0m\u001b[1;33m.\u001b[0m\u001b[0mexecute\u001b[0m\u001b[1;33m(\u001b[0m\u001b[0mstatement\u001b[0m\u001b[1;33m,\u001b[0m \u001b[0mparameters\u001b[0m\u001b[1;33m)\u001b[0m\u001b[1;33m\u001b[0m\u001b[1;33m\u001b[0m\u001b[0m\n\u001b[0m\u001b[0;32m    718\u001b[0m \u001b[1;33m\u001b[0m\u001b[0m\n\u001b[0;32m    719\u001b[0m     \u001b[1;32mdef\u001b[0m \u001b[0mdo_execute_no_params\u001b[0m\u001b[1;33m(\u001b[0m\u001b[0mself\u001b[0m\u001b[1;33m,\u001b[0m \u001b[0mcursor\u001b[0m\u001b[1;33m,\u001b[0m \u001b[0mstatement\u001b[0m\u001b[1;33m,\u001b[0m \u001b[0mcontext\u001b[0m\u001b[1;33m=\u001b[0m\u001b[1;32mNone\u001b[0m\u001b[1;33m)\u001b[0m\u001b[1;33m:\u001b[0m\u001b[1;33m\u001b[0m\u001b[1;33m\u001b[0m\u001b[0m\n",
      "\u001b[1;32mc:\\users\\kaih2\\appdata\\local\\programs\\python\\python38\\lib\\encodings\\utf_8.py\u001b[0m in \u001b[0;36mdecode\u001b[1;34m(input, errors)\u001b[0m\n\u001b[0;32m     13\u001b[0m \u001b[0mencode\u001b[0m \u001b[1;33m=\u001b[0m \u001b[0mcodecs\u001b[0m\u001b[1;33m.\u001b[0m\u001b[0mutf_8_encode\u001b[0m\u001b[1;33m\u001b[0m\u001b[1;33m\u001b[0m\u001b[0m\n\u001b[0;32m     14\u001b[0m \u001b[1;33m\u001b[0m\u001b[0m\n\u001b[1;32m---> 15\u001b[1;33m \u001b[1;32mdef\u001b[0m \u001b[0mdecode\u001b[0m\u001b[1;33m(\u001b[0m\u001b[0minput\u001b[0m\u001b[1;33m,\u001b[0m \u001b[0merrors\u001b[0m\u001b[1;33m=\u001b[0m\u001b[1;34m'strict'\u001b[0m\u001b[1;33m)\u001b[0m\u001b[1;33m:\u001b[0m\u001b[1;33m\u001b[0m\u001b[1;33m\u001b[0m\u001b[0m\n\u001b[0m\u001b[0;32m     16\u001b[0m     \u001b[1;32mreturn\u001b[0m \u001b[0mcodecs\u001b[0m\u001b[1;33m.\u001b[0m\u001b[0mutf_8_decode\u001b[0m\u001b[1;33m(\u001b[0m\u001b[0minput\u001b[0m\u001b[1;33m,\u001b[0m \u001b[0merrors\u001b[0m\u001b[1;33m,\u001b[0m \u001b[1;32mTrue\u001b[0m\u001b[1;33m)\u001b[0m\u001b[1;33m\u001b[0m\u001b[1;33m\u001b[0m\u001b[0m\n\u001b[0;32m     17\u001b[0m \u001b[1;33m\u001b[0m\u001b[0m\n",
      "\u001b[1;31mKeyboardInterrupt\u001b[0m: "
     ]
    }
   ],
   "source": [
    "for i in range(1, splits):\n",
    "    conn = wrds.Connection(wrds_username='kaihvc')\n",
    "    print(f'Gathering data for split {i}...')\n",
    "    get_weekly_rets_parallel(start_dt, end_dt, conn, nsplits=splits, worker_id=i)\n",
    "    print(f'Split {i} complete')"
   ]
  },
  {
   "cell_type": "markdown",
   "metadata": {},
   "source": [
    "## Results"
   ]
  },
  {
   "cell_type": "code",
   "execution_count": 3,
   "metadata": {},
   "outputs": [
    {
     "name": "stdout",
     "output_type": "stream",
     "text": [
      "Loading library list...\n",
      "Done\n"
     ]
    }
   ],
   "source": [
    "conn = wrds.Connection(wrds_username='kaihvc')"
   ]
  },
  {
   "cell_type": "code",
   "execution_count": 5,
   "metadata": {},
   "outputs": [],
   "source": [
    "df_devs = pd.read_csv('wrds_results/temp_deviations (1).csv',index_col=0)\n",
    "# df_names = conn.raw_sql('SELECT cusip, ticker FROM crsp.stocknames')\n",
    "\n",
    "# df_names.head()\n",
    "# tickers = df_names.loc[df_names['cusip'].isin(df.index)]\n",
    "# name_dict = \n",
    "# for i, row in tickers.iterrows():\n",
    "#     print(row)\n",
    "# print(len(df.index))\n",
    "# weeks = get_weeks(date(1950, 1, 1), date(2021, 1, 1))\n",
    "# periods = get_periods(weeks)\n",
    "# print(len(periods))\n",
    "# df.columns = [per[0] for per in periods]"
   ]
  },
  {
   "cell_type": "code",
   "execution_count": 15,
   "metadata": {
    "scrolled": false
   },
   "outputs": [
    {
     "data": {
      "text/html": [
       "<div>\n",
       "<style scoped>\n",
       "    .dataframe tbody tr th:only-of-type {\n",
       "        vertical-align: middle;\n",
       "    }\n",
       "\n",
       "    .dataframe tbody tr th {\n",
       "        vertical-align: top;\n",
       "    }\n",
       "\n",
       "    .dataframe thead th {\n",
       "        text-align: right;\n",
       "    }\n",
       "</style>\n",
       "<table border=\"1\" class=\"dataframe\">\n",
       "  <thead>\n",
       "    <tr style=\"text-align: right;\">\n",
       "      <th></th>\n",
       "      <th>01/03/1950 - 07/03/1950</th>\n",
       "      <th>07/03/1950 - 01/02/1951</th>\n",
       "      <th>01/02/1951 - 07/02/1951</th>\n",
       "      <th>07/02/1951 - 01/01/1952</th>\n",
       "      <th>12/31/1951 - 06/30/1952</th>\n",
       "      <th>06/30/1952 - 12/29/1952</th>\n",
       "      <th>12/29/1952 - 06/29/1953</th>\n",
       "      <th>06/29/1953 - 01/03/1954</th>\n",
       "      <th>01/04/1954 - 06/28/1954</th>\n",
       "      <th>06/28/1954 - 01/03/1955</th>\n",
       "      <th>...</th>\n",
       "      <th>01/04/2016 - 06/27/2016</th>\n",
       "      <th>06/27/2016 - 01/02/2017</th>\n",
       "      <th>01/03/2017 - 07/03/2017</th>\n",
       "      <th>07/03/2017 - 01/01/2018</th>\n",
       "      <th>01/02/2018 - 07/02/2018</th>\n",
       "      <th>07/02/2018 - 12/31/2018</th>\n",
       "      <th>12/31/2018 - 07/01/2019</th>\n",
       "      <th>07/01/2019 - 12/30/2019</th>\n",
       "      <th>12/30/2019 - 06/29/2020</th>\n",
       "      <th>06/29/2020 - 01/03/2021</th>\n",
       "    </tr>\n",
       "  </thead>\n",
       "  <tbody>\n",
       "  </tbody>\n",
       "</table>\n",
       "<p>0 rows × 142 columns</p>\n",
       "</div>"
      ],
      "text/plain": [
       "Empty DataFrame\n",
       "Columns: [01/03/1950 - 07/03/1950, 07/03/1950 - 01/02/1951, 01/02/1951 - 07/02/1951, 07/02/1951 - 01/01/1952, 12/31/1951 - 06/30/1952, 06/30/1952 - 12/29/1952, 12/29/1952 - 06/29/1953, 06/29/1953 - 01/03/1954, 01/04/1954 - 06/28/1954, 06/28/1954 - 01/03/1955, 01/03/1955 - 06/27/1955, 06/27/1955 - 01/02/1956, 01/03/1956 - 07/02/1956, 07/02/1956 - 12/31/1956, 12/31/1956 - 07/01/1957, 07/01/1957 - 12/30/1957, 12/30/1957 - 06/30/1958, 06/30/1958 - 12/27/1958, 12/29/1958 - 06/29/1959, 06/29/1959 - 01/03/1960, 01/04/1960 - 06/27/1960, 06/27/1960 - 01/02/1961, 01/03/1961 - 07/03/1961, 07/03/1961 - 01/01/1962, 01/02/1962 - 07/02/1962, 07/02/1962 - 12/31/1962, 12/31/1962 - 07/01/1963, 07/01/1963 - 12/30/1963, 12/30/1963 - 06/29/1964, 06/29/1964 - 01/03/1965, 01/04/1965 - 06/28/1965, 06/28/1965 - 01/03/1966, 01/03/1966 - 06/27/1966, 06/27/1966 - 01/02/1967, 01/03/1967 - 07/03/1967, 07/03/1967 - 01/01/1968, 01/02/1968 - 07/01/1968, 07/01/1968 - 12/30/1968, 12/30/1968 - 06/30/1969, 06/30/1969 - 12/29/1969, 12/29/1969 - 06/29/1970, 06/29/1970 - 01/03/1971, 01/04/1971 - 06/28/1971, 06/28/1971 - 01/03/1972, 01/03/1972 - 07/03/1972, 07/03/1972 - 01/01/1973, 01/02/1973 - 07/02/1973, 07/02/1973 - 12/31/1973, 12/31/1973 - 07/01/1974, 07/01/1974 - 12/30/1974, 12/30/1974 - 06/30/1975, 06/30/1975 - 12/29/1975, 12/29/1975 - 06/28/1976, 06/28/1976 - 01/03/1977, 01/03/1977 - 06/27/1977, 06/27/1977 - 01/02/1978, 01/03/1978 - 07/03/1978, 07/03/1978 - 01/01/1979, 01/02/1979 - 07/02/1979, 07/02/1979 - 12/31/1979, 12/31/1979 - 06/30/1980, 06/30/1980 - 12/29/1980, 12/29/1980 - 06/29/1981, 06/29/1981 - 01/03/1982, 01/04/1982 - 06/28/1982, 06/28/1982 - 01/03/1983, 01/03/1983 - 06/27/1983, 06/27/1983 - 01/02/1984, 01/03/1984 - 07/02/1984, 07/02/1984 - 12/31/1984, 12/31/1984 - 07/01/1985, 07/01/1985 - 12/30/1985, 12/30/1985 - 06/30/1986, 06/30/1986 - 12/29/1986, 12/29/1986 - 06/29/1987, 06/29/1987 - 01/03/1988, 01/04/1988 - 06/27/1988, 06/27/1988 - 01/02/1989, 01/03/1989 - 07/03/1989, 07/03/1989 - 01/01/1990, 01/02/1990 - 07/02/1990, 07/02/1990 - 12/31/1990, 12/31/1990 - 07/01/1991, 07/01/1991 - 12/30/1991, 12/30/1991 - 06/29/1992, 06/29/1992 - 01/03/1993, 01/04/1993 - 06/28/1993, 06/28/1993 - 01/03/1994, 01/03/1994 - 06/27/1994, 06/27/1994 - 01/02/1995, 01/03/1995 - 07/03/1995, 07/03/1995 - 01/01/1996, 01/02/1996 - 07/01/1996, 07/01/1996 - 12/30/1996, 12/30/1996 - 06/30/1997, 06/30/1997 - 12/29/1997, 12/29/1997 - 06/29/1998, 06/29/1998 - 01/03/1999, 01/04/1999 - 06/28/1999, 06/28/1999 - 01/03/2000, ...]\n",
       "Index: []\n",
       "\n",
       "[0 rows x 142 columns]"
      ]
     },
     "execution_count": 15,
     "metadata": {},
     "output_type": "execute_result"
    }
   ],
   "source": [
    "df_devs[df_devs.index == '39031810']"
   ]
  },
  {
   "cell_type": "code",
   "execution_count": 13,
   "metadata": {},
   "outputs": [
    {
     "data": {
      "text/html": [
       "<div>\n",
       "<style scoped>\n",
       "    .dataframe tbody tr th:only-of-type {\n",
       "        vertical-align: middle;\n",
       "    }\n",
       "\n",
       "    .dataframe tbody tr th {\n",
       "        vertical-align: top;\n",
       "    }\n",
       "\n",
       "    .dataframe thead th {\n",
       "        text-align: right;\n",
       "    }\n",
       "</style>\n",
       "<table border=\"1\" class=\"dataframe\">\n",
       "  <thead>\n",
       "    <tr style=\"text-align: right;\">\n",
       "      <th></th>\n",
       "      <th>01/03/1950 - 07/03/1950</th>\n",
       "      <th>07/03/1950 - 01/02/1951</th>\n",
       "      <th>01/02/1951 - 07/02/1951</th>\n",
       "      <th>07/02/1951 - 01/01/1952</th>\n",
       "      <th>12/31/1951 - 06/30/1952</th>\n",
       "      <th>06/30/1952 - 12/29/1952</th>\n",
       "      <th>12/29/1952 - 06/29/1953</th>\n",
       "      <th>06/29/1953 - 01/03/1954</th>\n",
       "      <th>01/04/1954 - 06/28/1954</th>\n",
       "      <th>06/28/1954 - 01/03/1955</th>\n",
       "      <th>...</th>\n",
       "      <th>01/04/2016 - 06/27/2016</th>\n",
       "      <th>06/27/2016 - 01/02/2017</th>\n",
       "      <th>01/03/2017 - 07/03/2017</th>\n",
       "      <th>07/03/2017 - 01/01/2018</th>\n",
       "      <th>01/02/2018 - 07/02/2018</th>\n",
       "      <th>07/02/2018 - 12/31/2018</th>\n",
       "      <th>12/31/2018 - 07/01/2019</th>\n",
       "      <th>07/01/2019 - 12/30/2019</th>\n",
       "      <th>12/30/2019 - 06/29/2020</th>\n",
       "      <th>06/29/2020 - 01/03/2021</th>\n",
       "    </tr>\n",
       "  </thead>\n",
       "  <tbody>\n",
       "    <tr>\n",
       "      <th>36720410</th>\n",
       "      <td>NaN</td>\n",
       "      <td>NaN</td>\n",
       "      <td>NaN</td>\n",
       "      <td>NaN</td>\n",
       "      <td>NaN</td>\n",
       "      <td>NaN</td>\n",
       "      <td>NaN</td>\n",
       "      <td>NaN</td>\n",
       "      <td>NaN</td>\n",
       "      <td>NaN</td>\n",
       "      <td>...</td>\n",
       "      <td>0.0285</td>\n",
       "      <td>0.1213</td>\n",
       "      <td>0.0052</td>\n",
       "      <td>NaN</td>\n",
       "      <td>NaN</td>\n",
       "      <td>NaN</td>\n",
       "      <td>NaN</td>\n",
       "      <td>NaN</td>\n",
       "      <td>NaN</td>\n",
       "      <td>NaN</td>\n",
       "    </tr>\n",
       "    <tr>\n",
       "      <th>05978R10</th>\n",
       "      <td>NaN</td>\n",
       "      <td>NaN</td>\n",
       "      <td>NaN</td>\n",
       "      <td>NaN</td>\n",
       "      <td>NaN</td>\n",
       "      <td>NaN</td>\n",
       "      <td>NaN</td>\n",
       "      <td>NaN</td>\n",
       "      <td>NaN</td>\n",
       "      <td>NaN</td>\n",
       "      <td>...</td>\n",
       "      <td>NaN</td>\n",
       "      <td>NaN</td>\n",
       "      <td>NaN</td>\n",
       "      <td>NaN</td>\n",
       "      <td>NaN</td>\n",
       "      <td>NaN</td>\n",
       "      <td>NaN</td>\n",
       "      <td>NaN</td>\n",
       "      <td>NaN</td>\n",
       "      <td>NaN</td>\n",
       "    </tr>\n",
       "    <tr>\n",
       "      <th>39031810</th>\n",
       "      <td>NaN</td>\n",
       "      <td>NaN</td>\n",
       "      <td>NaN</td>\n",
       "      <td>NaN</td>\n",
       "      <td>NaN</td>\n",
       "      <td>NaN</td>\n",
       "      <td>NaN</td>\n",
       "      <td>NaN</td>\n",
       "      <td>NaN</td>\n",
       "      <td>NaN</td>\n",
       "      <td>...</td>\n",
       "      <td>NaN</td>\n",
       "      <td>NaN</td>\n",
       "      <td>NaN</td>\n",
       "      <td>NaN</td>\n",
       "      <td>NaN</td>\n",
       "      <td>NaN</td>\n",
       "      <td>NaN</td>\n",
       "      <td>NaN</td>\n",
       "      <td>NaN</td>\n",
       "      <td>NaN</td>\n",
       "    </tr>\n",
       "    <tr>\n",
       "      <th>00080010</th>\n",
       "      <td>0.0606</td>\n",
       "      <td>0.049</td>\n",
       "      <td>0.037</td>\n",
       "      <td>0.0363</td>\n",
       "      <td>0.0266</td>\n",
       "      <td>0.0268</td>\n",
       "      <td>0.0364</td>\n",
       "      <td>0.0262</td>\n",
       "      <td>0.0281</td>\n",
       "      <td>0.0329</td>\n",
       "      <td>...</td>\n",
       "      <td>NaN</td>\n",
       "      <td>NaN</td>\n",
       "      <td>NaN</td>\n",
       "      <td>NaN</td>\n",
       "      <td>NaN</td>\n",
       "      <td>NaN</td>\n",
       "      <td>NaN</td>\n",
       "      <td>NaN</td>\n",
       "      <td>NaN</td>\n",
       "      <td>NaN</td>\n",
       "    </tr>\n",
       "    <tr>\n",
       "      <th>36547310</th>\n",
       "      <td>NaN</td>\n",
       "      <td>NaN</td>\n",
       "      <td>NaN</td>\n",
       "      <td>NaN</td>\n",
       "      <td>NaN</td>\n",
       "      <td>NaN</td>\n",
       "      <td>NaN</td>\n",
       "      <td>NaN</td>\n",
       "      <td>NaN</td>\n",
       "      <td>NaN</td>\n",
       "      <td>...</td>\n",
       "      <td>NaN</td>\n",
       "      <td>NaN</td>\n",
       "      <td>NaN</td>\n",
       "      <td>NaN</td>\n",
       "      <td>NaN</td>\n",
       "      <td>NaN</td>\n",
       "      <td>NaN</td>\n",
       "      <td>NaN</td>\n",
       "      <td>NaN</td>\n",
       "      <td>NaN</td>\n",
       "    </tr>\n",
       "  </tbody>\n",
       "</table>\n",
       "<p>5 rows × 142 columns</p>\n",
       "</div>"
      ],
      "text/plain": [
       "          01/03/1950 - 07/03/1950  07/03/1950 - 01/02/1951  \\\n",
       "36720410                      NaN                      NaN   \n",
       "05978R10                      NaN                      NaN   \n",
       "39031810                      NaN                      NaN   \n",
       "00080010                   0.0606                    0.049   \n",
       "36547310                      NaN                      NaN   \n",
       "\n",
       "          01/02/1951 - 07/02/1951  07/02/1951 - 01/01/1952  \\\n",
       "36720410                      NaN                      NaN   \n",
       "05978R10                      NaN                      NaN   \n",
       "39031810                      NaN                      NaN   \n",
       "00080010                    0.037                   0.0363   \n",
       "36547310                      NaN                      NaN   \n",
       "\n",
       "          12/31/1951 - 06/30/1952  06/30/1952 - 12/29/1952  \\\n",
       "36720410                      NaN                      NaN   \n",
       "05978R10                      NaN                      NaN   \n",
       "39031810                      NaN                      NaN   \n",
       "00080010                   0.0266                   0.0268   \n",
       "36547310                      NaN                      NaN   \n",
       "\n",
       "          12/29/1952 - 06/29/1953  06/29/1953 - 01/03/1954  \\\n",
       "36720410                      NaN                      NaN   \n",
       "05978R10                      NaN                      NaN   \n",
       "39031810                      NaN                      NaN   \n",
       "00080010                   0.0364                   0.0262   \n",
       "36547310                      NaN                      NaN   \n",
       "\n",
       "          01/04/1954 - 06/28/1954  06/28/1954 - 01/03/1955  ...  \\\n",
       "36720410                      NaN                      NaN  ...   \n",
       "05978R10                      NaN                      NaN  ...   \n",
       "39031810                      NaN                      NaN  ...   \n",
       "00080010                   0.0281                   0.0329  ...   \n",
       "36547310                      NaN                      NaN  ...   \n",
       "\n",
       "          01/04/2016 - 06/27/2016  06/27/2016 - 01/02/2017  \\\n",
       "36720410                   0.0285                   0.1213   \n",
       "05978R10                      NaN                      NaN   \n",
       "39031810                      NaN                      NaN   \n",
       "00080010                      NaN                      NaN   \n",
       "36547310                      NaN                      NaN   \n",
       "\n",
       "          01/03/2017 - 07/03/2017  07/03/2017 - 01/01/2018  \\\n",
       "36720410                   0.0052                      NaN   \n",
       "05978R10                      NaN                      NaN   \n",
       "39031810                      NaN                      NaN   \n",
       "00080010                      NaN                      NaN   \n",
       "36547310                      NaN                      NaN   \n",
       "\n",
       "          01/02/2018 - 07/02/2018  07/02/2018 - 12/31/2018  \\\n",
       "36720410                      NaN                      NaN   \n",
       "05978R10                      NaN                      NaN   \n",
       "39031810                      NaN                      NaN   \n",
       "00080010                      NaN                      NaN   \n",
       "36547310                      NaN                      NaN   \n",
       "\n",
       "          12/31/2018 - 07/01/2019  07/01/2019 - 12/30/2019  \\\n",
       "36720410                      NaN                      NaN   \n",
       "05978R10                      NaN                      NaN   \n",
       "39031810                      NaN                      NaN   \n",
       "00080010                      NaN                      NaN   \n",
       "36547310                      NaN                      NaN   \n",
       "\n",
       "          12/30/2019 - 06/29/2020  06/29/2020 - 01/03/2021  \n",
       "36720410                      NaN                      NaN  \n",
       "05978R10                      NaN                      NaN  \n",
       "39031810                      NaN                      NaN  \n",
       "00080010                      NaN                      NaN  \n",
       "36547310                      NaN                      NaN  \n",
       "\n",
       "[5 rows x 142 columns]"
      ]
     },
     "execution_count": 13,
     "metadata": {},
     "output_type": "execute_result"
    }
   ],
   "source": [
    "df_devs.head()"
   ]
  },
  {
   "cell_type": "code",
   "execution_count": 4,
   "metadata": {},
   "outputs": [
    {
     "data": {
      "image/png": "[encoded data removed]",
      "text/plain": [
       "<Figure size 432x288 with 1 Axes>"
      ]
     },
     "metadata": {
      "needs_background": "light"
     },
     "output_type": "display_data"
    }
   ],
   "source": [
    "plot, ax = plt.subplots()\n",
    "# ax.set_xlabel([per[0] for per in periods])\n",
    "df_devs.iloc[2].plot(ax=ax)\n",
    "df_devs.iloc[6].plot(ax=ax)\n",
    "ax.legend()\n",
    "plt.show()"
   ]
  },
  {
   "cell_type": "markdown",
   "metadata": {},
   "source": [
    "## Ranking\n",
    "Now that we have the data, we have 3 tasks:\n",
    "1. For each period, rank each stock in terms of lowest to highest volatility\n",
    "2. For each period, divide the stocks into deciles in terms of volatility\n",
    "3. Calculate a correlation matrix of each stock's volatility  \n",
    "\n",
    "In addition to this, we may do some modeling of movement between deciles or rankings using Markov models.  \n",
    "\n",
    "Note: `np.argsort()` sorts in _ascending_ order, meaning rank 1 will have the _highest_ volatility; to reverse this, append `[::-1]` to the end.  \n",
    "\n",
    "Further note: NaN values are maintained through the ranking/decilation process, so if a stock dips to rank 1 suddenly, that's _significant_; it doesn't just mean there was suddenly not data."
   ]
  },
  {
   "cell_type": "code",
   "execution_count": 6,
   "metadata": {},
   "outputs": [],
   "source": [
    "df_rankings = pd.DataFrame(columns=df_devs.columns)\n",
    "df_deciles = pd.DataFrame(columns=df_devs.columns)\n",
    "replace_dict = {-1: np.nan, -1.0: np.nan}\n",
    "for col in df_devs.columns:\n",
    "    argsorted = np.argsort(df_devs[col]).replace(replace_dict)[::-1]\n",
    "    df_rankings[col] = argsorted\n",
    "    df_deciles[col] = argsorted // (np.max(argsorted) / 10) + 1"
   ]
  },
  {
   "cell_type": "code",
   "execution_count": 7,
   "metadata": {},
   "outputs": [],
   "source": [
    "with open('wrds_results/rankings.csv', 'w') as file:\n",
    "    df_rankings.to_csv(file)\n",
    "with open('wrds_results/deciles.csv', 'w') as file:\n",
    "    df_deciles.to_csv(file)"
   ]
  },
  {
   "cell_type": "code",
   "execution_count": 6,
   "metadata": {
    "scrolled": false
   },
   "outputs": [
    {
     "data": {
      "image/png": "[encoded data removed]",
      "text/plain": [
       "<Figure size 720x360 with 4 Axes>"
      ]
     },
     "metadata": {
      "needs_background": "light"
     },
     "output_type": "display_data"
    }
   ],
   "source": [
    "plots, axes = plt.subplots(ncols=2, nrows=2, figsize=(10, 5))\n",
    "\n",
    "df_rankings.loc['39031810'].plot(ax=axes[0][0])\n",
    "df_deciles.loc['39031810'].plot(ax=axes[0][1], color='green')\n",
    "\n",
    "df_rankings.loc['86681020'].plot(ax=axes[1][0], color='red')\n",
    "df_deciles.loc['86681020'].plot(ax=axes[1][1], color='orange')\n",
    "\n",
    "axes[0][0].set_title('Ranking')\n",
    "axes[0][1].set_title('Decile')\n",
    "axes[1][0].set_title('Ranking')\n",
    "axes[1][1].set_title('Decile')\n",
    "\n",
    "for row in axes:\n",
    "    for col in row:\n",
    "        col.legend()\n",
    "plt.show()"
   ]
  },
  {
   "cell_type": "code",
   "execution_count": 4,
   "metadata": {
    "scrolled": true
   },
   "outputs": [
    {
     "name": "stdout",
     "output_type": "stream",
     "text": [
      "Correlation matrix complete in 0:02:08.696753\n"
     ]
    }
   ],
   "source": [
    "start_time = datetime.now()\n",
    "corr_mat = df_devs.T.corr()\n",
    "end_time = datetime.now()\n",
    "print(f'Correlation matrix complete in {str(end_time - start_time)}')"
   ]
  },
  {
   "cell_type": "code",
   "execution_count": 17,
   "metadata": {},
   "outputs": [],
   "source": [
    "period_corr = df_devs.corr()"
   ]
  },
  {
   "cell_type": "code",
   "execution_count": 38,
   "metadata": {},
   "outputs": [],
   "source": [
    "new_mat = []\n",
    "for i, (_, row) in enumerate(period_corr[:20].iterrows()):\n",
    "    row_list = row.to_list()\n",
    "    new_mat.append(row_list[i:])\n",
    "    i += 1\n",
    "    \n",
    "min_len = min([len(elt) for elt in new_mat])\n",
    "new_mat_array = np.array([elt[:min_len] for elt in new_mat])"
   ]
  },
  {
   "cell_type": "code",
   "execution_count": 1,
   "metadata": {},
   "outputs": [
    {
     "ename": "NameError",
     "evalue": "name 'new_mat_array' is not defined",
     "output_type": "error",
     "traceback": [
      "\u001b[1;31m---------------------------------------------------------------------------\u001b[0m",
      "\u001b[1;31mNameError\u001b[0m                                 Traceback (most recent call last)",
      "\u001b[1;32m<ipython-input-1-aa6b229ddf02>\u001b[0m in \u001b[0;36m<module>\u001b[1;34m\u001b[0m\n\u001b[0;32m      1\u001b[0m \u001b[0mnew_mat_corrs\u001b[0m \u001b[1;33m=\u001b[0m \u001b[1;33m[\u001b[0m\u001b[1;33m]\u001b[0m\u001b[1;33m\u001b[0m\u001b[1;33m\u001b[0m\u001b[0m\n\u001b[1;32m----> 2\u001b[1;33m \u001b[0miterator\u001b[0m \u001b[1;33m=\u001b[0m \u001b[0miter\u001b[0m\u001b[1;33m(\u001b[0m\u001b[0mnew_mat_array\u001b[0m\u001b[1;33m)\u001b[0m\u001b[1;33m\u001b[0m\u001b[1;33m\u001b[0m\u001b[0m\n\u001b[0m\u001b[0;32m      3\u001b[0m \u001b[1;32mfor\u001b[0m \u001b[0mcol\u001b[0m \u001b[1;32min\u001b[0m \u001b[0miterator\u001b[0m\u001b[1;33m:\u001b[0m\u001b[1;33m\u001b[0m\u001b[1;33m\u001b[0m\u001b[0m\n\u001b[0;32m      4\u001b[0m     \u001b[0mnew_mat_corrs\u001b[0m\u001b[1;33m.\u001b[0m\u001b[0mappend\u001b[0m\u001b[1;33m(\u001b[0m\u001b[0mnp\u001b[0m\u001b[1;33m.\u001b[0m\u001b[0mcorrcoef\u001b[0m\u001b[1;33m(\u001b[0m\u001b[0mcol\u001b[0m\u001b[1;33m,\u001b[0m \u001b[0mnext\u001b[0m\u001b[1;33m(\u001b[0m\u001b[0miterator\u001b[0m\u001b[1;33m)\u001b[0m\u001b[1;33m)\u001b[0m\u001b[1;33m[\u001b[0m\u001b[1;36m0\u001b[0m\u001b[1;33m]\u001b[0m\u001b[1;33m[\u001b[0m\u001b[1;36m1\u001b[0m\u001b[1;33m]\u001b[0m\u001b[1;33m)\u001b[0m\u001b[1;33m\u001b[0m\u001b[1;33m\u001b[0m\u001b[0m\n\u001b[0;32m      5\u001b[0m \u001b[1;33m\u001b[0m\u001b[0m\n",
      "\u001b[1;31mNameError\u001b[0m: name 'new_mat_array' is not defined"
     ]
    }
   ],
   "source": [
    "new_mat_corrs = []\n",
    "iterator = iter(new_mat_array)\n",
    "for col in iterator:\n",
    "    new_mat_corrs.append(np.corrcoef(col, next(iterator))[0][1])\n",
    "    \n",
    "len(new_mat_corrs[0])"
   ]
  },
  {
   "cell_type": "code",
   "execution_count": 2,
   "metadata": {},
   "outputs": [
    {
     "ename": "NameError",
     "evalue": "name 'plt' is not defined",
     "output_type": "error",
     "traceback": [
      "\u001b[1;31m---------------------------------------------------------------------------\u001b[0m",
      "\u001b[1;31mNameError\u001b[0m                                 Traceback (most recent call last)",
      "\u001b[1;32m<ipython-input-2-09e61872efd9>\u001b[0m in \u001b[0;36m<module>\u001b[1;34m\u001b[0m\n\u001b[1;32m----> 1\u001b[1;33m \u001b[0mfig\u001b[0m\u001b[1;33m,\u001b[0m \u001b[0max\u001b[0m \u001b[1;33m=\u001b[0m \u001b[0mplt\u001b[0m\u001b[1;33m.\u001b[0m\u001b[0msubplots\u001b[0m\u001b[1;33m(\u001b[0m\u001b[1;33m)\u001b[0m\u001b[1;33m\u001b[0m\u001b[1;33m\u001b[0m\u001b[0m\n\u001b[0m\u001b[0;32m      2\u001b[0m \u001b[0max\u001b[0m\u001b[1;33m.\u001b[0m\u001b[0mplot\u001b[0m\u001b[1;33m(\u001b[0m\u001b[0mnew_mat_corrs\u001b[0m\u001b[1;33m)\u001b[0m\u001b[1;33m\u001b[0m\u001b[1;33m\u001b[0m\u001b[0m\n\u001b[0;32m      3\u001b[0m \u001b[0mplt\u001b[0m\u001b[1;33m.\u001b[0m\u001b[0mshow\u001b[0m\u001b[1;33m(\u001b[0m\u001b[1;33m)\u001b[0m\u001b[1;33m\u001b[0m\u001b[1;33m\u001b[0m\u001b[0m\n",
      "\u001b[1;31mNameError\u001b[0m: name 'plt' is not defined"
     ]
    }
   ],
   "source": [
    "fig, ax = plt.subplots()\n",
    "ax.plot(new_mat_corrs)\n",
    "plt.show()"
   ]
  },
  {
   "cell_type": "code",
   "execution_count": 24,
   "metadata": {},
   "outputs": [
    {
     "data": {
      "text/plain": [
       "'01/03/1950 - 07/03/1950'"
      ]
     },
     "execution_count": 24,
     "metadata": {},
     "output_type": "execute_result"
    }
   ],
   "source": [
    "period_corr.index[0]"
   ]
  },
  {
   "cell_type": "code",
   "execution_count": 25,
   "metadata": {},
   "outputs": [
    {
     "data": {
      "image/png": "[encoded data removed]",
      "text/plain": [
       "<Figure size 432x288 with 1 Axes>"
      ]
     },
     "metadata": {
      "needs_background": "light"
     },
     "output_type": "display_data"
    }
   ],
   "source": [
    "period_corr.iloc[0].plot()\n",
    "plt.show()"
   ]
  },
  {
   "cell_type": "code",
   "execution_count": 5,
   "metadata": {},
   "outputs": [],
   "source": [
    "corr_mat.to_csv('wrds_results/correlation.csv')"
   ]
  },
  {
   "cell_type": "markdown",
   "metadata": {},
   "source": [
    "A note on correlation & ranking: NaN values are always ignored, so:\n",
    "- Rankings for a given period only take into account the stocks with data for that entire period\n",
    "- Correlation between two stocks only accounts for the period for which both of those stocks have data"
   ]
  },
  {
   "cell_type": "code",
   "execution_count": null,
   "metadata": {},
   "outputs": [],
   "source": [
    "sorted_correlations = np.sort(corr_mat[corr_mat < 1])"
   ]
  },
  {
   "cell_type": "code",
   "execution_count": null,
   "metadata": {},
   "outputs": [],
   "source": [
    "print(corr_mat[corr_mat.iloc[13].isnull()]) "
   ]
  },
  {
   "cell_type": "code",
   "execution_count": null,
   "metadata": {},
   "outputs": [],
   "source": []
  },
  {
   "cell_type": "markdown",
   "metadata": {},
   "source": [
    "Next steps:  \n",
    "Rank by how many deviations above/below the mean a stock is"
   ]
  },
  {
   "cell_type": "code",
   "execution_count": null,
   "metadata": {},
   "outputs": [],
   "source": []
  }
 ],
 "metadata": {
  "kernelspec": {
   "display_name": "Python 3",
   "language": "python",
   "name": "python3"
  },
  "language_info": {
   "codemirror_mode": {
    "name": "ipython",
    "version": 3
   },
   "file_extension": ".py",
   "mimetype": "text/x-python",
   "name": "python",
   "nbconvert_exporter": "python",
   "pygments_lexer": "ipython3",
   "version": "3.8.5"
  }
 },
 "nbformat": 4,
 "nbformat_minor": 4
}
